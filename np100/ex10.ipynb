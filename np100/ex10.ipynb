{
 "cells": [
  {
   "cell_type": "markdown",
   "metadata": {},
   "source": [
    "# Mayavi\n",
    "\n",
    "Mayavi2完全用Python编写，因此它不但是一个方便实用的可视化软件，而且可以方便地用Python编 写扩展，嵌入到用户编写的Python程序中，或者直接使用其面向脚本的API:mlab快速绘制三维图。"
   ]
  },
  {
   "cell_type": "code",
   "execution_count": 1,
   "metadata": {},
   "outputs": [],
   "source": [
    "%matplotlib inline\n",
    "import numpy as np\n",
    "from mayavi import mlab\n",
    "x, y = np.ogrid[-2:2:20j, -2:2:20j]\n",
    "z = x * np.exp( - x**2 - y**2)\n",
    "pl = mlab.surf(x, y, z, warp_scale=\"auto\")\n",
    "mlab.axes(xlabel='x', ylabel='y', zlabel='z')\n",
    "mlab.outline(pl)\n",
    "mlab.show()"
   ]
  },
  {
   "cell_type": "markdown",
   "metadata": {},
   "source": [
    "![](http://ww4.sinaimg.cn/large/006tNc79gy1g56v704y1cj30sg0qwmzw.jpg)"
   ]
  },
  {
   "cell_type": "code",
   "execution_count": 8,
   "metadata": {},
   "outputs": [],
   "source": [
    "from numpy import *\n",
    "from mayavi import mlab\n",
    "# Create the data.\n",
    "dphi, dtheta = pi/20.0, pi/20.0\n",
    "[phi,theta] = mgrid[0:pi+dphi*1.5:dphi,0:2*pi+dtheta*1.5:dtheta]\n",
    "m0 = 4; m1 = 3; m2 = 2; m3 = 3; m4 = 6; m5 = 2; m6 = 6; m7 = 4;\n",
    "r = sin(m0*phi)**m1 + cos(m2*phi)**m3 + sin(m4*theta)**m5 + cos(m6*theta)**m7\n",
    "x = r*sin(phi)*cos(theta)\n",
    "y = r*cos(phi)\n",
    "z = r*sin(phi)*sin(theta)\n",
    "# View it.\n",
    "s = mlab.mesh(x, y, z, representation=\"wireframe\", line_width=1.0 )\n",
    "mlab.show()"
   ]
  },
  {
   "cell_type": "markdown",
   "metadata": {},
   "source": [
    "![](http://ww1.sinaimg.cn/large/006tNc79gy1g56v7v9f4ej30m80ko74y.jpg)"
   ]
  },
  {
   "cell_type": "code",
   "execution_count": 12,
   "metadata": {},
   "outputs": [],
   "source": [
    "#简单的例子\n",
    "x = [[-1,1,1,-1,-1],\n",
    "[-1,1,1,-1,-1]]\n",
    "y = [[-1,-1,-1,-1,-1],\n",
    "[1,1,1,1, 1]]\n",
    "z = [[1,1,-1,-1,1],\n",
    "[1,1,-1,-1,1]]\n",
    "s = mlab.mesh(x, y, z, \n",
    "              representation=\"wireframe\", \n",
    "              line_width=1.0 \n",
    "             )\n",
    "mlab.show()"
   ]
  },
  {
   "cell_type": "markdown",
   "metadata": {},
   "source": [
    "![](http://ww1.sinaimg.cn/large/006tNc79gy1g56vau4nm0j30m80ko74e.jpg)"
   ]
  },
  {
   "cell_type": "code",
   "execution_count": 1,
   "metadata": {},
   "outputs": [
    {
     "data": {
      "text/plain": [
       "True"
      ]
     },
     "execution_count": 1,
     "metadata": {},
     "output_type": "execute_result"
    }
   ],
   "source": [
    "from traits.api import *\n",
    "from traitsui.api import *\n",
    "from tvtk.pyface.scene_editor import SceneEditor\n",
    "from mayavi.tools.mlab_scene_model import MlabSceneModel \n",
    "from mayavi.core.ui.mayavi_scene import MayaviScene\n",
    "import numpy as np\n",
    "from mayavi import mlab\n",
    "class DemoApp(HasTraits):\n",
    "    plotbutton = Button(u\"绘图\")\n",
    "    scene = Instance(MlabSceneModel, ()) # mayavi场景\n",
    "    view = View(\n",
    "        VGroup(\n",
    "        Item(name='scene',\n",
    "            editor=SceneEditor(scene_class=MayaviScene), # 设置mayavi的编辑器 \n",
    "            resizable=True,\n",
    "            height=250,\n",
    "            width=400\n",
    "            ),\n",
    "            'plotbutton',\n",
    "            show_labels=False\n",
    "    ),\n",
    "    title=u\"在TraitsUI中嵌入Mayavi\" )\n",
    "    def _plotbutton_fired(self):\n",
    "        self.plot()\n",
    "    def plot(self):\n",
    "        g = self.scene.mlab.test_mesh()\n",
    "#         # 产生三维网格\n",
    "#         x, y, z = mgrid[\n",
    "#             self.x0:self.x1:1j*self.points,\n",
    "#             self.y0:self.y1:1j*self.points,\n",
    "#             self.z0:self.z1:1j*self.points]\n",
    "#         scalars = eval(self.function) # 根据函数计算标量场的值\n",
    "#         self.scene.mlab.clf() # 清空当前场景\n",
    "#         # 绘制等值面\n",
    "#         g = self.scene.mlab.contour3d(x, y, z, scalars, contours=8, transparent=True) \n",
    "#         g.contour.auto_contours = self.autocontour\n",
    "#         self.scene.mlab.axes() # 添加坐标轴\n",
    "#         # 添加一个X-Y的切面\n",
    "#         s = self.scene.mlab.pipeline.scalar_cut_plane(g)\n",
    "#         cutpoint = (self.x0+self.x1)/2, (self.y0+self.y1)/2, (self.z0+self.z1)/2\n",
    "#         s.implicit_plane.normal = (0,0,1) # x cut\n",
    "#         s.implicit_plane.origin = cutpoint\n",
    "#         self.g = g\n",
    "#         self.scalars = scalars\n",
    "#         # 计算标量场的值的范围 \n",
    "#         self.v0 = np.min(scalars) \n",
    "#         self.v1 = np.max(scalars)\n",
    "#         self.g.contour.auto_contours = self.autocontour\n",
    "#         if not self.g.contour.auto_contours:\n",
    "#             self.g.contour.contours = [self.contour]\n",
    "app = DemoApp()\n",
    "app.configure_traits()"
   ]
  },
  {
   "cell_type": "code",
   "execution_count": null,
   "metadata": {},
   "outputs": [],
   "source": []
  },
  {
   "cell_type": "code",
   "execution_count": null,
   "metadata": {},
   "outputs": [],
   "source": []
  },
  {
   "cell_type": "code",
   "execution_count": null,
   "metadata": {},
   "outputs": [],
   "source": []
  },
  {
   "cell_type": "code",
   "execution_count": null,
   "metadata": {},
   "outputs": [],
   "source": []
  },
  {
   "cell_type": "code",
   "execution_count": null,
   "metadata": {},
   "outputs": [],
   "source": []
  },
  {
   "cell_type": "code",
   "execution_count": null,
   "metadata": {},
   "outputs": [],
   "source": []
  },
  {
   "cell_type": "code",
   "execution_count": null,
   "metadata": {},
   "outputs": [],
   "source": []
  },
  {
   "cell_type": "code",
   "execution_count": null,
   "metadata": {},
   "outputs": [],
   "source": []
  },
  {
   "cell_type": "code",
   "execution_count": null,
   "metadata": {},
   "outputs": [],
   "source": []
  },
  {
   "cell_type": "code",
   "execution_count": null,
   "metadata": {},
   "outputs": [],
   "source": []
  },
  {
   "cell_type": "code",
   "execution_count": null,
   "metadata": {},
   "outputs": [],
   "source": []
  },
  {
   "cell_type": "code",
   "execution_count": null,
   "metadata": {},
   "outputs": [],
   "source": []
  },
  {
   "cell_type": "code",
   "execution_count": null,
   "metadata": {},
   "outputs": [],
   "source": []
  },
  {
   "cell_type": "code",
   "execution_count": null,
   "metadata": {},
   "outputs": [],
   "source": []
  },
  {
   "cell_type": "code",
   "execution_count": null,
   "metadata": {},
   "outputs": [],
   "source": []
  },
  {
   "cell_type": "code",
   "execution_count": null,
   "metadata": {},
   "outputs": [],
   "source": []
  },
  {
   "cell_type": "code",
   "execution_count": null,
   "metadata": {},
   "outputs": [],
   "source": []
  },
  {
   "cell_type": "code",
   "execution_count": null,
   "metadata": {},
   "outputs": [],
   "source": []
  },
  {
   "cell_type": "code",
   "execution_count": null,
   "metadata": {},
   "outputs": [],
   "source": []
  }
 ],
 "metadata": {
  "kernelspec": {
   "display_name": "Python 3",
   "language": "python",
   "name": "python3"
  },
  "language_info": {
   "codemirror_mode": {
    "name": "ipython",
    "version": 3
   },
   "file_extension": ".py",
   "mimetype": "text/x-python",
   "name": "python",
   "nbconvert_exporter": "python",
   "pygments_lexer": "ipython3",
   "version": "3.6.8"
  }
 },
 "nbformat": 4,
 "nbformat_minor": 2
}
