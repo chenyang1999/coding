{
 "cells": [
  {
   "cell_type": "markdown",
   "metadata": {},
   "source": [
    "# TraitsUI-轻松制作用\n",
    "Python有着丰富的界面开发库，除了缺省安装的Tkinter以外，wxPython、pyQt4等都是非常优秀的 界面开发库。但是它们有一个共同的问题:需要开发者掌握众多的API函数，许多细节，例如配置控件 的属性、位置以及事件响应都需要开发者一一处理。\n",
    "在开发科学计算程序时，我们希望快速实现一个够用的界面，让用户能够交互式的处理数据，而又不 希望在界面制作上花费过多的精力。以traits为基础、以Model-View-Controller为设计思想的TraitUI 库就是实现这一理想的最佳伴侣。"
   ]
  },
  {
   "cell_type": "markdown",
   "metadata": {},
   "source": [
    "from traits.api import HasTraits, Str, Int\n",
    "\n",
    "class SimpleEmployee(HasTraits): \n",
    "    first_name = Str\n",
    "    last_name = Str\n",
    "    department = Str\n",
    "    employee_number = Str\n",
    "    salary = Int\n",
    "sam = SimpleEmployee()\n",
    "sam.configure_traits()"
   ]
  },
  {
   "cell_type": "code",
   "execution_count": 19,
   "metadata": {},
   "outputs": [
    {
     "data": {
      "text/plain": [
       "True"
      ]
     },
     "execution_count": 19,
     "metadata": {},
     "output_type": "execute_result"
    }
   ],
   "source": [
    "from traits.api import *\n",
    "from traitsui.api import *\n",
    "class SimpleEmployee(HasTraits): \n",
    "    first_name = Str\n",
    "    last_name = Str\n",
    "    department = Str\n",
    "    employee_number = Str\n",
    "    salary = Int\n",
    "    bonus = Int\n",
    "view1 = View(\n",
    "    Group(\n",
    "    Item(name = 'employee_number', label=u'编号'),\n",
    "    Item(name = 'department', label=u\"部门\", tooltip=u\"在哪个部门干活\"), Item(name = 'last_name', label=u\"姓\"),\n",
    "    Item(name = 'first_name', label=u\"名\"),\n",
    "    label = u'个人信息',\n",
    "    show_border = True\n",
    "    ), \n",
    "    Group(\n",
    "        Item(name = 'salary', label=u\"工资\"), \n",
    "        Item(name = 'bonus', label=u\"奖金\"), \n",
    "        label = u'收入',\n",
    "        show_border = True\n",
    "    ) \n",
    ")\n",
    "sam = SimpleEmployee()\n",
    "sam.configure_traits(view=view1)"
   ]
  },
  {
   "cell_type": "markdown",
   "metadata": {},
   "source": [
    "view2 = View( Group( view1.content ) )\n",
    "sam.configure_traits(view=view2)"
   ]
  },
  {
   "cell_type": "markdown",
   "metadata": {},
   "source": [
    "![](http://ww4.sinaimg.cn/large/006tNc79gy1g56uxm8d20j30u00vj41b.jpg)"
   ]
  },
  {
   "cell_type": "code",
   "execution_count": null,
   "metadata": {},
   "outputs": [],
   "source": []
  },
  {
   "cell_type": "code",
   "execution_count": null,
   "metadata": {},
   "outputs": [],
   "source": []
  },
  {
   "cell_type": "code",
   "execution_count": null,
   "metadata": {},
   "outputs": [],
   "source": []
  },
  {
   "cell_type": "code",
   "execution_count": null,
   "metadata": {},
   "outputs": [],
   "source": []
  },
  {
   "cell_type": "code",
   "execution_count": null,
   "metadata": {},
   "outputs": [],
   "source": []
  },
  {
   "cell_type": "code",
   "execution_count": null,
   "metadata": {},
   "outputs": [],
   "source": []
  },
  {
   "cell_type": "code",
   "execution_count": null,
   "metadata": {},
   "outputs": [],
   "source": []
  },
  {
   "cell_type": "code",
   "execution_count": null,
   "metadata": {},
   "outputs": [],
   "source": []
  },
  {
   "cell_type": "code",
   "execution_count": null,
   "metadata": {},
   "outputs": [],
   "source": []
  },
  {
   "cell_type": "code",
   "execution_count": null,
   "metadata": {},
   "outputs": [],
   "source": []
  },
  {
   "cell_type": "code",
   "execution_count": null,
   "metadata": {},
   "outputs": [],
   "source": []
  },
  {
   "cell_type": "code",
   "execution_count": null,
   "metadata": {},
   "outputs": [],
   "source": []
  },
  {
   "cell_type": "code",
   "execution_count": null,
   "metadata": {},
   "outputs": [],
   "source": []
  },
  {
   "cell_type": "code",
   "execution_count": null,
   "metadata": {},
   "outputs": [],
   "source": []
  },
  {
   "cell_type": "code",
   "execution_count": null,
   "metadata": {},
   "outputs": [],
   "source": []
  },
  {
   "cell_type": "code",
   "execution_count": null,
   "metadata": {},
   "outputs": [],
   "source": []
  },
  {
   "cell_type": "code",
   "execution_count": null,
   "metadata": {},
   "outputs": [],
   "source": []
  },
  {
   "cell_type": "code",
   "execution_count": null,
   "metadata": {},
   "outputs": [],
   "source": []
  },
  {
   "cell_type": "code",
   "execution_count": null,
   "metadata": {},
   "outputs": [],
   "source": []
  },
  {
   "cell_type": "code",
   "execution_count": null,
   "metadata": {},
   "outputs": [],
   "source": []
  },
  {
   "cell_type": "code",
   "execution_count": null,
   "metadata": {},
   "outputs": [],
   "source": []
  },
  {
   "cell_type": "code",
   "execution_count": null,
   "metadata": {},
   "outputs": [],
   "source": []
  },
  {
   "cell_type": "code",
   "execution_count": null,
   "metadata": {},
   "outputs": [],
   "source": []
  },
  {
   "cell_type": "code",
   "execution_count": null,
   "metadata": {},
   "outputs": [],
   "source": []
  },
  {
   "cell_type": "code",
   "execution_count": null,
   "metadata": {},
   "outputs": [],
   "source": []
  }
 ],
 "metadata": {
  "kernelspec": {
   "display_name": "Python 3",
   "language": "python",
   "name": "python3"
  },
  "language_info": {
   "codemirror_mode": {
    "name": "ipython",
    "version": 3
   },
   "file_extension": ".py",
   "mimetype": "text/x-python",
   "name": "python",
   "nbconvert_exporter": "python",
   "pygments_lexer": "ipython3",
   "version": "3.6.8"
  }
 },
 "nbformat": 4,
 "nbformat_minor": 2
}
