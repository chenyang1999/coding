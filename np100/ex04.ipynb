{
 "cells": [
  {
   "cell_type": "code",
   "execution_count": 2,
   "metadata": {},
   "outputs": [],
   "source": [
    "# SymPy-符号运算\n",
    "from sympy import *"
   ]
  },
  {
   "cell_type": "markdown",
   "metadata": {},
   "source": [
    "![](http://ww3.sinaimg.cn/large/006tNc79gy1g55nl0grioj318k0c4gmo.jpg)"
   ]
  },
  {
   "cell_type": "code",
   "execution_count": 5,
   "metadata": {},
   "outputs": [
    {
     "data": {
      "text/plain": [
       "0"
      ]
     },
     "execution_count": 5,
     "metadata": {},
     "output_type": "execute_result"
    }
   ],
   "source": [
    "E**(I*pi)+1"
   ]
  },
  {
   "cell_type": "markdown",
   "metadata": {},
   "source": [
    "![](http://ww4.sinaimg.cn/large/006tNc79gy1g55nlnmggfj318404s749.jpg)"
   ]
  },
  {
   "cell_type": "code",
   "execution_count": 9,
   "metadata": {},
   "outputs": [
    {
     "data": {
      "text/plain": [
       "I*exp(-im(x))*sin(re(x)) + exp(-im(x))*cos(re(x))"
      ]
     },
     "execution_count": 9,
     "metadata": {},
     "output_type": "execute_result"
    }
   ],
   "source": [
    "x = Symbol('x')\n",
    "expand( E**(I*x), complex=True)"
   ]
  },
  {
   "cell_type": "code",
   "execution_count": 10,
   "metadata": {},
   "outputs": [
    {
     "data": {
      "text/plain": [
       "I*sin(x) + cos(x)"
      ]
     },
     "execution_count": 10,
     "metadata": {},
     "output_type": "execute_result"
    }
   ],
   "source": [
    "x = Symbol(\"x\", real=True)\n",
    "expand(exp(I*x), complex=True)"
   ]
  },
  {
   "cell_type": "code",
   "execution_count": 11,
   "metadata": {},
   "outputs": [
    {
     "name": "stdout",
     "output_type": "stream",
     "text": [
      "           2      3    4      5     6      7      8        9          \n",
      "          x    ⅈ⋅x    x    ⅈ⋅x     x    ⅈ⋅x      x      ⅈ⋅x      ⎛ 10⎞\n",
      "1 + ⅈ⋅x - ── - ──── + ── + ──── - ─── - ──── + ───── + ────── + O⎝x  ⎠\n",
      "          2     6     24   120    720   5040   40320   362880         \n"
     ]
    }
   ],
   "source": [
    "tmp = series(exp(I*x), x, 0, 10)\n",
    "pprint(tmp)"
   ]
  },
  {
   "cell_type": "markdown",
   "metadata": {},
   "source": [
    "series是泰勒展开函数，pprint将公式用更好看的格式打印出来。下面分别获得tmp的实部和虚部，分 别和cos(x)和sin(x)的展开公式进行比较:"
   ]
  },
  {
   "cell_type": "code",
   "execution_count": 12,
   "metadata": {},
   "outputs": [
    {
     "name": "stdout",
     "output_type": "stream",
     "text": [
      "   8      6    4    2                 \n",
      "  x      x    x    x      ⎛ ⎛ 10⎞⎞    \n",
      "───── - ─── + ── - ── + re⎝O⎝x  ⎠⎠ + 1\n",
      "40320   720   24   2                  \n"
     ]
    }
   ],
   "source": [
    "pprint(re(tmp))"
   ]
  },
  {
   "cell_type": "code",
   "execution_count": 13,
   "metadata": {},
   "outputs": [
    {
     "name": "stdout",
     "output_type": "stream",
     "text": [
      "     2    4     6      8          \n",
      "    x    x     x      x      ⎛ 10⎞\n",
      "1 - ── + ── - ─── + ───── + O⎝x  ⎠\n",
      "    2    24   720   40320         \n"
     ]
    }
   ],
   "source": [
    "pprint( series( cos(x), x, 0, 10) )"
   ]
  },
  {
   "cell_type": "code",
   "execution_count": 14,
   "metadata": {},
   "outputs": [
    {
     "name": "stdout",
     "output_type": "stream",
     "text": [
      "   9       7      5    3                 \n",
      "  x       x      x    x          ⎛ ⎛ 10⎞⎞\n",
      "────── - ──── + ─── - ── + x + im⎝O⎝x  ⎠⎠\n",
      "362880   5040   120   6                  \n"
     ]
    }
   ],
   "source": [
    "pprint(im(tmp))"
   ]
  },
  {
   "cell_type": "code",
   "execution_count": 15,
   "metadata": {},
   "outputs": [
    {
     "name": "stdout",
     "output_type": "stream",
     "text": [
      "     3     5     7       9           \n",
      "    x     x     x       x       ⎛ 10⎞\n",
      "x - ── + ─── - ──── + ────── + O⎝x  ⎠\n",
      "    6    120   5040   362880         \n"
     ]
    }
   ],
   "source": [
    "pprint(series(sin(x), x, 0, 10))"
   ]
  },
  {
   "cell_type": "markdown",
   "metadata": {},
   "source": [
    "# 符号积分"
   ]
  },
  {
   "cell_type": "code",
   "execution_count": 16,
   "metadata": {},
   "outputs": [
    {
     "data": {
      "text/plain": [
       "-x*cos(x) + sin(x)"
      ]
     },
     "execution_count": 16,
     "metadata": {},
     "output_type": "execute_result"
    }
   ],
   "source": [
    "# 不定积分\n",
    "integrate(x*sin(x), x)"
   ]
  },
  {
   "cell_type": "code",
   "execution_count": 17,
   "metadata": {},
   "outputs": [
    {
     "data": {
      "text/plain": [
       "-2*pi"
      ]
     },
     "execution_count": 17,
     "metadata": {},
     "output_type": "execute_result"
    }
   ],
   "source": [
    "integrate(x*sin(x), (x, 0, 2*pi))"
   ]
  },
  {
   "cell_type": "markdown",
   "metadata": {},
   "source": [
    "![](http://ww3.sinaimg.cn/large/006tNc79gy1g55nqtyz8hj318y08uaas.jpg)"
   ]
  },
  {
   "cell_type": "code",
   "execution_count": 18,
   "metadata": {},
   "outputs": [
    {
     "data": {
      "text/plain": [
       "2*Piecewise((Integral(Piecewise((-I*r/sqrt(-1 + x**2/r**2) + 3*I*x**2/(2*r*sqrt(-1 + x**2/r**2)) + I*x**2/(2*r*(-1 + x**2/r**2)**(3/2)) - I*x**4/(2*r**3*(-1 + x**2/r**2)**(3/2)), Abs(x**2/r**2) > 1), (r*sqrt(1 - x**2/r**2)/2 + r/(2*sqrt(1 - x**2/r**2)) - x**2/(2*r*sqrt(1 - x**2/r**2)), True)), (x, -r, r)), r > -r), (-Integral(Piecewise((-I*r/sqrt(-1 + x**2/r**2) + 3*I*x**2/(2*r*sqrt(-1 + x**2/r**2)) + I*x**2/(2*r*(-1 + x**2/r**2)**(3/2)) - I*x**4/(2*r**3*(-1 + x**2/r**2)**(3/2)), Abs(x**2/r**2) > 1), (r*sqrt(1 - x**2/r**2)/2 + r/(2*sqrt(1 - x**2/r**2)) - x**2/(2*r*sqrt(1 - x**2/r**2)), True)), (x, r, -r)), True))"
      ]
     },
     "execution_count": 18,
     "metadata": {},
     "output_type": "execute_result"
    }
   ],
   "source": [
    ">>> x, y, r = symbols('x,y,r')\n",
    ">>> 2 * integrate(sqrt(r*r-x**2), (x, -r, r))"
   ]
  },
  {
   "cell_type": "code",
   "execution_count": 20,
   "metadata": {},
   "outputs": [
    {
     "name": "stdout",
     "output_type": "stream",
     "text": [
      "pi*r**2\n"
     ]
    }
   ],
   "source": [
    "r = symbols('r', positive=True)\n",
    "circle_area = 2 * integrate(sqrt(r**2-x**2), (x, -r, r))\n",
    "print(circle_area)"
   ]
  },
  {
   "cell_type": "markdown",
   "metadata": {},
   "source": [
    "![](http://ww2.sinaimg.cn/large/006tNc79gy1g55nsiduc7j30ps0euwf9.jpg)"
   ]
  },
  {
   "cell_type": "code",
   "execution_count": null,
   "metadata": {},
   "outputs": [],
   "source": []
  },
  {
   "cell_type": "code",
   "execution_count": null,
   "metadata": {},
   "outputs": [],
   "source": []
  },
  {
   "cell_type": "code",
   "execution_count": null,
   "metadata": {},
   "outputs": [],
   "source": []
  }
 ],
 "metadata": {
  "kernelspec": {
   "display_name": "Python 3",
   "language": "python",
   "name": "python3"
  },
  "language_info": {
   "codemirror_mode": {
    "name": "ipython",
    "version": 3
   },
   "file_extension": ".py",
   "mimetype": "text/x-python",
   "name": "python",
   "nbconvert_exporter": "python",
   "pygments_lexer": "ipython3",
   "version": "3.6.8"
  }
 },
 "nbformat": 4,
 "nbformat_minor": 2
}
