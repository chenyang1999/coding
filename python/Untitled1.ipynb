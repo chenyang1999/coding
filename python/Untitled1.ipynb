{
 "cells": [
  {
   "cell_type": "code",
   "execution_count": 1,
   "metadata": {},
   "outputs": [
    {
     "name": "stderr",
     "output_type": "stream",
     "text": [
      "/anaconda3/lib/python3.6/site-packages/h5py/__init__.py:36: FutureWarning: Conversion of the second argument of issubdtype from `float` to `np.floating` is deprecated. In future, it will be treated as `np.float64 == np.dtype(float).type`.\n",
      "  from ._conv import register_converters as _register_converters\n",
      "Using TensorFlow backend.\n"
     ]
    }
   ],
   "source": [
    "#coding=utf-8\n",
    "from keras.models import Sequential\n",
    "from keras.layers import Dense,Flatten\n",
    "from keras.layers.convolutional import Conv2D, MaxPooling2D\n",
    "from keras.utils.np_utils import to_categorical\n",
    "from keras.datasets import mnist\n",
    "from keras.utils import plot_model"
   ]
  },
  {
   "cell_type": "code",
   "execution_count": 2,
   "metadata": {},
   "outputs": [
    {
     "name": "stdout",
     "output_type": "stream",
     "text": [
      "(60000, 28, 28) (60000,)\n",
      "(60000, 28, 28, 1) (60000,)\n",
      "(60000, 28, 28, 1) (60000, 10)\n"
     ]
    }
   ],
   "source": [
    "(X_train,y_train),(X_test,y_test)=mnist.load_data()\n",
    "print(X_train.shape,y_train.shape)\n",
    "X_train = X_train.reshape(-1,28, 28,1)\n",
    "X_test = X_test.reshape(-1, 28, 28,1)\n",
    "print(X_train.shape,y_train.shape)\n",
    "y_train = to_categorical(y_train, num_classes=10)\n",
    "y_test = to_categorical(y_test, num_classes=10)\n",
    "print(X_train.shape,y_train.shape)"
   ]
  },
  {
   "cell_type": "code",
   "execution_count": 3,
   "metadata": {},
   "outputs": [
    {
     "name": "stdout",
     "output_type": "stream",
     "text": [
      "_________________________________________________________________\n",
      "Layer (type)                 Output Shape              Param #   \n",
      "=================================================================\n",
      "conv2d_1 (Conv2D)            (None, 26, 26, 6)         60        \n",
      "_________________________________________________________________\n",
      "max_pooling2d_1 (MaxPooling2 (None, 13, 13, 6)         0         \n",
      "_________________________________________________________________\n",
      "conv2d_2 (Conv2D)            (None, 11, 11, 16)        880       \n",
      "_________________________________________________________________\n",
      "max_pooling2d_2 (MaxPooling2 (None, 5, 5, 16)          0         \n",
      "_________________________________________________________________\n",
      "conv2d_3 (Conv2D)            (None, 1, 1, 120)         48120     \n",
      "_________________________________________________________________\n",
      "flatten_1 (Flatten)          (None, 120)               0         \n",
      "_________________________________________________________________\n",
      "dense_1 (Dense)              (None, 84)                10164     \n",
      "_________________________________________________________________\n",
      "dense_2 (Dense)              (None, 10)                850       \n",
      "=================================================================\n",
      "Total params: 60,074\n",
      "Trainable params: 60,074\n",
      "Non-trainable params: 0\n",
      "_________________________________________________________________\n"
     ]
    }
   ],
   "source": [
    "model = Sequential()\n",
    "#layer2\n",
    "model.add(Conv2D(6, (3,3),strides=(1,1),input_shape=X_train.shape[1:],data_format='channels_last',padding='valid',activation='relu',kernel_initializer='uniform'))\n",
    "#layer3\n",
    "model.add(MaxPooling2D((2,2)))\n",
    "#layer4\n",
    "model.add(Conv2D(16, (3,3),strides=(1,1),data_format='channels_last',padding='valid',activation='relu',kernel_initializer='uniform'))\n",
    "#layer5\n",
    "model.add(MaxPooling2D(2,2))\n",
    "#layer6\n",
    "model.add(Conv2D(120, (5,5),strides=(1,1),data_format='channels_last',padding='valid',activation='relu',kernel_initializer='uniform'))\n",
    "model.add(Flatten())\n",
    "#layer7\n",
    "model.add(Dense(84,activation='relu'))\n",
    "#layer8\n",
    "model.add(Dense(10,activation='softmax'))\n",
    "model.compile(optimizer='sgd',loss='categorical_crossentropy',metrics=['accuracy'])\n",
    "model.summary()"
   ]
  },
  {
   "cell_type": "code",
   "execution_count": 4,
   "metadata": {},
   "outputs": [
    {
     "name": "stdout",
     "output_type": "stream",
     "text": [
      "train____________\n",
      "Epoch 1/10\n",
      "60000/60000 [==============================] - 11s 176us/step - loss: 0.3344 - acc: 0.8952\n",
      "Epoch 2/10\n",
      "60000/60000 [==============================] - 10s 167us/step - loss: 0.0851 - acc: 0.9736\n",
      "Epoch 3/10\n",
      "60000/60000 [==============================] - 10s 168us/step - loss: 0.0617 - acc: 0.9810\n",
      "Epoch 4/10\n",
      "60000/60000 [==============================] - 10s 167us/step - loss: 0.0495 - acc: 0.9844\n",
      "Epoch 5/10\n",
      "60000/60000 [==============================] - 10s 167us/step - loss: 0.0413 - acc: 0.9871\n",
      "Epoch 6/10\n",
      "60000/60000 [==============================] - 10s 168us/step - loss: 0.0358 - acc: 0.9887\n",
      "Epoch 7/10\n",
      "60000/60000 [==============================] - 10s 168us/step - loss: 0.0304 - acc: 0.9899\n",
      "Epoch 8/10\n",
      "60000/60000 [==============================] - 10s 168us/step - loss: 0.0261 - acc: 0.9917\n",
      "Epoch 9/10\n",
      "60000/60000 [==============================] - 10s 168us/step - loss: 0.0235 - acc: 0.9925\n",
      "Epoch 10/10\n",
      "60000/60000 [==============================] - 10s 168us/step - loss: 0.0211 - acc: 0.9931\n",
      "test_____________\n",
      "10000/10000 [==============================] - 1s 101us/step\n",
      "loss= 0.05238725029124471\n",
      "accuracy= 0.9867\n"
     ]
    }
   ],
   "source": [
    "model.compile(optimizer='sgd',loss='categorical_crossentropy',metrics=['accuracy'])\n",
    "print(\"train____________\")\n",
    "model.fit(X_train,y_train,epochs=10,batch_size=128,)\n",
    "print(\"test_____________\")\n",
    "loss,acc=model.evaluate(X_test,y_test)\n",
    "print(\"loss=\",loss)\n",
    "print(\"accuracy=\",acc)\n"
   ]
  },
  {
   "cell_type": "code",
   "execution_count": 5,
   "metadata": {},
   "outputs": [
    {
     "data": {
      "text/plain": [
       "<Figure size 640x480 with 1 Axes>"
      ]
     },
     "metadata": {},
     "output_type": "display_data"
    }
   ],
   "source": [
    "import matplotlib.pyplot as plt\n",
    "import matplotlib.image as mpimg \n",
    "from keras.utils import plot_model\n",
    "plot_model(model,to_file='example.png',show_shapes=True)\n",
    "lena = mpimg.imread('example.png') # 读取和代码处于同一目录下的 lena.png\n",
    "# 此时 lena 就已经是一个 np.array 了，可以对它进行任意处理\n",
    "lena.shape #(512, 512, 3)\n",
    "plt.imshow(lena) # 显示图片\n",
    "plt.axis('off') # 不显示坐标轴\n",
    "plt.show()"
   ]
  }
 ],
 "metadata": {
  "kernelspec": {
   "display_name": "Python 3",
   "language": "python",
   "name": "python3"
  },
  "language_info": {
   "codemirror_mode": {
    "name": "ipython",
    "version": 3
   },
   "file_extension": ".py",
   "mimetype": "text/x-python",
   "name": "python",
   "nbconvert_exporter": "python",
   "pygments_lexer": "ipython3",
   "version": "3.6.5"
  }
 },
 "nbformat": 4,
 "nbformat_minor": 2
}
