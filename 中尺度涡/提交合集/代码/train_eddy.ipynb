{
 "cells": [
  {
   "cell_type": "markdown",
   "metadata": {},
   "source": [
    "# Mask R-CNN - Train on Eddy Dataset\n",
    "\n",
    "The code of the *Eddy* dataset is included below. "
   ]
  },
  {
   "cell_type": "code",
   "execution_count": 1,
   "metadata": {},
   "outputs": [
    {
     "name": "stderr",
     "output_type": "stream",
     "text": [
      "/home/ouc/anaconda3/lib/python3.6/site-packages/h5py/__init__.py:34: FutureWarning: Conversion of the second argument of issubdtype from `float` to `np.floating` is deprecated. In future, it will be treated as `np.float64 == np.dtype(float).type`.\n",
      "  from ._conv import register_converters as _register_converters\n",
      "Using TensorFlow backend.\n"
     ]
    }
   ],
   "source": [
    "import os\n",
    "import sys\n",
    "import random\n",
    "import math\n",
    "import re\n",
    "import time\n",
    "import numpy as np\n",
    "import cv2\n",
    "import matplotlib\n",
    "import matplotlib.pyplot as plt\n",
    "from PIL import Image\n",
    "\n",
    "# Root directory of the project\n",
    "ROOT_DIR = os.path.abspath(\"../../\")\n",
    "\n",
    "# Import Mask RCNN\n",
    "sys.path.append(ROOT_DIR)  # To find local version of the library\n",
    "from mrcnn.config import Config\n",
    "from mrcnn import utils\n",
    "import mrcnn.model as modellib\n",
    "from mrcnn import visualize\n",
    "from mrcnn.model import log\n",
    "\n",
    "%matplotlib inline \n",
    "\n",
    "# Directory to save logs and trained model\n",
    "MODEL_DIR = os.path.join(ROOT_DIR, \"logs\")\n",
    "\n",
    "# Local path to trained weights file\n",
    "COCO_MODEL_PATH = os.path.join(ROOT_DIR, \"mask_rcnn_coco.h5\")\n",
    "# Download COCO trained weights from Releases if needed\n",
    "if not os.path.exists(COCO_MODEL_PATH):\n",
    "    utils.download_trained_weights(COCO_MODEL_PATH)"
   ]
  },
  {
   "cell_type": "markdown",
   "metadata": {},
   "source": [
    "## Configurations"
   ]
  },
  {
   "cell_type": "code",
   "execution_count": 2,
   "metadata": {},
   "outputs": [
    {
     "name": "stdout",
     "output_type": "stream",
     "text": [
      "\n",
      "Configurations:\n",
      "BACKBONE                       resnet101\n",
      "BACKBONE_STRIDES               [4, 8, 16, 32, 64]\n",
      "BATCH_SIZE                     8\n",
      "BBOX_STD_DEV                   [0.1 0.1 0.2 0.2]\n",
      "COMPUTE_BACKBONE_SHAPE         None\n",
      "DETECTION_MAX_INSTANCES        100\n",
      "DETECTION_MIN_CONFIDENCE       0.7\n",
      "DETECTION_NMS_THRESHOLD        0.3\n",
      "FPN_CLASSIF_FC_LAYERS_SIZE     1024\n",
      "GPU_COUNT                      1\n",
      "GRADIENT_CLIP_NORM             5.0\n",
      "IMAGES_PER_GPU                 8\n",
      "IMAGE_CHANNEL_COUNT            3\n",
      "IMAGE_MAX_DIM                  128\n",
      "IMAGE_META_SIZE                15\n",
      "IMAGE_MIN_DIM                  128\n",
      "IMAGE_MIN_SCALE                0\n",
      "IMAGE_RESIZE_MODE              square\n",
      "IMAGE_SHAPE                    [128 128   3]\n",
      "LEARNING_MOMENTUM              0.9\n",
      "LEARNING_RATE                  0.001\n",
      "LOSS_WEIGHTS                   {'rpn_class_loss': 1.0, 'rpn_bbox_loss': 1.0, 'mrcnn_class_loss': 1.0, 'mrcnn_bbox_loss': 1.0, 'mrcnn_mask_loss': 1.0}\n",
      "MASK_POOL_SIZE                 14\n",
      "MASK_SHAPE                     [28, 28]\n",
      "MAX_GT_INSTANCES               100\n",
      "MEAN_PIXEL                     [123.7 116.8 103.9]\n",
      "MINI_MASK_SHAPE                (56, 56)\n",
      "NAME                           eddies\n",
      "NUM_CLASSES                    3\n",
      "POOL_SIZE                      7\n",
      "POST_NMS_ROIS_INFERENCE        1000\n",
      "POST_NMS_ROIS_TRAINING         2000\n",
      "PRE_NMS_LIMIT                  6000\n",
      "ROI_POSITIVE_RATIO             0.33\n",
      "RPN_ANCHOR_RATIOS              [0.5, 1, 2]\n",
      "RPN_ANCHOR_SCALES              (4, 8, 16, 32, 64)\n",
      "RPN_ANCHOR_STRIDE              1\n",
      "RPN_BBOX_STD_DEV               [0.1 0.1 0.2 0.2]\n",
      "RPN_NMS_THRESHOLD              0.8\n",
      "RPN_TRAIN_ANCHORS_PER_IMAGE    256\n",
      "STEPS_PER_EPOCH                100\n",
      "TOP_DOWN_PYRAMID_SIZE          256\n",
      "TRAIN_BN                       False\n",
      "TRAIN_ROIS_PER_IMAGE           32\n",
      "USE_MINI_MASK                  True\n",
      "USE_RPN_ROIS                   True\n",
      "VALIDATION_STEPS               5\n",
      "WEIGHT_DECAY                   0.0001\n",
      "\n",
      "\n"
     ]
    }
   ],
   "source": [
    "class EddyConfig(Config):\n",
    "    \"\"\"Configuration for training on the eddy detection dataset.\n",
    "    Derives from the base Config class and overrides values specific\n",
    "    to the eddy detection dataset.\n",
    "    \"\"\"\n",
    "    # Give the configuration a recognizable name\n",
    "    NAME = \"eddies\"\n",
    "    \n",
    "    # Eddy data only one channel\n",
    "    IMAGE_CHANNEL_COUNT = 3\n",
    "\n",
    "    # Train on 1 GPU and 8 images per GPU. We can put multiple images on each\n",
    "    # GPU because the images are small. Batch size is 8 (GPUs * images/GPU).\n",
    "    GPU_COUNT = 1\n",
    "    IMAGES_PER_GPU = 8\n",
    "\n",
    "    # Number of classes (including background)\n",
    "    NUM_CLASSES = 1 + 2  \n",
    "    # 1(Non eddy/land/no data) + 2 eddy(anticyclonic eddy, cyclonic eddy)\n",
    "\n",
    "    # Use small images for faster training. Set the limits of the small side\n",
    "    # the large side, and that determines the image shape.\n",
    "    IMAGE_MIN_DIM = 128\n",
    "    IMAGE_MAX_DIM = 128\n",
    "\n",
    "    # Use smaller anchors because our image and objects are small\n",
    "    # RPN_ANCHOR_SCALES = (8, 16, 32, 64, 128)  # anchor side in pixels\n",
    "    RPN_ANCHOR_SCALES = (4, 8, 16, 32, 64)  # anchor side in pixels\n",
    "\n",
    "    # Reduce training ROIs per image because the images are small and have\n",
    "    # few objects. Aim to allow ROI sampling to pick 33% positive ROIs.\n",
    "    TRAIN_ROIS_PER_IMAGE = 32\n",
    "\n",
    "    # Use a small epoch since the data is simple\n",
    "    STEPS_PER_EPOCH = 100\n",
    "\n",
    "    # use small validation steps since the epoch is small\n",
    "    VALIDATION_STEPS = 5\n",
    "    \n",
    "    RPN_NMS_THRESHOLD = 0.8\n",
    "    \n",
    "e_config = EddyConfig()\n",
    "e_config.display()"
   ]
  },
  {
   "cell_type": "markdown",
   "metadata": {},
   "source": [
    "## Notebook Preferences"
   ]
  },
  {
   "cell_type": "code",
   "execution_count": 3,
   "metadata": {
    "collapsed": true
   },
   "outputs": [],
   "source": [
    "def get_ax(rows=1, cols=1, size=8):\n",
    "    \"\"\"Return a Matplotlib Axes array to be used in\n",
    "    all visualizations in the notebook. Provide a\n",
    "    central point to control graph sizes.\n",
    "    \n",
    "    Change the default size attribute to control the size\n",
    "    of rendered images\n",
    "    \"\"\"\n",
    "    _, ax = plt.subplots(rows, cols, figsize=(size*cols, size*rows))\n",
    "    return ax"
   ]
  },
  {
   "cell_type": "markdown",
   "metadata": {},
   "source": [
    "## Dataset\n",
    "\n",
    "Create a synthetic dataset\n",
    "\n",
    "Extend the Dataset class and add a method to load the shapes dataset, `load_shapes()`, and override the following methods:\n",
    "\n",
    "* load_image()\n",
    "* load_mask()\n",
    "* image_reference()"
   ]
  },
  {
   "cell_type": "markdown",
   "metadata": {
    "scrolled": true
   },
   "source": [
    "from scipy import io\n",
    "\n",
    "mat = io.loadmat(\"dataset.mat\")\n",
    "\n",
    "#label = mat['anset'].transpose(2,0,1)\n",
    "#ssh = mat['daset'].transpose(2,0,1)\n",
    "label = mat['anset']\n",
    "ssh = mat['daset']\n",
    "\n",
    "print(ssh.shape)"
   ]
  },
  {
   "cell_type": "code",
   "execution_count": 4,
   "metadata": {},
   "outputs": [
    {
     "name": "stdout",
     "output_type": "stream",
     "text": [
      "__header__\n",
      "__version__\n",
      "__globals__\n",
      "aset1\n",
      "dset1\n",
      "(128, 128, 512)\n",
      "(128, 128, 512)\n",
      "4.219636353105313\n"
     ]
    }
   ],
   "source": [
    "from scipy import io\n",
    "\n",
    "matv2 = io.loadmat(\"eddyset.mat\")\n",
    "for i in matv2:\n",
    "    print(i)\n",
    "\n",
    "label = matv2['aset1']\n",
    "ssh=matv2['dset1']\n",
    "\n",
    "##### 利用原始数据进行可视化 ######\n",
    "orig_label = matv2['aset1']       #\n",
    "orig_ssh=matv2['dset1']           #\n",
    "###################################\n",
    "\n",
    "print(label.shape)\n",
    "print(ssh.shape)\n",
    "print(ssh[:,:,:].mean())"
   ]
  },
  {
   "cell_type": "code",
   "execution_count": 5,
   "metadata": {
    "collapsed": true
   },
   "outputs": [],
   "source": [
    "import copy\n",
    "\n",
    "def find_all(label_copy, i, j, num, location, mask):\n",
    "    location.append([i, j])\n",
    "    label_copy[i, j] = 0\n",
    "    mask[i, j] = 1\n",
    "    \n",
    "    if 0<i<127 and 0<j<127 and label_copy[i+1, j] == num:\n",
    "        find_all(label_copy, i+1, j, num, location, mask)\n",
    "    if 0<i<127 and 0<j<127 and label_copy[i-1, j] == num:\n",
    "        find_all(label_copy, i-1, j, num, location, mask)\n",
    "    if 0<i<127 and 0<j<127 and label_copy[i, j+1] == num:\n",
    "        find_all(label_copy, i, j+1, num, location, mask)\n",
    "    if 0<i<127 and 0<j<127 and label_copy[i, j-1] == num:\n",
    "        find_all(label_copy, i, j-1, num, location, mask)\n",
    "    if 0<i<127 and 0<j<127 and label_copy[i+1, j+1] == num:\n",
    "        find_all(label_copy, i+1, j+1, num, location, mask)\n",
    "    if 0<i<127 and 0<j<127 and label_copy[i+1, j-1] == num:\n",
    "        find_all(label_copy, i+1, j-1, num, location, mask)\n",
    "    if 0<i<127 and 0<j<127 and label_copy[i-1, j+1] == num:\n",
    "        find_all(label_copy, i-1, j+1, num, location, mask)\n",
    "    if 0<i<127 and 0<j<127 and label_copy[i-1, j-1] == num:\n",
    "        find_all(label_copy, i-1, j-1, num, location, mask)\n",
    "\n",
    "def eddy_mask(label, num=1):\n",
    "    width, height = label.shape\n",
    "#     print(width, height)\n",
    "    label_copy = copy.deepcopy(label)\n",
    "    eddy_num = 0\n",
    "    \n",
    "    # 声明所有的位置集合，最终找到左上和右下角\n",
    "    all_location = []\n",
    "    \n",
    "    # 声明蒙版列表\n",
    "    mask_list = []\n",
    "    \n",
    "    for i in range(1, width-1):\n",
    "        for j in range(1, height-1):\n",
    "            if label_copy[i, j] == num:\n",
    "                location = []\n",
    "                mask = np.zeros([height, width])\n",
    "                eddy_num += 1              \n",
    "                find_all(label_copy, i, j, num, location, mask)\n",
    "                all_location.append(location)\n",
    "                mask_list.append(mask)\n",
    "#    print(\"------------------eddy_mask-----------------------\")\n",
    "#    print(\"number of eddy is %d\"%len(all_location))\n",
    "#    print(\"------------------eddy_mask-----------------------\")\n",
    "    \n",
    "    \"\"\"将所有位置的【左上，右下】返回\"\"\"\n",
    "    eddy_location = []\n",
    "    hhh = []\n",
    "    vvv = []\n",
    "    for loca in all_location:\n",
    "        hhh = [la[0] for la in loca]\n",
    "        vvv = [la[1] for la in loca]\n",
    "    eddy_location.append([[min(hhh), min(vvv)], [max(hhh), max(vvv)]])\n",
    "    all_mask = np.stack((i for i in mask_list), axis = 2)\n",
    "    # print(all_mask.shape)\n",
    "    return eddy_location, all_mask\n",
    "\n",
    "def mask_check(label, num=1):\n",
    "    width, height = label.shape\n",
    "#     print(width, height)\n",
    "    label_copy = copy.deepcopy(label)\n",
    "    eddy_num = 0\n",
    "    \n",
    "    # 声明所有的位置集合，最终找到左上和右下角\n",
    "    all_location = []\n",
    "    \n",
    "    # 声明蒙版列表\n",
    "    mask_list = []\n",
    "    \n",
    "    for i in range(1, width-1):\n",
    "        for j in range(1, height-1):\n",
    "            if label_copy[i, j] == num:\n",
    "                \n",
    "                location = []\n",
    "                mask = np.zeros([height, width])\n",
    "                eddy_num += 1\n",
    "                \n",
    "                find_all(label_copy, i, j, num, location, mask)\n",
    "#                 print(location)\n",
    "                all_location.append(location)\n",
    "                mask_list.append(mask)\n",
    "#    print(\"------------------mask_check-----------------------\")\n",
    "#    print(\"number of eddy is %d\"%len(all_location))\n",
    "#    print(label_copy.max())\n",
    "#    print(\"------------------mask_check-----------------------\")\n",
    "\n",
    "    if len(all_location) == 0:\n",
    "        return 0\n",
    "    else:\n",
    "        return 1"
   ]
  },
  {
   "cell_type": "code",
   "execution_count": 6,
   "metadata": {},
   "outputs": [
    {
     "data": {
      "text/plain": [
       "array([1, 1, 1, 2, 2, 2, 2])"
      ]
     },
     "execution_count": 6,
     "metadata": {},
     "output_type": "execute_result"
    }
   ],
   "source": [
    "# numpy 三维形状测试\n",
    "\n",
    "np.arange(20).reshape(2,2,5)\n",
    "np.arange(20).reshape(1, 4, 5)\n",
    "\n",
    "arr = np.arange(20).reshape(2,2,5)\n",
    "np.delete(arr, [1,2], axis = 2)\n",
    "\n",
    "np.array([1 for i in range(3)]+[2 for i in range(4)])"
   ]
  },
  {
   "cell_type": "code",
   "execution_count": 7,
   "metadata": {
    "collapsed": true,
    "scrolled": false
   },
   "outputs": [],
   "source": [
    "\"\"\"mask 8 边缘有1或-1：不扫描边缘； \n",
    "    mask 36 没有涡旋：将没有涡旋的mask和ssh删掉\"\"\"\n",
    "\n",
    "# 清除没有涡的 ssh 以及 mask\n",
    "empty = []\n",
    "for i in range(512):\n",
    "    if mask_check(label[:, :, i], -1) == 0 or mask_check(label[:, :, i], 1) == 0:\n",
    "        empty.append(i)\n",
    "\n",
    "label = np.delete(label, empty, axis=2)\n",
    "ssh = np.delete(ssh, empty, axis=2)\n",
    "\n",
    "# 将整体的数值范围缩放至 [0-255]\n",
    "from sklearn.preprocessing import MinMaxScaler\n",
    "scaler = MinMaxScaler(feature_range=(0,255))\n",
    "for i in range(ssh.shape[2]):\n",
    "    ssh[:,:,i] = scaler.fit_transform(ssh[:,:,i])\n",
    "ssh=ssh.astype(int)"
   ]
  },
  {
   "cell_type": "code",
   "execution_count": 8,
   "metadata": {},
   "outputs": [
    {
     "name": "stdout",
     "output_type": "stream",
     "text": [
      "(128, 128, 432)\n"
     ]
    },
    {
     "data": {
      "text/plain": [
       "1"
      ]
     },
     "execution_count": 8,
     "metadata": {},
     "output_type": "execute_result"
    }
   ],
   "source": [
    "print(label.shape)\n",
    "\n",
    "location, mask_list = eddy_mask(label[:,:, 80], -1)\n",
    "# ssh[:, :, 1].reshape(128, 128, 1)\n",
    "len(location)"
   ]
  },
  {
   "cell_type": "code",
   "execution_count": 9,
   "metadata": {
    "collapsed": true
   },
   "outputs": [],
   "source": [
    "# from scipy import io\n",
    "\n",
    "# mat = io.loadmat(\"dataset.mat\")\n",
    "\n",
    "# label = mat['anset']\n",
    "# ssh = mat['daset']\n",
    "\n",
    "class EddyDataset(utils.Dataset):\n",
    "    \"\"\"Generates the eddy synthetic dataset. The dataset consists of \n",
    "    anticyclonic eddy and cyclonic eddy placed randomly on a blank surface.\n",
    "    The images are generated on the fly. No file access required.\n",
    "    \n",
    "    by WHX\n",
    "    \"\"\"\n",
    "    # TODO (whx): get data from eddy data set\n",
    "    \n",
    "    def load_eddy(self, start, end, height, width):\n",
    "        \"\"\"Generate the requested number of synthetic images.\n",
    "        count: number of images to generate.\n",
    "        height, width: the size of the generated images.\n",
    "        \"\"\"\n",
    "        # Add classes ---- [add_class(self, source, class_id, class_name)]\n",
    "        self.add_class(\"eddy\", 1, \"anticyclonic\")\n",
    "        self.add_class(\"eddy\", 2, \"cyclonic\")\n",
    "        \n",
    "        for i in range(start, end):\n",
    "#             bg_color, shapes = self.random_image(height, width)\n",
    "            self.add_image(\"eddy\", image_id=i, path=None,\n",
    "                           width=width, height=height)\n",
    "# --------------------------------------------------------------------------\n",
    "#         for i in range(count):\n",
    "# #             bg_color, shapes = self.random_image(height, width)\n",
    "#             self.add_image(\"eddy\", image_id=i, path=None,\n",
    "#                            width=width, height=height,\n",
    "#                            bg_color=bg_color, shapes=shapes)\n",
    "# --------------------------------------------------------------------------\n",
    "\n",
    "#     def load_image(self, image_id):\n",
    "#         \"\"\"Generate an image from the specs of the given image ID.\n",
    "#         Typically this function loads the image from a file, but\n",
    "#         in this case it generates the image on the fly from the\n",
    "#         specs in image_info.\n",
    "#         \"\"\"\n",
    "#         info = self.image_info[image_id]\n",
    "#         bg_color = np.array(info['bg_color']).reshape([1, 1, 3])\n",
    "#         image = np.ones([info['height'], info['width'], 3], dtype=np.uint8)\n",
    "#         image = image * bg_color.astype(np.uint8)\n",
    "#         for shape, color, dims in info['shapes']:\n",
    "#             image = self.draw_shape(image, shape, dims, color)\n",
    "# #             print(\"load_image form EddyDataset class\")\n",
    "# #         print(image.shape )\n",
    "#         return image\n",
    "    \n",
    "    def load_image(self, image_id):\n",
    "        \"\"\"直接返回 image_id 这个通道的ssh的值，reshape成为1个通道\n",
    "        \"\"\"\n",
    "        info = self.image_info[image_id]\n",
    "        \n",
    "        # ssh_img = ssh[image_id, :, :].reshape(1,info['height'], info['width']).transpose(1, 2, 0)\n",
    "        \n",
    "        ssh_img = ssh[:, :, image_id] #(128,128)\n",
    "        # ssh_img.reshape(128,128,1)\n",
    "        return np.stack((ssh_img, ssh_img, ssh_img), axis=2)\n",
    "    \n",
    "    def load_orig_image(self, image_id):\n",
    "        \"\"\"直接返回 image_id 这个通道的ssh的值，reshape成为1个通道\n",
    "        \"\"\"\n",
    "        info = self.image_info[image_id]\n",
    "        \n",
    "        # ssh_img = ssh[image_id, :, :].reshape(1,info['height'], info['width']).transpose(1, 2, 0)\n",
    "        \n",
    "        ssh_img = orig_ssh[:, :, image_id] #(128,128)\n",
    "        # ssh_img.reshape(128,128,1)\n",
    "        return np.stack((ssh_img, ssh_img, ssh_img), axis=2)\n",
    "\n",
    "    def image_reference(self, image_id):\n",
    "        \"\"\"Return the shapes data of the image.\"\"\"\n",
    "        info = self.image_info[image_id]\n",
    "        if info[\"source\"] == \"shapes\":\n",
    "            return info[\"shapes\"]\n",
    "        else:\n",
    "            super(self.__class__).image_reference(self, image_id)\n",
    "            \n",
    "            \n",
    "    def load_mask(self, image_id):\n",
    "        \"\"\"Generate instance masks for eddies of the given image ID.\n",
    "        \"\"\"\n",
    "        info = self.image_info[image_id]\n",
    "        \n",
    "        # image_id 这个样本上的 eddy 总数\n",
    "        anticy_loc, anticy_mask = eddy_mask(label[ :, :, image_id], 1)\n",
    "        cy_loc, cy_mask = eddy_mask(label[ :, :, image_id], -1)\n",
    "        \n",
    "        mask = np.concatenate((anticy_mask, cy_mask), axis = 2)\n",
    "        # mask = np.stack((anticy_mask, cy_mask), axis = 0)\n",
    "\n",
    "        class_ids = np.array([1 for i in range(anticy_mask.shape[2])]\n",
    "                             +[2 for i in range(cy_mask.shape[2])])\n",
    "        \n",
    "        return mask.astype(np.bool), class_ids.astype(np.int32)\n",
    "        \n",
    "        \n",
    "\n",
    "#     def load_mask(self, image_id):\n",
    "#         \"\"\"Generate instance masks for shapes of the given image ID.\n",
    "#         \"\"\"\n",
    "#         info = self.image_info[image_id]\n",
    "#         shapes = info['shapes']\n",
    "#         count = len(shapes)\n",
    "#         mask = np.zeros([info['height'], info['width'], count], dtype=np.uint8)\n",
    "#         for i, (shape, _, dims) in enumerate(info['shapes']):\n",
    "#             mask[:, :, i:i+1] = self.draw_shape(mask[:, :, i:i+1].copy(),\n",
    "#                                                 shape, dims, 1)\n",
    "            \n",
    "#         print(mask.shape)\n",
    "#         # Handle occlusions\n",
    "#         occlusion = np.logical_not(mask[:, :, -1]).astype(np.uint8)\n",
    "#         for i in range(count-2, -1, -1):\n",
    "#             mask[:, :, i] = mask[:, :, i] * occlusion\n",
    "#             occlusion = np.logical_and(occlusion, np.logical_not(mask[:, :, i]))\n",
    "#         # Map class names to class IDs.\n",
    "#         class_ids = np.array([self.class_names.index(s[0]) for s in shapes])\n",
    "#         return mask.astype(np.bool), class_ids.astype(np.int32)\n",
    "\n",
    "#     def draw_shape(self, image, shape, dims, color):\n",
    "#         \"\"\"Draws a shape from the given specs.\"\"\"\n",
    "#         # Get the center x, y and the size s\n",
    "#         x, y, s = dims\n",
    "#         if shape == 'anticyclonic':\n",
    "#             cv2.rectangle(image, (x-s, y-s), (x+s, y+s), color, -1)\n",
    "#         elif shape == \"cyclonic\":\n",
    "#             cv2.circle(image, (x, y), s, color, -1)\n",
    "\n",
    "#         return image\n",
    "\n",
    "#     def random_shape(self, height, width):\n",
    "#         \"\"\"Generates specifications of a random eddy that lies within\n",
    "#         the given height and width boundaries.\n",
    "#         Returns a tuple of three valus:\n",
    "#         * The eddy name (anticyclonic, cyclonic)\n",
    "#         * Shape color: a tuple of 3 values, RGB.\n",
    "#         * Shape dimensions: A tuple of values that define the shape size\n",
    "#                             and location. Differs per shape type.\n",
    "#         \"\"\"\n",
    "#         # Eddy\n",
    "#         shape = random.choice([\"anticyclonic\", \"cyclonic\"])\n",
    "#         # Color\n",
    "#         color = tuple([random.randint(0, 255) for _ in range(3)])\n",
    "#         # Center x, y\n",
    "#         buffer = 20\n",
    "#         y = random.randint(buffer, height - buffer - 1)\n",
    "#         x = random.randint(buffer, width - buffer - 1)\n",
    "#         # Size\n",
    "#         s = random.randint(buffer, height//4)\n",
    "#         return shape, color, (x, y, s)\n",
    "\n",
    "#     def random_image(self, height, width):\n",
    "#         \"\"\"Creates random specifications of an image with multiple shapes.\n",
    "#         Returns the background color of the image and a list of shape\n",
    "#         specifications that can be used to draw the image.\n",
    "#         \"\"\"\n",
    "#         # Pick random background color\n",
    "#         bg_color = np.array([random.randint(0, 255) for _ in range(3)])\n",
    "#         # Generate a few random shapes and record their\n",
    "#         # bounding boxes\n",
    "#         shapes = []\n",
    "#         boxes = []\n",
    "#         N = random.randint(1, 4)\n",
    "#         for _ in range(N):\n",
    "#             shape, color, dims = self.random_shape(height, width)\n",
    "#             shapes.append((shape, color, dims))\n",
    "#             x, y, s = dims\n",
    "#             boxes.append([y-s, x-s, y+s, x+s])\n",
    "#         # Apply non-max suppression wit 0.3 threshold to avoid\n",
    "#         # shapes covering each other\n",
    "#         keep_ixs = utils.non_max_suppression(np.array(boxes), np.arange(N), 0.3)\n",
    "#         shapes = [s for i, s in enumerate(shapes) if i in keep_ixs]\n",
    "#         return bg_color, shapes"
   ]
  },
  {
   "cell_type": "code",
   "execution_count": 10,
   "metadata": {},
   "outputs": [
    {
     "name": "stdout",
     "output_type": "stream",
     "text": [
      "clean_name method\n",
      "clean_name method\n"
     ]
    }
   ],
   "source": [
    "# whx\n",
    "# Training dataset\n",
    "eddy_train = EddyDataset()\n",
    "eddy_train.load_eddy(0, 350, e_config.IMAGE_SHAPE[0], e_config.IMAGE_SHAPE[1])\n",
    "eddy_train.prepare()\n",
    "\n",
    "# Validation dataset\n",
    "eddy_val = EddyDataset()\n",
    "eddy_val.load_eddy(350, 430, e_config.IMAGE_SHAPE[0], e_config.IMAGE_SHAPE[1])\n",
    "eddy_val.prepare()"
   ]
  },
  {
   "cell_type": "code",
   "execution_count": 11,
   "metadata": {},
   "outputs": [
    {
     "data": {
      "text/plain": [
       "array([[ 0,  1,  2,  3],\n",
       "       [ 4,  5,  6,  7],\n",
       "       [ 8,  9, 10, 11]])"
      ]
     },
     "execution_count": 11,
     "metadata": {},
     "output_type": "execute_result"
    }
   ],
   "source": [
    "eddy_train.image_info[1]\n",
    "a = np.arange(12).reshape(3,4)\n",
    "a"
   ]
  },
  {
   "cell_type": "code",
   "execution_count": 12,
   "metadata": {},
   "outputs": [
    {
     "data": {
      "text/plain": [
       "array([[ 0,  4,  8],\n",
       "       [ 1,  5,  9],\n",
       "       [ 2,  6, 10],\n",
       "       [ 3,  7, 11]])"
      ]
     },
     "execution_count": 12,
     "metadata": {},
     "output_type": "execute_result"
    }
   ],
   "source": [
    "a = a.transpose(1,0)\n",
    "a"
   ]
  },
  {
   "cell_type": "code",
   "execution_count": 13,
   "metadata": {},
   "outputs": [
    {
     "data": {
      "text/plain": [
       "array([[0, 1],\n",
       "       [2, 3]])"
      ]
     },
     "execution_count": 13,
     "metadata": {},
     "output_type": "execute_result"
    }
   ],
   "source": [
    "b = np.arange(4).reshape(2, 2).reshape(2,2,1).reshape(2,2).reshape(2,2)\n",
    "b"
   ]
  },
  {
   "cell_type": "code",
   "execution_count": null,
   "metadata": {
    "collapsed": true
   },
   "outputs": [],
   "source": []
  },
  {
   "cell_type": "code",
   "execution_count": 14,
   "metadata": {
    "collapsed": true
   },
   "outputs": [],
   "source": [
    "def display_eddy(images, titles=None, cols=4, cmap=None, norm=None,\n",
    "                   interpolation=None):\n",
    "    \"\"\"Display the given set of images, optionally with titles.\n",
    "    images: list or array of image tensors in HWC format.\n",
    "    titles: optional. A list of titles to display with each image.\n",
    "    cols: number of images per row\n",
    "    cmap: Optional. Color map to use. For example, \"Blues\".\n",
    "    norm: Optional. A Normalize instance to map values to colors.\n",
    "    interpolation: Optional. Image interpolation to use for display.\n",
    "    \"\"\"\n",
    "    titles = titles if titles is not None else [\"\"] * len(images)\n",
    "    rows = len(images) // cols + 1\n",
    "    plt.figure(figsize=(14, 14 * rows // cols))\n",
    "    i = 1\n",
    "    for image, title in zip(images, titles):\n",
    "        # print(image.shape)\n",
    "        # X, Y = np.meshgrid(np.arange(128), np.arange(128))\n",
    "        plt.subplot(rows, cols, i)\n",
    "        plt.title(title, fontsize=9)\n",
    "        plt.axis('off')\n",
    "        plt.contourf(image, 8, alpha=.50, cmap=plt.cm.winter)\n",
    "        # plt.imshow(image.astype(np.uint8), cmap=cmap,plt.cm.hot\n",
    "                   #norm=norm, interpolation=interpolation)\n",
    "        i += 1\n",
    "    plt.show()\n",
    "\n",
    "def display_top_masks(image, mask, class_ids, class_names, limit=4):\n",
    "    \"\"\"Display the given image and the top few class masks.\"\"\"\n",
    "    to_display = []\n",
    "    titles = []\n",
    "    to_display.append(image)\n",
    "    titles.append(\"H x W={}x{}\".format(image.shape[0], image.shape[1]))\n",
    "    # Pick top prominent classes in this image\n",
    "    unique_class_ids = np.unique(class_ids)\n",
    "    mask_area = [np.sum(mask[:, :, np.where(class_ids == i)[0]])\n",
    "                 for i in unique_class_ids]\n",
    "    top_ids = [v[0] for v in sorted(zip(unique_class_ids, mask_area),\n",
    "                                    key=lambda r: r[1], reverse=True) if v[1] > 0]\n",
    "    # Generate images and titles\n",
    "    for i in range(limit):\n",
    "        class_id = top_ids[i] if i < len(top_ids) else -1\n",
    "        # Pull masks of instances belonging to the same class.\n",
    "        m = mask[:, :, np.where(class_ids == class_id)[0]]\n",
    "        m = np.sum(m * np.arange(1, m.shape[-1] + 1), -1)\n",
    "        to_display.append(m)\n",
    "        titles.append(class_names[class_id] if class_id != -1 else \"-\")\n",
    "    display_eddy(to_display, titles=titles, cols=limit + 1, cmap=\"PuBu\")\n",
    "\n"
   ]
  },
  {
   "cell_type": "code",
   "execution_count": 15,
   "metadata": {},
   "outputs": [
    {
     "data": {
      "text/plain": [
       "(2, 2)"
      ]
     },
     "execution_count": 15,
     "metadata": {},
     "output_type": "execute_result"
    }
   ],
   "source": [
    "np.arange(20).reshape(2,2,5)[:,:,1].shape"
   ]
  },
  {
   "cell_type": "code",
   "execution_count": 16,
   "metadata": {
    "collapsed": true
   },
   "outputs": [],
   "source": [
    "def image_save(image):\n",
    "    plt.contourf(image, 8, alpha=.50, cmap=plt.cm.winter)\n",
    "    fig = plt.gcf()\n",
    "    fig.set_size_inches(1.28/3,1.28/3) #dpi = 300, output = 128*128 pixels\n",
    "    \n",
    "    plt.gca().xaxis.set_major_locator(plt.NullLocator())\n",
    "    plt.gca().yaxis.set_major_locator(plt.NullLocator())\n",
    "    \n",
    "    plt.subplots_adjust(top = 1, bottom = 0, right = 1, left = 0, hspace = 0, wspace = 0)\n",
    "    plt.margins(0,0)\n",
    "\n",
    "    fig.savefig('./eddy.jpg', format='jpg', transparent=False, dpi=300, bbox_inches=None, pad_inches=0)"
   ]
  },
  {
   "cell_type": "code",
   "execution_count": 17,
   "metadata": {
    "scrolled": false
   },
   "outputs": [
    {
     "name": "stdout",
     "output_type": "stream",
     "text": [
      "[266 243 218]\n",
      "<class 'numpy.ndarray'>\n",
      "(128, 128, 3)\n",
      "<class 'numpy.ndarray'>\n",
      "(128, 128, 18)\n"
     ]
    },
    {
     "data": {
      "image/png": "[encoded data removed]",
      "text/plain": [
       "<matplotlib.figure.Figure at 0x7f5013201c18>"
      ]
     },
     "metadata": {},
     "output_type": "display_data"
    },
    {
     "name": "stdout",
     "output_type": "stream",
     "text": [
      "<class 'numpy.ndarray'>\n",
      "(128, 128, 3)\n",
      "<class 'numpy.ndarray'>\n",
      "(128, 128, 41)\n"
     ]
    },
    {
     "data": {
      "image/png": "[encoded data removed]",
      "text/plain": [
       "<matplotlib.figure.Figure at 0x7f5011d4b080>"
      ]
     },
     "metadata": {},
     "output_type": "display_data"
    },
    {
     "name": "stdout",
     "output_type": "stream",
     "text": [
      "<class 'numpy.ndarray'>\n",
      "(128, 128, 3)\n",
      "<class 'numpy.ndarray'>\n",
      "(128, 128, 3)\n"
     ]
    },
    {
     "data": {
      "image/png": "[encoded data removed]",
      "text/plain": [
       "<matplotlib.figure.Figure at 0x7f50088662e8>"
      ]
     },
     "metadata": {},
     "output_type": "display_data"
    },
    {
     "name": "stdout",
     "output_type": "stream",
     "text": [
      "---------------\n"
     ]
    },
    {
     "data": {
      "image/png": "[encoded data removed]",
      "text/plain": [
       "<matplotlib.figure.Figure at 0x7f5013037748>"
      ]
     },
     "metadata": {},
     "output_type": "display_data"
    }
   ],
   "source": [
    "# 利用原始数据进行可视化\n",
    "\n",
    "orig_label = matv2['aset1']\n",
    "orig_ssh=matv2['dset1']\n",
    "\n",
    "orig_label = np.delete(orig_label, empty, axis=2)\n",
    "orig_ssh = np.delete(orig_ssh, empty, axis=2)\n",
    "\n",
    "# Load and display random samples\n",
    "eddy_image_ids = np.random.choice(eddy_train.image_ids, 3)\n",
    "# eddy_image_ids = np.hstack((eddy_image_ids, np.arange(2)))\n",
    "print(eddy_image_ids)\n",
    "for eddy_image_id in eddy_image_ids:\n",
    "    image = eddy_train.load_orig_image(eddy_image_id)\n",
    "    print(type(image))\n",
    "    print(image.shape)\n",
    "    mask, class_ids = eddy_train.load_mask(eddy_image_id)\n",
    "    print(type(mask))\n",
    "    print(mask.shape)\n",
    "    display_top_masks(image[:,:,1], mask, class_ids, eddy_train.class_names)\n",
    "image = eddy_train.load_orig_image(eddy_image_ids[-1])\n",
    "print(\"---------------\")\n",
    "image_save(image[:,:,1])\n",
    "\n"
   ]
  },
  {
   "cell_type": "code",
   "execution_count": 18,
   "metadata": {
    "collapsed": true
   },
   "outputs": [],
   "source": [
    "# 本方法通过使用单通道的数据将\n",
    "\n",
    "\n",
    "def ssh_convert_to_image(ssh_data):\n",
    "    plt.axis('off')\n",
    "    fig = plt.gcf()\n",
    "    fig.set_size_inches(1.28/3, 1.28/3) #dpi = 300, output = 700*700 pixels\n",
    "    plt.gca().xaxis.set_major_locator(plt.NullLocator())\n",
    "    plt.gca().yaxis.set_major_locator(plt.NullLocator()) \n",
    "    plt.subplots_adjust(top = 1, bottom = 0, right = 1, left = 0, hspace = 0, wspace = 0)\n",
    "    plt.margins(0,0)\n",
    "    plt.contourf(ssh_data[:,:,0], 9, alpha=.50, cmap=plt.cm.winter)\n",
    "    plt.savefig('temp_ssh.png', transparent=False, dpi=300, pad_inches=0)\n",
    "\n",
    "    ssh_img = Image.open('temp_ssh.png').convert(\"RGB\")\n",
    "    \n",
    "    ssh_img = ssh_img.resize((128, 128))\n",
    "    ssh_img = ssh_img.transpose(Image.FLIP_TOP_BOTTOM)\n",
    "    ssh_img_array = np.array(ssh_img)\n",
    "    print(ssh_img_array.shape)\n",
    "    return ssh_img_array"
   ]
  },
  {
   "cell_type": "code",
   "execution_count": 19,
   "metadata": {},
   "outputs": [
    {
     "name": "stdout",
     "output_type": "stream",
     "text": [
      "(128, 128, 3)\n",
      "(128, 128, 3)\n"
     ]
    },
    {
     "data": {
      "image/png": "[encoded data removed]",
      "text/plain": [
       "<matplotlib.figure.Figure at 0x7f4ffe972898>"
      ]
     },
     "metadata": {},
     "output_type": "display_data"
    }
   ],
   "source": [
    "ssh_data = eddy_train.load_orig_image(30)\n",
    "img_data = ssh_convert_to_image(ssh_data)\n",
    "\n",
    "print(img_data.shape)"
   ]
  },
  {
   "cell_type": "code",
   "execution_count": 20,
   "metadata": {
    "scrolled": false
   },
   "outputs": [
    {
     "name": "stdout",
     "output_type": "stream",
     "text": [
      "[266 243 218]\n",
      "<class 'numpy.ndarray'>\n",
      "(128, 128, 3)\n",
      "<class 'numpy.ndarray'>\n",
      "(128, 128, 18)\n"
     ]
    },
    {
     "data": {
      "image/png": "[encoded data removed]",
      "text/plain": [
       "<matplotlib.figure.Figure at 0x7f4ffe7d9390>"
      ]
     },
     "metadata": {},
     "output_type": "display_data"
    },
    {
     "name": "stdout",
     "output_type": "stream",
     "text": [
      "<class 'numpy.ndarray'>\n",
      "(128, 128, 3)\n",
      "<class 'numpy.ndarray'>\n",
      "(128, 128, 41)\n"
     ]
    },
    {
     "data": {
      "image/png": "[encoded data removed]",
      "text/plain": [
       "<matplotlib.figure.Figure at 0x7f4ffe8141d0>"
      ]
     },
     "metadata": {},
     "output_type": "display_data"
    },
    {
     "name": "stdout",
     "output_type": "stream",
     "text": [
      "<class 'numpy.ndarray'>\n",
      "(128, 128, 3)\n",
      "<class 'numpy.ndarray'>\n",
      "(128, 128, 3)\n"
     ]
    },
    {
     "data": {
      "image/png": "[encoded data removed]",
      "text/plain": [
       "<matplotlib.figure.Figure at 0x7f5011e0ec50>"
      ]
     },
     "metadata": {},
     "output_type": "display_data"
    }
   ],
   "source": [
    "# whx\n",
    "# Load and display random samples\n",
    "# eddy_image_ids = np.random.choice(eddy_train.image_ids, 4)\n",
    "# eddy_image_ids = np.hstack((eddy_image_ids, np.arange(2)))\n",
    "print(eddy_image_ids)\n",
    "for eddy_image_id in eddy_image_ids:\n",
    "    image = eddy_train.load_image(eddy_image_id)\n",
    "    print(type(image))\n",
    "    print(image.shape)\n",
    "    mask, class_ids = eddy_train.load_mask(eddy_image_id)\n",
    "    print(type(mask))\n",
    "    print(mask.shape)\n",
    "    display_top_masks(image[:,:,1], mask, class_ids, eddy_train.class_names)"
   ]
  },
  {
   "cell_type": "markdown",
   "metadata": {},
   "source": [
    "## Create Model"
   ]
  },
  {
   "cell_type": "code",
   "execution_count": 21,
   "metadata": {},
   "outputs": [
    {
     "name": "stdout",
     "output_type": "stream",
     "text": [
      "build-model\n"
     ]
    }
   ],
   "source": [
    "# Create model in training mode\n",
    "model = modellib.MaskRCNN(mode=\"training\", config=e_config,\n",
    "                          model_dir=MODEL_DIR)"
   ]
  },
  {
   "cell_type": "code",
   "execution_count": 22,
   "metadata": {
    "collapsed": true,
    "scrolled": false
   },
   "outputs": [],
   "source": [
    "# Which weights to start with?\n",
    "init_with = \"coco\"  # imagenet, coco, or last\n",
    "\n",
    "if init_with == \"imagenet\":\n",
    "    model.load_weights(model.get_imagenet_weights(), by_name=True)\n",
    "elif init_with == \"coco\":\n",
    "    # Load weights trained on MS COCO, but skip layers that\n",
    "    # are different due to the different number of classes\n",
    "    # See README for instructions to download the COCO weights\n",
    "    model.load_weights(COCO_MODEL_PATH, by_name=True,\n",
    "                       exclude=[\"conv1\", \"bn_conv1\", \"mrcnn_class_logits\", \"mrcnn_bbox_fc\", \n",
    "                                \"mrcnn_bbox\", \"mrcnn_mask\"])\n",
    "elif init_with == \"last\":\n",
    "    # Load the last model you trained and continue training\n",
    "    model.load_weights(model.find_last(), by_name=True)"
   ]
  },
  {
   "cell_type": "markdown",
   "metadata": {},
   "source": [
    "## Training\n",
    "\n",
    "Train in two stages:\n",
    "1. Only the heads. Here we're freezing all the backbone layers and training only the randomly initialized layers (i.e. the ones that we didn't use pre-trained weights from MS COCO). To train only the head layers, pass `layers='heads'` to the `train()` function.\n",
    "\n",
    "2. Fine-tune all layers. For this simple example it's not necessary, but we're including it to show the process. Simply pass `layers=\"all` to train all layers."
   ]
  },
  {
   "cell_type": "code",
   "execution_count": 23,
   "metadata": {
    "scrolled": false
   },
   "outputs": [
    {
     "name": "stdout",
     "output_type": "stream",
     "text": [
      "\n",
      "Starting at epoch 0. LR=0.001\n",
      "\n",
      "Checkpoint Path: /home/ouc/whx/eddy_detection/mrcnn/Mask_RCNN/logs/eddies20190327T0145/mask_rcnn_eddies_{epoch:04d}.h5\n",
      "Selecting layers to train\n",
      "fpn_c5p5               (Conv2D)\n",
      "fpn_c4p4               (Conv2D)\n",
      "fpn_c3p3               (Conv2D)\n",
      "fpn_c2p2               (Conv2D)\n",
      "fpn_p5                 (Conv2D)\n",
      "fpn_p2                 (Conv2D)\n",
      "fpn_p3                 (Conv2D)\n",
      "fpn_p4                 (Conv2D)\n",
      "In model:  rpn_model\n",
      "    rpn_conv_shared        (Conv2D)\n",
      "    rpn_class_raw          (Conv2D)\n",
      "    rpn_bbox_pred          (Conv2D)\n",
      "mrcnn_mask_conv1       (TimeDistributed)\n",
      "mrcnn_mask_bn1         (TimeDistributed)\n",
      "mrcnn_mask_conv2       (TimeDistributed)\n",
      "mrcnn_mask_bn2         (TimeDistributed)\n",
      "mrcnn_class_conv1      (TimeDistributed)\n",
      "mrcnn_class_bn1        (TimeDistributed)\n",
      "mrcnn_mask_conv3       (TimeDistributed)\n",
      "mrcnn_mask_bn3         (TimeDistributed)\n",
      "mrcnn_class_conv2      (TimeDistributed)\n",
      "mrcnn_class_bn2        (TimeDistributed)\n",
      "mrcnn_mask_conv4       (TimeDistributed)\n",
      "mrcnn_mask_bn4         (TimeDistributed)\n",
      "mrcnn_bbox_fc          (TimeDistributed)\n",
      "mrcnn_mask_deconv      (TimeDistributed)\n",
      "mrcnn_class_logits     (TimeDistributed)\n",
      "mrcnn_mask             (TimeDistributed)\n"
     ]
    },
    {
     "name": "stderr",
     "output_type": "stream",
     "text": [
      "/home/ouc/anaconda3/lib/python3.6/site-packages/tensorflow/python/ops/gradients_impl.py:96: UserWarning: Converting sparse IndexedSlices to a dense Tensor of unknown shape. This may consume a large amount of memory.\n",
      "  \"Converting sparse IndexedSlices to a dense Tensor of unknown shape. \"\n",
      "/home/ouc/anaconda3/lib/python3.6/site-packages/keras/engine/training.py:2033: UserWarning: Using a generator with `use_multiprocessing=True` and multiple workers may duplicate your data. Please consider using the`keras.utils.Sequence class.\n",
      "  UserWarning('Using a generator with `use_multiprocessing=True`'\n"
     ]
    },
    {
     "name": "stdout",
     "output_type": "stream",
     "text": [
      "Epoch 1/50\n",
      "100/100 [==============================] - 240s 2s/step - loss: 3.6516 - rpn_class_loss: 0.2997 - rpn_bbox_loss: 1.3467 - mrcnn_class_loss: 0.5949 - mrcnn_bbox_loss: 0.7527 - mrcnn_mask_loss: 0.6576 - val_loss: 3.4438 - val_rpn_class_loss: 0.2476 - val_rpn_bbox_loss: 1.3354 - val_mrcnn_class_loss: 0.6274 - val_mrcnn_bbox_loss: 0.6478 - val_mrcnn_mask_loss: 0.5856\n",
      "Epoch 2/50\n",
      "100/100 [==============================] - 70s 699ms/step - loss: 3.2970 - rpn_class_loss: 0.2310 - rpn_bbox_loss: 1.2508 - mrcnn_class_loss: 0.6038 - mrcnn_bbox_loss: 0.6377 - mrcnn_mask_loss: 0.5736 - val_loss: 3.3351 - val_rpn_class_loss: 0.2590 - val_rpn_bbox_loss: 1.2914 - val_mrcnn_class_loss: 0.5914 - val_mrcnn_bbox_loss: 0.6177 - val_mrcnn_mask_loss: 0.5757\n",
      "Epoch 3/50\n",
      "100/100 [==============================] - 75s 753ms/step - loss: 3.1663 - rpn_class_loss: 0.2211 - rpn_bbox_loss: 1.2411 - mrcnn_class_loss: 0.5365 - mrcnn_bbox_loss: 0.5990 - mrcnn_mask_loss: 0.5686 - val_loss: 3.1832 - val_rpn_class_loss: 0.2545 - val_rpn_bbox_loss: 1.2690 - val_mrcnn_class_loss: 0.5033 - val_mrcnn_bbox_loss: 0.5892 - val_mrcnn_mask_loss: 0.5672\n",
      "Epoch 4/50\n",
      "100/100 [==============================] - 75s 753ms/step - loss: 3.0899 - rpn_class_loss: 0.2189 - rpn_bbox_loss: 1.2487 - mrcnn_class_loss: 0.4949 - mrcnn_bbox_loss: 0.5615 - mrcnn_mask_loss: 0.5659 - val_loss: 3.0739 - val_rpn_class_loss: 0.2238 - val_rpn_bbox_loss: 1.3037 - val_mrcnn_class_loss: 0.4288 - val_mrcnn_bbox_loss: 0.5444 - val_mrcnn_mask_loss: 0.5732\n",
      "Epoch 5/50\n",
      "100/100 [==============================] - 74s 745ms/step - loss: 2.9882 - rpn_class_loss: 0.2114 - rpn_bbox_loss: 1.2384 - mrcnn_class_loss: 0.4486 - mrcnn_bbox_loss: 0.5338 - mrcnn_mask_loss: 0.5560 - val_loss: 3.0929 - val_rpn_class_loss: 0.2448 - val_rpn_bbox_loss: 1.3194 - val_mrcnn_class_loss: 0.4450 - val_mrcnn_bbox_loss: 0.5015 - val_mrcnn_mask_loss: 0.5822\n",
      "Epoch 6/50\n",
      "100/100 [==============================] - 75s 750ms/step - loss: 2.9314 - rpn_class_loss: 0.2187 - rpn_bbox_loss: 1.2253 - mrcnn_class_loss: 0.4297 - mrcnn_bbox_loss: 0.5111 - mrcnn_mask_loss: 0.5466 - val_loss: 3.0261 - val_rpn_class_loss: 0.2418 - val_rpn_bbox_loss: 1.2652 - val_mrcnn_class_loss: 0.4619 - val_mrcnn_bbox_loss: 0.5093 - val_mrcnn_mask_loss: 0.5479\n",
      "Epoch 7/50\n",
      "100/100 [==============================] - 76s 757ms/step - loss: 2.8290 - rpn_class_loss: 0.2064 - rpn_bbox_loss: 1.2102 - mrcnn_class_loss: 0.3884 - mrcnn_bbox_loss: 0.4867 - mrcnn_mask_loss: 0.5374 - val_loss: 2.9554 - val_rpn_class_loss: 0.2422 - val_rpn_bbox_loss: 1.2378 - val_mrcnn_class_loss: 0.4462 - val_mrcnn_bbox_loss: 0.4778 - val_mrcnn_mask_loss: 0.5515\n",
      "Epoch 8/50\n",
      "100/100 [==============================] - 78s 775ms/step - loss: 2.7883 - rpn_class_loss: 0.2149 - rpn_bbox_loss: 1.2036 - mrcnn_class_loss: 0.3844 - mrcnn_bbox_loss: 0.4600 - mrcnn_mask_loss: 0.5254 - val_loss: 2.9716 - val_rpn_class_loss: 0.2773 - val_rpn_bbox_loss: 1.2586 - val_mrcnn_class_loss: 0.4509 - val_mrcnn_bbox_loss: 0.4545 - val_mrcnn_mask_loss: 0.5303\n",
      "Epoch 9/50\n",
      "100/100 [==============================] - 78s 780ms/step - loss: 2.7239 - rpn_class_loss: 0.2126 - rpn_bbox_loss: 1.2009 - mrcnn_class_loss: 0.3582 - mrcnn_bbox_loss: 0.4362 - mrcnn_mask_loss: 0.5161 - val_loss: 2.8451 - val_rpn_class_loss: 0.2590 - val_rpn_bbox_loss: 1.2469 - val_mrcnn_class_loss: 0.3922 - val_mrcnn_bbox_loss: 0.4304 - val_mrcnn_mask_loss: 0.5165\n",
      "Epoch 10/50\n",
      "100/100 [==============================] - 78s 777ms/step - loss: 2.6607 - rpn_class_loss: 0.1991 - rpn_bbox_loss: 1.2013 - mrcnn_class_loss: 0.3346 - mrcnn_bbox_loss: 0.4203 - mrcnn_mask_loss: 0.5053 - val_loss: 2.7132 - val_rpn_class_loss: 0.2294 - val_rpn_bbox_loss: 1.2116 - val_mrcnn_class_loss: 0.3667 - val_mrcnn_bbox_loss: 0.3943 - val_mrcnn_mask_loss: 0.5113\n",
      "Epoch 11/50\n",
      "100/100 [==============================] - 79s 785ms/step - loss: 2.6107 - rpn_class_loss: 0.2072 - rpn_bbox_loss: 1.1848 - mrcnn_class_loss: 0.3237 - mrcnn_bbox_loss: 0.3961 - mrcnn_mask_loss: 0.4989 - val_loss: 2.7684 - val_rpn_class_loss: 0.2577 - val_rpn_bbox_loss: 1.2567 - val_mrcnn_class_loss: 0.3277 - val_mrcnn_bbox_loss: 0.4104 - val_mrcnn_mask_loss: 0.5159\n",
      "Epoch 12/50\n",
      "100/100 [==============================] - 79s 788ms/step - loss: 2.5518 - rpn_class_loss: 0.2037 - rpn_bbox_loss: 1.1741 - mrcnn_class_loss: 0.3103 - mrcnn_bbox_loss: 0.3746 - mrcnn_mask_loss: 0.4889 - val_loss: 2.5991 - val_rpn_class_loss: 0.2177 - val_rpn_bbox_loss: 1.2210 - val_mrcnn_class_loss: 0.3203 - val_mrcnn_bbox_loss: 0.3512 - val_mrcnn_mask_loss: 0.4888\n",
      "Epoch 13/50\n",
      "100/100 [==============================] - 80s 801ms/step - loss: 2.5433 - rpn_class_loss: 0.2049 - rpn_bbox_loss: 1.1841 - mrcnn_class_loss: 0.3054 - mrcnn_bbox_loss: 0.3655 - mrcnn_mask_loss: 0.4834 - val_loss: 2.6014 - val_rpn_class_loss: 0.2347 - val_rpn_bbox_loss: 1.1991 - val_mrcnn_class_loss: 0.3176 - val_mrcnn_bbox_loss: 0.3657 - val_mrcnn_mask_loss: 0.4843\n",
      "Epoch 14/50\n",
      "100/100 [==============================] - 79s 794ms/step - loss: 2.4765 - rpn_class_loss: 0.2039 - rpn_bbox_loss: 1.1770 - mrcnn_class_loss: 0.2869 - mrcnn_bbox_loss: 0.3348 - mrcnn_mask_loss: 0.4739 - val_loss: 2.5565 - val_rpn_class_loss: 0.2268 - val_rpn_bbox_loss: 1.2176 - val_mrcnn_class_loss: 0.3014 - val_mrcnn_bbox_loss: 0.3204 - val_mrcnn_mask_loss: 0.4903\n",
      "Epoch 15/50\n",
      "100/100 [==============================] - 79s 795ms/step - loss: 2.4284 - rpn_class_loss: 0.1987 - rpn_bbox_loss: 1.1656 - mrcnn_class_loss: 0.2726 - mrcnn_bbox_loss: 0.3254 - mrcnn_mask_loss: 0.4662 - val_loss: 2.4400 - val_rpn_class_loss: 0.1889 - val_rpn_bbox_loss: 1.2039 - val_mrcnn_class_loss: 0.2747 - val_mrcnn_bbox_loss: 0.3065 - val_mrcnn_mask_loss: 0.4660\n",
      "Epoch 16/50\n",
      "100/100 [==============================] - 79s 792ms/step - loss: 2.4000 - rpn_class_loss: 0.2014 - rpn_bbox_loss: 1.1564 - mrcnn_class_loss: 0.2636 - mrcnn_bbox_loss: 0.3165 - mrcnn_mask_loss: 0.4621 - val_loss: 2.5889 - val_rpn_class_loss: 0.2426 - val_rpn_bbox_loss: 1.1832 - val_mrcnn_class_loss: 0.3496 - val_mrcnn_bbox_loss: 0.3313 - val_mrcnn_mask_loss: 0.4821\n",
      "Epoch 17/50\n",
      "100/100 [==============================] - 78s 783ms/step - loss: 2.3799 - rpn_class_loss: 0.2037 - rpn_bbox_loss: 1.1545 - mrcnn_class_loss: 0.2664 - mrcnn_bbox_loss: 0.2980 - mrcnn_mask_loss: 0.4573 - val_loss: 2.4944 - val_rpn_class_loss: 0.2291 - val_rpn_bbox_loss: 1.2046 - val_mrcnn_class_loss: 0.2715 - val_mrcnn_bbox_loss: 0.3278 - val_mrcnn_mask_loss: 0.4614\n",
      "Epoch 18/50\n",
      "100/100 [==============================] - 79s 794ms/step - loss: 2.3543 - rpn_class_loss: 0.2018 - rpn_bbox_loss: 1.1543 - mrcnn_class_loss: 0.2558 - mrcnn_bbox_loss: 0.2904 - mrcnn_mask_loss: 0.4520 - val_loss: 2.4330 - val_rpn_class_loss: 0.2287 - val_rpn_bbox_loss: 1.1885 - val_mrcnn_class_loss: 0.2710 - val_mrcnn_bbox_loss: 0.2818 - val_mrcnn_mask_loss: 0.4629\n",
      "Epoch 19/50\n",
      "100/100 [==============================] - 80s 801ms/step - loss: 2.2937 - rpn_class_loss: 0.1982 - rpn_bbox_loss: 1.1406 - mrcnn_class_loss: 0.2462 - mrcnn_bbox_loss: 0.2696 - mrcnn_mask_loss: 0.4391 - val_loss: 2.4329 - val_rpn_class_loss: 0.2244 - val_rpn_bbox_loss: 1.1950 - val_mrcnn_class_loss: 0.2838 - val_mrcnn_bbox_loss: 0.2851 - val_mrcnn_mask_loss: 0.4447\n",
      "Epoch 20/50\n",
      "100/100 [==============================] - 76s 761ms/step - loss: 2.2861 - rpn_class_loss: 0.2006 - rpn_bbox_loss: 1.1394 - mrcnn_class_loss: 0.2410 - mrcnn_bbox_loss: 0.2668 - mrcnn_mask_loss: 0.4383 - val_loss: 2.4704 - val_rpn_class_loss: 0.2381 - val_rpn_bbox_loss: 1.1752 - val_mrcnn_class_loss: 0.3051 - val_mrcnn_bbox_loss: 0.2975 - val_mrcnn_mask_loss: 0.4544\n",
      "Epoch 21/50\n",
      "100/100 [==============================] - 76s 761ms/step - loss: 2.2510 - rpn_class_loss: 0.1956 - rpn_bbox_loss: 1.1327 - mrcnn_class_loss: 0.2289 - mrcnn_bbox_loss: 0.2610 - mrcnn_mask_loss: 0.4328 - val_loss: 2.3551 - val_rpn_class_loss: 0.2329 - val_rpn_bbox_loss: 1.1700 - val_mrcnn_class_loss: 0.2657 - val_mrcnn_bbox_loss: 0.2601 - val_mrcnn_mask_loss: 0.4264\n",
      "Epoch 22/50\n",
      "100/100 [==============================] - 77s 774ms/step - loss: 2.2020 - rpn_class_loss: 0.1957 - rpn_bbox_loss: 1.1247 - mrcnn_class_loss: 0.2202 - mrcnn_bbox_loss: 0.2381 - mrcnn_mask_loss: 0.4233 - val_loss: 2.3477 - val_rpn_class_loss: 0.2423 - val_rpn_bbox_loss: 1.1329 - val_mrcnn_class_loss: 0.2351 - val_mrcnn_bbox_loss: 0.2800 - val_mrcnn_mask_loss: 0.4574\n"
     ]
    },
    {
     "name": "stdout",
     "output_type": "stream",
     "text": [
      "Epoch 23/50\n",
      "100/100 [==============================] - 79s 793ms/step - loss: 2.1935 - rpn_class_loss: 0.1921 - rpn_bbox_loss: 1.1191 - mrcnn_class_loss: 0.2194 - mrcnn_bbox_loss: 0.2411 - mrcnn_mask_loss: 0.4218 - val_loss: 2.1144 - val_rpn_class_loss: 0.1797 - val_rpn_bbox_loss: 1.1125 - val_mrcnn_class_loss: 0.1818 - val_mrcnn_bbox_loss: 0.2218 - val_mrcnn_mask_loss: 0.4186\n",
      "Epoch 24/50\n",
      "100/100 [==============================] - 79s 793ms/step - loss: 2.1673 - rpn_class_loss: 0.1958 - rpn_bbox_loss: 1.1172 - mrcnn_class_loss: 0.2116 - mrcnn_bbox_loss: 0.2299 - mrcnn_mask_loss: 0.4128 - val_loss: 2.2274 - val_rpn_class_loss: 0.2082 - val_rpn_bbox_loss: 1.1566 - val_mrcnn_class_loss: 0.2074 - val_mrcnn_bbox_loss: 0.2288 - val_mrcnn_mask_loss: 0.4264\n",
      "Epoch 25/50\n",
      "100/100 [==============================] - 79s 789ms/step - loss: 2.1499 - rpn_class_loss: 0.1957 - rpn_bbox_loss: 1.1161 - mrcnn_class_loss: 0.2111 - mrcnn_bbox_loss: 0.2188 - mrcnn_mask_loss: 0.4080 - val_loss: 2.3076 - val_rpn_class_loss: 0.2501 - val_rpn_bbox_loss: 1.1319 - val_mrcnn_class_loss: 0.2542 - val_mrcnn_bbox_loss: 0.2454 - val_mrcnn_mask_loss: 0.4261\n",
      "Epoch 26/50\n",
      "100/100 [==============================] - 78s 775ms/step - loss: 2.1237 - rpn_class_loss: 0.1935 - rpn_bbox_loss: 1.1091 - mrcnn_class_loss: 0.2043 - mrcnn_bbox_loss: 0.2117 - mrcnn_mask_loss: 0.4051 - val_loss: 2.2290 - val_rpn_class_loss: 0.2254 - val_rpn_bbox_loss: 1.1080 - val_mrcnn_class_loss: 0.2332 - val_mrcnn_bbox_loss: 0.2282 - val_mrcnn_mask_loss: 0.4342\n",
      "Epoch 27/50\n",
      "100/100 [==============================] - 78s 780ms/step - loss: 2.0836 - rpn_class_loss: 0.1882 - rpn_bbox_loss: 1.0965 - mrcnn_class_loss: 0.2010 - mrcnn_bbox_loss: 0.2003 - mrcnn_mask_loss: 0.3975 - val_loss: 2.0897 - val_rpn_class_loss: 0.1833 - val_rpn_bbox_loss: 1.0962 - val_mrcnn_class_loss: 0.2076 - val_mrcnn_bbox_loss: 0.2063 - val_mrcnn_mask_loss: 0.3963\n",
      "Epoch 28/50\n",
      "100/100 [==============================] - 77s 767ms/step - loss: 2.1098 - rpn_class_loss: 0.1996 - rpn_bbox_loss: 1.0997 - mrcnn_class_loss: 0.2055 - mrcnn_bbox_loss: 0.2047 - mrcnn_mask_loss: 0.4003 - val_loss: 2.1658 - val_rpn_class_loss: 0.2233 - val_rpn_bbox_loss: 1.1244 - val_mrcnn_class_loss: 0.2166 - val_mrcnn_bbox_loss: 0.2036 - val_mrcnn_mask_loss: 0.3978\n",
      "Epoch 29/50\n",
      "100/100 [==============================] - 78s 778ms/step - loss: 2.0626 - rpn_class_loss: 0.1904 - rpn_bbox_loss: 1.0868 - mrcnn_class_loss: 0.1934 - mrcnn_bbox_loss: 0.1985 - mrcnn_mask_loss: 0.3936 - val_loss: 2.1795 - val_rpn_class_loss: 0.2229 - val_rpn_bbox_loss: 1.1403 - val_mrcnn_class_loss: 0.2109 - val_mrcnn_bbox_loss: 0.2095 - val_mrcnn_mask_loss: 0.3959\n",
      "Epoch 30/50\n",
      "100/100 [==============================] - 79s 792ms/step - loss: 2.0432 - rpn_class_loss: 0.1925 - rpn_bbox_loss: 1.0869 - mrcnn_class_loss: 0.1938 - mrcnn_bbox_loss: 0.1850 - mrcnn_mask_loss: 0.3849 - val_loss: 2.1041 - val_rpn_class_loss: 0.2112 - val_rpn_bbox_loss: 1.0685 - val_mrcnn_class_loss: 0.2223 - val_mrcnn_bbox_loss: 0.2110 - val_mrcnn_mask_loss: 0.3911\n",
      "Epoch 31/50\n",
      "100/100 [==============================] - 79s 790ms/step - loss: 2.0314 - rpn_class_loss: 0.1915 - rpn_bbox_loss: 1.0895 - mrcnn_class_loss: 0.1884 - mrcnn_bbox_loss: 0.1783 - mrcnn_mask_loss: 0.3838 - val_loss: 2.1225 - val_rpn_class_loss: 0.2341 - val_rpn_bbox_loss: 1.0959 - val_mrcnn_class_loss: 0.2101 - val_mrcnn_bbox_loss: 0.1981 - val_mrcnn_mask_loss: 0.3843\n",
      "Epoch 32/50\n",
      "100/100 [==============================] - 78s 778ms/step - loss: 1.9915 - rpn_class_loss: 0.1855 - rpn_bbox_loss: 1.0727 - mrcnn_class_loss: 0.1823 - mrcnn_bbox_loss: 0.1777 - mrcnn_mask_loss: 0.3734 - val_loss: 2.0529 - val_rpn_class_loss: 0.1828 - val_rpn_bbox_loss: 1.0981 - val_mrcnn_class_loss: 0.1895 - val_mrcnn_bbox_loss: 0.2073 - val_mrcnn_mask_loss: 0.3753\n",
      "Epoch 33/50\n",
      "100/100 [==============================] - 80s 796ms/step - loss: 1.9914 - rpn_class_loss: 0.1903 - rpn_bbox_loss: 1.0707 - mrcnn_class_loss: 0.1796 - mrcnn_bbox_loss: 0.1710 - mrcnn_mask_loss: 0.3798 - val_loss: 2.0636 - val_rpn_class_loss: 0.2082 - val_rpn_bbox_loss: 1.1289 - val_mrcnn_class_loss: 0.1754 - val_mrcnn_bbox_loss: 0.1712 - val_mrcnn_mask_loss: 0.3799\n",
      "Epoch 34/50\n",
      "100/100 [==============================] - 85s 852ms/step - loss: 1.9795 - rpn_class_loss: 0.1897 - rpn_bbox_loss: 1.0643 - mrcnn_class_loss: 0.1820 - mrcnn_bbox_loss: 0.1707 - mrcnn_mask_loss: 0.3728 - val_loss: 2.0439 - val_rpn_class_loss: 0.2119 - val_rpn_bbox_loss: 1.0885 - val_mrcnn_class_loss: 0.1939 - val_mrcnn_bbox_loss: 0.1777 - val_mrcnn_mask_loss: 0.3719\n",
      "Epoch 35/50\n",
      "100/100 [==============================] - 80s 796ms/step - loss: 1.9629 - rpn_class_loss: 0.1884 - rpn_bbox_loss: 1.0675 - mrcnn_class_loss: 0.1752 - mrcnn_bbox_loss: 0.1654 - mrcnn_mask_loss: 0.3664 - val_loss: 2.1492 - val_rpn_class_loss: 0.2722 - val_rpn_bbox_loss: 1.0663 - val_mrcnn_class_loss: 0.2133 - val_mrcnn_bbox_loss: 0.1996 - val_mrcnn_mask_loss: 0.3977\n",
      "Epoch 36/50\n",
      "100/100 [==============================] - 78s 775ms/step - loss: 1.9335 - rpn_class_loss: 0.1840 - rpn_bbox_loss: 1.0527 - mrcnn_class_loss: 0.1727 - mrcnn_bbox_loss: 0.1611 - mrcnn_mask_loss: 0.3630 - val_loss: 2.0634 - val_rpn_class_loss: 0.2373 - val_rpn_bbox_loss: 1.0622 - val_mrcnn_class_loss: 0.2074 - val_mrcnn_bbox_loss: 0.1821 - val_mrcnn_mask_loss: 0.3745\n",
      "Epoch 37/50\n",
      "100/100 [==============================] - 77s 772ms/step - loss: 1.9348 - rpn_class_loss: 0.1861 - rpn_bbox_loss: 1.0531 - mrcnn_class_loss: 0.1713 - mrcnn_bbox_loss: 0.1631 - mrcnn_mask_loss: 0.3612 - val_loss: 1.9849 - val_rpn_class_loss: 0.1963 - val_rpn_bbox_loss: 1.0915 - val_mrcnn_class_loss: 0.1686 - val_mrcnn_bbox_loss: 0.1647 - val_mrcnn_mask_loss: 0.3638\n",
      "Epoch 38/50\n",
      "100/100 [==============================] - 78s 777ms/step - loss: 1.9259 - rpn_class_loss: 0.1898 - rpn_bbox_loss: 1.0473 - mrcnn_class_loss: 0.1731 - mrcnn_bbox_loss: 0.1570 - mrcnn_mask_loss: 0.3586 - val_loss: 1.9261 - val_rpn_class_loss: 0.1769 - val_rpn_bbox_loss: 1.0562 - val_mrcnn_class_loss: 0.1687 - val_mrcnn_bbox_loss: 0.1652 - val_mrcnn_mask_loss: 0.3590\n",
      "Epoch 39/50\n",
      "100/100 [==============================] - 78s 780ms/step - loss: 1.9096 - rpn_class_loss: 0.1879 - rpn_bbox_loss: 1.0378 - mrcnn_class_loss: 0.1705 - mrcnn_bbox_loss: 0.1595 - mrcnn_mask_loss: 0.3538 - val_loss: 2.0091 - val_rpn_class_loss: 0.1936 - val_rpn_bbox_loss: 1.1078 - val_mrcnn_class_loss: 0.1495 - val_mrcnn_bbox_loss: 0.1755 - val_mrcnn_mask_loss: 0.3827\n",
      "Epoch 40/50\n",
      "100/100 [==============================] - 83s 826ms/step - loss: 1.9035 - rpn_class_loss: 0.1892 - rpn_bbox_loss: 1.0385 - mrcnn_class_loss: 0.1663 - mrcnn_bbox_loss: 0.1556 - mrcnn_mask_loss: 0.3539 - val_loss: 1.9001 - val_rpn_class_loss: 0.1852 - val_rpn_bbox_loss: 1.0407 - val_mrcnn_class_loss: 0.1566 - val_mrcnn_bbox_loss: 0.1587 - val_mrcnn_mask_loss: 0.3589\n",
      "Epoch 41/50\n",
      "100/100 [==============================] - 78s 778ms/step - loss: 1.8880 - rpn_class_loss: 0.1844 - rpn_bbox_loss: 1.0333 - mrcnn_class_loss: 0.1644 - mrcnn_bbox_loss: 0.1548 - mrcnn_mask_loss: 0.3511 - val_loss: 2.0569 - val_rpn_class_loss: 0.2182 - val_rpn_bbox_loss: 1.0802 - val_mrcnn_class_loss: 0.1969 - val_mrcnn_bbox_loss: 0.1867 - val_mrcnn_mask_loss: 0.3749\n",
      "Epoch 42/50\n",
      "100/100 [==============================] - 78s 784ms/step - loss: 1.8583 - rpn_class_loss: 0.1809 - rpn_bbox_loss: 1.0208 - mrcnn_class_loss: 0.1663 - mrcnn_bbox_loss: 0.1490 - mrcnn_mask_loss: 0.3412 - val_loss: 1.8816 - val_rpn_class_loss: 0.1963 - val_rpn_bbox_loss: 1.0123 - val_mrcnn_class_loss: 0.1463 - val_mrcnn_bbox_loss: 0.1681 - val_mrcnn_mask_loss: 0.3586\n",
      "Epoch 43/50\n",
      "100/100 [==============================] - 78s 777ms/step - loss: 1.8595 - rpn_class_loss: 0.1831 - rpn_bbox_loss: 1.0190 - mrcnn_class_loss: 0.1609 - mrcnn_bbox_loss: 0.1498 - mrcnn_mask_loss: 0.3467 - val_loss: 1.8566 - val_rpn_class_loss: 0.1743 - val_rpn_bbox_loss: 1.0327 - val_mrcnn_class_loss: 0.1624 - val_mrcnn_bbox_loss: 0.1507 - val_mrcnn_mask_loss: 0.3366\n",
      "Epoch 44/50\n",
      "100/100 [==============================] - 83s 830ms/step - loss: 1.8525 - rpn_class_loss: 0.1863 - rpn_bbox_loss: 1.0106 - mrcnn_class_loss: 0.1670 - mrcnn_bbox_loss: 0.1454 - mrcnn_mask_loss: 0.3433 - val_loss: 2.0143 - val_rpn_class_loss: 0.2386 - val_rpn_bbox_loss: 1.0680 - val_mrcnn_class_loss: 0.1806 - val_mrcnn_bbox_loss: 0.1512 - val_mrcnn_mask_loss: 0.3759\n"
     ]
    },
    {
     "name": "stdout",
     "output_type": "stream",
     "text": [
      "Epoch 45/50\n",
      "100/100 [==============================] - 85s 853ms/step - loss: 1.8309 - rpn_class_loss: 0.1821 - rpn_bbox_loss: 1.0063 - mrcnn_class_loss: 0.1590 - mrcnn_bbox_loss: 0.1423 - mrcnn_mask_loss: 0.3413 - val_loss: 1.9545 - val_rpn_class_loss: 0.2017 - val_rpn_bbox_loss: 1.0461 - val_mrcnn_class_loss: 0.1703 - val_mrcnn_bbox_loss: 0.1692 - val_mrcnn_mask_loss: 0.3672\n",
      "Epoch 46/50\n",
      "100/100 [==============================] - 84s 835ms/step - loss: 1.8128 - rpn_class_loss: 0.1789 - rpn_bbox_loss: 1.0022 - mrcnn_class_loss: 0.1553 - mrcnn_bbox_loss: 0.1418 - mrcnn_mask_loss: 0.3347 - val_loss: 1.8826 - val_rpn_class_loss: 0.1943 - val_rpn_bbox_loss: 1.0282 - val_mrcnn_class_loss: 0.1677 - val_mrcnn_bbox_loss: 0.1590 - val_mrcnn_mask_loss: 0.3333\n",
      "Epoch 47/50\n",
      "100/100 [==============================] - 80s 800ms/step - loss: 1.8177 - rpn_class_loss: 0.1865 - rpn_bbox_loss: 0.9916 - mrcnn_class_loss: 0.1567 - mrcnn_bbox_loss: 0.1485 - mrcnn_mask_loss: 0.3345 - val_loss: 1.8519 - val_rpn_class_loss: 0.1915 - val_rpn_bbox_loss: 1.0170 - val_mrcnn_class_loss: 0.1579 - val_mrcnn_bbox_loss: 0.1482 - val_mrcnn_mask_loss: 0.3373\n",
      "Epoch 48/50\n",
      "100/100 [==============================] - 77s 770ms/step - loss: 1.7975 - rpn_class_loss: 0.1794 - rpn_bbox_loss: 0.9896 - mrcnn_class_loss: 0.1533 - mrcnn_bbox_loss: 0.1427 - mrcnn_mask_loss: 0.3326 - val_loss: 1.9306 - val_rpn_class_loss: 0.1943 - val_rpn_bbox_loss: 1.0189 - val_mrcnn_class_loss: 0.1860 - val_mrcnn_bbox_loss: 0.1809 - val_mrcnn_mask_loss: 0.3505\n",
      "Epoch 49/50\n",
      "100/100 [==============================] - 82s 824ms/step - loss: 1.8089 - rpn_class_loss: 0.1787 - rpn_bbox_loss: 0.9855 - mrcnn_class_loss: 0.1660 - mrcnn_bbox_loss: 0.1466 - mrcnn_mask_loss: 0.3321 - val_loss: 1.9905 - val_rpn_class_loss: 0.2321 - val_rpn_bbox_loss: 1.0124 - val_mrcnn_class_loss: 0.2131 - val_mrcnn_bbox_loss: 0.1776 - val_mrcnn_mask_loss: 0.3553\n",
      "Epoch 50/50\n",
      "100/100 [==============================] - 84s 836ms/step - loss: 1.7805 - rpn_class_loss: 0.1802 - rpn_bbox_loss: 0.9814 - mrcnn_class_loss: 0.1514 - mrcnn_bbox_loss: 0.1410 - mrcnn_mask_loss: 0.3265 - val_loss: 1.8850 - val_rpn_class_loss: 0.2087 - val_rpn_bbox_loss: 0.9741 - val_mrcnn_class_loss: 0.2032 - val_mrcnn_bbox_loss: 0.1517 - val_mrcnn_mask_loss: 0.3473\n",
      "\n",
      "Starting at epoch 50. LR=0.0001\n",
      "\n",
      "Checkpoint Path: /home/ouc/whx/eddy_detection/mrcnn/Mask_RCNN/logs/eddies20190327T0145/mask_rcnn_eddies_{epoch:04d}.h5\n",
      "Selecting layers to train\n",
      "mmf1                   (Conv2D)\n",
      "bn_mmf1                (BatchNorm)\n",
      "mmf2                   (Conv2D)\n",
      "bn_mmf2                (BatchNorm)\n",
      "mmf3                   (Conv2D)\n",
      "bn_mmf3                (BatchNorm)\n",
      "conv1                  (Conv2D)\n",
      "bn_conv1               (BatchNorm)\n",
      "res2a_branch2a         (Conv2D)\n",
      "bn2a_branch2a          (BatchNorm)\n",
      "res2a_branch2b         (Conv2D)\n",
      "bn2a_branch2b          (BatchNorm)\n",
      "res2a_branch2c         (Conv2D)\n",
      "res2a_branch1          (Conv2D)\n",
      "bn2a_branch2c          (BatchNorm)\n",
      "bn2a_branch1           (BatchNorm)\n",
      "res2b_branch2a         (Conv2D)\n",
      "bn2b_branch2a          (BatchNorm)\n",
      "res2b_branch2b         (Conv2D)\n",
      "bn2b_branch2b          (BatchNorm)\n",
      "res2b_branch2c         (Conv2D)\n",
      "bn2b_branch2c          (BatchNorm)\n",
      "res2c_branch2a         (Conv2D)\n",
      "bn2c_branch2a          (BatchNorm)\n",
      "res2c_branch2b         (Conv2D)\n",
      "bn2c_branch2b          (BatchNorm)\n",
      "res2c_branch2c         (Conv2D)\n",
      "bn2c_branch2c          (BatchNorm)\n",
      "res3a_branch2a         (Conv2D)\n",
      "bn3a_branch2a          (BatchNorm)\n",
      "res3a_branch2b         (Conv2D)\n",
      "bn3a_branch2b          (BatchNorm)\n",
      "res3a_branch2c         (Conv2D)\n",
      "res3a_branch1          (Conv2D)\n",
      "bn3a_branch2c          (BatchNorm)\n",
      "bn3a_branch1           (BatchNorm)\n",
      "res3b_branch2a         (Conv2D)\n",
      "bn3b_branch2a          (BatchNorm)\n",
      "res3b_branch2b         (Conv2D)\n",
      "bn3b_branch2b          (BatchNorm)\n",
      "res3b_branch2c         (Conv2D)\n",
      "bn3b_branch2c          (BatchNorm)\n",
      "res3c_branch2a         (Conv2D)\n",
      "bn3c_branch2a          (BatchNorm)\n",
      "res3c_branch2b         (Conv2D)\n",
      "bn3c_branch2b          (BatchNorm)\n",
      "res3c_branch2c         (Conv2D)\n",
      "bn3c_branch2c          (BatchNorm)\n",
      "res3d_branch2a         (Conv2D)\n",
      "bn3d_branch2a          (BatchNorm)\n",
      "res3d_branch2b         (Conv2D)\n",
      "bn3d_branch2b          (BatchNorm)\n",
      "res3d_branch2c         (Conv2D)\n",
      "bn3d_branch2c          (BatchNorm)\n",
      "res4a_branch2a         (Conv2D)\n",
      "bn4a_branch2a          (BatchNorm)\n",
      "res4a_branch2b         (Conv2D)\n",
      "bn4a_branch2b          (BatchNorm)\n",
      "res4a_branch2c         (Conv2D)\n",
      "res4a_branch1          (Conv2D)\n",
      "bn4a_branch2c          (BatchNorm)\n",
      "bn4a_branch1           (BatchNorm)\n",
      "res4b_branch2a         (Conv2D)\n",
      "bn4b_branch2a          (BatchNorm)\n",
      "res4b_branch2b         (Conv2D)\n",
      "bn4b_branch2b          (BatchNorm)\n",
      "res4b_branch2c         (Conv2D)\n",
      "bn4b_branch2c          (BatchNorm)\n",
      "res4c_branch2a         (Conv2D)\n",
      "bn4c_branch2a          (BatchNorm)\n",
      "res4c_branch2b         (Conv2D)\n",
      "bn4c_branch2b          (BatchNorm)\n",
      "res4c_branch2c         (Conv2D)\n",
      "bn4c_branch2c          (BatchNorm)\n",
      "res4d_branch2a         (Conv2D)\n",
      "bn4d_branch2a          (BatchNorm)\n",
      "res4d_branch2b         (Conv2D)\n",
      "bn4d_branch2b          (BatchNorm)\n",
      "res4d_branch2c         (Conv2D)\n",
      "bn4d_branch2c          (BatchNorm)\n",
      "res4e_branch2a         (Conv2D)\n",
      "bn4e_branch2a          (BatchNorm)\n",
      "res4e_branch2b         (Conv2D)\n",
      "bn4e_branch2b          (BatchNorm)\n",
      "res4e_branch2c         (Conv2D)\n",
      "bn4e_branch2c          (BatchNorm)\n",
      "res4f_branch2a         (Conv2D)\n",
      "bn4f_branch2a          (BatchNorm)\n",
      "res4f_branch2b         (Conv2D)\n",
      "bn4f_branch2b          (BatchNorm)\n",
      "res4f_branch2c         (Conv2D)\n",
      "bn4f_branch2c          (BatchNorm)\n",
      "res4g_branch2a         (Conv2D)\n",
      "bn4g_branch2a          (BatchNorm)\n",
      "res4g_branch2b         (Conv2D)\n",
      "bn4g_branch2b          (BatchNorm)\n",
      "res4g_branch2c         (Conv2D)\n",
      "bn4g_branch2c          (BatchNorm)\n",
      "res4h_branch2a         (Conv2D)\n",
      "bn4h_branch2a          (BatchNorm)\n",
      "res4h_branch2b         (Conv2D)\n",
      "bn4h_branch2b          (BatchNorm)\n",
      "res4h_branch2c         (Conv2D)\n",
      "bn4h_branch2c          (BatchNorm)\n",
      "res4i_branch2a         (Conv2D)\n",
      "bn4i_branch2a          (BatchNorm)\n",
      "res4i_branch2b         (Conv2D)\n",
      "bn4i_branch2b          (BatchNorm)\n",
      "res4i_branch2c         (Conv2D)\n",
      "bn4i_branch2c          (BatchNorm)\n",
      "res4j_branch2a         (Conv2D)\n",
      "bn4j_branch2a          (BatchNorm)\n",
      "res4j_branch2b         (Conv2D)\n",
      "bn4j_branch2b          (BatchNorm)\n",
      "res4j_branch2c         (Conv2D)\n",
      "bn4j_branch2c          (BatchNorm)\n",
      "res4k_branch2a         (Conv2D)\n",
      "bn4k_branch2a          (BatchNorm)\n",
      "res4k_branch2b         (Conv2D)\n",
      "bn4k_branch2b          (BatchNorm)\n",
      "res4k_branch2c         (Conv2D)\n",
      "bn4k_branch2c          (BatchNorm)\n",
      "res4l_branch2a         (Conv2D)\n",
      "bn4l_branch2a          (BatchNorm)\n",
      "res4l_branch2b         (Conv2D)\n",
      "bn4l_branch2b          (BatchNorm)\n",
      "res4l_branch2c         (Conv2D)\n",
      "bn4l_branch2c          (BatchNorm)\n",
      "res4m_branch2a         (Conv2D)\n",
      "bn4m_branch2a          (BatchNorm)\n",
      "res4m_branch2b         (Conv2D)\n",
      "bn4m_branch2b          (BatchNorm)\n",
      "res4m_branch2c         (Conv2D)\n",
      "bn4m_branch2c          (BatchNorm)\n",
      "res4n_branch2a         (Conv2D)\n",
      "bn4n_branch2a          (BatchNorm)\n",
      "res4n_branch2b         (Conv2D)\n",
      "bn4n_branch2b          (BatchNorm)\n",
      "res4n_branch2c         (Conv2D)\n",
      "bn4n_branch2c          (BatchNorm)\n",
      "res4o_branch2a         (Conv2D)\n",
      "bn4o_branch2a          (BatchNorm)\n",
      "res4o_branch2b         (Conv2D)\n",
      "bn4o_branch2b          (BatchNorm)\n",
      "res4o_branch2c         (Conv2D)\n",
      "bn4o_branch2c          (BatchNorm)\n",
      "res4p_branch2a         (Conv2D)\n",
      "bn4p_branch2a          (BatchNorm)\n",
      "res4p_branch2b         (Conv2D)\n",
      "bn4p_branch2b          (BatchNorm)\n",
      "res4p_branch2c         (Conv2D)\n",
      "bn4p_branch2c          (BatchNorm)\n",
      "res4q_branch2a         (Conv2D)\n",
      "bn4q_branch2a          (BatchNorm)\n",
      "res4q_branch2b         (Conv2D)\n",
      "bn4q_branch2b          (BatchNorm)\n",
      "res4q_branch2c         (Conv2D)\n",
      "bn4q_branch2c          (BatchNorm)\n",
      "res4r_branch2a         (Conv2D)\n",
      "bn4r_branch2a          (BatchNorm)\n",
      "res4r_branch2b         (Conv2D)\n",
      "bn4r_branch2b          (BatchNorm)\n",
      "res4r_branch2c         (Conv2D)\n",
      "bn4r_branch2c          (BatchNorm)\n",
      "res4s_branch2a         (Conv2D)\n",
      "bn4s_branch2a          (BatchNorm)\n",
      "res4s_branch2b         (Conv2D)\n",
      "bn4s_branch2b          (BatchNorm)\n",
      "res4s_branch2c         (Conv2D)\n",
      "bn4s_branch2c          (BatchNorm)\n",
      "res4t_branch2a         (Conv2D)\n",
      "bn4t_branch2a          (BatchNorm)\n",
      "res4t_branch2b         (Conv2D)\n",
      "bn4t_branch2b          (BatchNorm)\n",
      "res4t_branch2c         (Conv2D)\n",
      "bn4t_branch2c          (BatchNorm)\n",
      "res4u_branch2a         (Conv2D)\n",
      "bn4u_branch2a          (BatchNorm)\n",
      "res4u_branch2b         (Conv2D)\n",
      "bn4u_branch2b          (BatchNorm)\n",
      "res4u_branch2c         (Conv2D)\n",
      "bn4u_branch2c          (BatchNorm)\n",
      "res4v_branch2a         (Conv2D)\n",
      "bn4v_branch2a          (BatchNorm)\n",
      "res4v_branch2b         (Conv2D)\n",
      "bn4v_branch2b          (BatchNorm)\n",
      "res4v_branch2c         (Conv2D)\n",
      "bn4v_branch2c          (BatchNorm)\n",
      "res4w_branch2a         (Conv2D)\n",
      "bn4w_branch2a          (BatchNorm)\n",
      "res4w_branch2b         (Conv2D)\n",
      "bn4w_branch2b          (BatchNorm)\n",
      "res4w_branch2c         (Conv2D)\n",
      "bn4w_branch2c          (BatchNorm)\n",
      "res5a_branch2a         (Conv2D)\n",
      "bn5a_branch2a          (BatchNorm)\n",
      "res5a_branch2b         (Conv2D)\n",
      "bn5a_branch2b          (BatchNorm)\n",
      "res5a_branch2c         (Conv2D)\n",
      "res5a_branch1          (Conv2D)\n",
      "bn5a_branch2c          (BatchNorm)\n",
      "bn5a_branch1           (BatchNorm)\n",
      "res5b_branch2a         (Conv2D)\n",
      "bn5b_branch2a          (BatchNorm)\n",
      "res5b_branch2b         (Conv2D)\n",
      "bn5b_branch2b          (BatchNorm)\n",
      "res5b_branch2c         (Conv2D)\n",
      "bn5b_branch2c          (BatchNorm)\n",
      "res5c_branch2a         (Conv2D)\n",
      "bn5c_branch2a          (BatchNorm)\n",
      "res5c_branch2b         (Conv2D)\n",
      "bn5c_branch2b          (BatchNorm)\n",
      "res5c_branch2c         (Conv2D)\n",
      "bn5c_branch2c          (BatchNorm)\n",
      "fpn_c5p5               (Conv2D)\n",
      "fpn_c4p4               (Conv2D)\n",
      "fpn_c3p3               (Conv2D)\n",
      "fpn_c2p2               (Conv2D)\n",
      "fpn_p5                 (Conv2D)\n",
      "fpn_p2                 (Conv2D)\n",
      "fpn_p3                 (Conv2D)\n",
      "fpn_p4                 (Conv2D)\n",
      "In model:  rpn_model\n",
      "    rpn_conv_shared        (Conv2D)\n",
      "    rpn_class_raw          (Conv2D)\n",
      "    rpn_bbox_pred          (Conv2D)\n",
      "mrcnn_mask_conv1       (TimeDistributed)\n",
      "mrcnn_mask_bn1         (TimeDistributed)\n",
      "mrcnn_mask_conv2       (TimeDistributed)\n",
      "mrcnn_mask_bn2         (TimeDistributed)\n",
      "mrcnn_class_conv1      (TimeDistributed)\n",
      "mrcnn_class_bn1        (TimeDistributed)\n",
      "mrcnn_mask_conv3       (TimeDistributed)\n",
      "mrcnn_mask_bn3         (TimeDistributed)\n",
      "mrcnn_class_conv2      (TimeDistributed)\n",
      "mrcnn_class_bn2        (TimeDistributed)\n",
      "mrcnn_mask_conv4       (TimeDistributed)\n",
      "mrcnn_mask_bn4         (TimeDistributed)\n",
      "mrcnn_bbox_fc          (TimeDistributed)\n",
      "mrcnn_mask_deconv      (TimeDistributed)\n",
      "mrcnn_class_logits     (TimeDistributed)\n",
      "mrcnn_mask             (TimeDistributed)\n"
     ]
    },
    {
     "name": "stdout",
     "output_type": "stream",
     "text": [
      "Epoch 51/100\n",
      "100/100 [==============================] - 172s 2s/step - loss: 1.7151 - rpn_class_loss: 0.1751 - rpn_bbox_loss: 0.9660 - mrcnn_class_loss: 0.1449 - mrcnn_bbox_loss: 0.1208 - mrcnn_mask_loss: 0.3083 - val_loss: 1.7678 - val_rpn_class_loss: 0.1913 - val_rpn_bbox_loss: 0.9886 - val_mrcnn_class_loss: 0.1403 - val_mrcnn_bbox_loss: 0.1265 - val_mrcnn_mask_loss: 0.3210\n",
      "Epoch 52/100\n",
      "100/100 [==============================] - 108s 1s/step - loss: 1.6966 - rpn_class_loss: 0.1771 - rpn_bbox_loss: 0.9636 - mrcnn_class_loss: 0.1338 - mrcnn_bbox_loss: 0.1147 - mrcnn_mask_loss: 0.3073 - val_loss: 1.8260 - val_rpn_class_loss: 0.2067 - val_rpn_bbox_loss: 0.9859 - val_mrcnn_class_loss: 0.1619 - val_mrcnn_bbox_loss: 0.1396 - val_mrcnn_mask_loss: 0.3319\n",
      "Epoch 53/100\n",
      "100/100 [==============================] - 109s 1s/step - loss: 1.7018 - rpn_class_loss: 0.1850 - rpn_bbox_loss: 0.9534 - mrcnn_class_loss: 0.1406 - mrcnn_bbox_loss: 0.1138 - mrcnn_mask_loss: 0.3090 - val_loss: 1.8116 - val_rpn_class_loss: 0.2137 - val_rpn_bbox_loss: 0.9630 - val_mrcnn_class_loss: 0.1519 - val_mrcnn_bbox_loss: 0.1457 - val_mrcnn_mask_loss: 0.3373\n",
      "Epoch 54/100\n",
      "100/100 [==============================] - 108s 1s/step - loss: 1.6788 - rpn_class_loss: 0.1754 - rpn_bbox_loss: 0.9446 - mrcnn_class_loss: 0.1395 - mrcnn_bbox_loss: 0.1144 - mrcnn_mask_loss: 0.3049 - val_loss: 1.6562 - val_rpn_class_loss: 0.1598 - val_rpn_bbox_loss: 0.9728 - val_mrcnn_class_loss: 0.1187 - val_mrcnn_bbox_loss: 0.1019 - val_mrcnn_mask_loss: 0.3030\n",
      "Epoch 55/100\n",
      "100/100 [==============================] - 116s 1s/step - loss: 1.6671 - rpn_class_loss: 0.1768 - rpn_bbox_loss: 0.9501 - mrcnn_class_loss: 0.1316 - mrcnn_bbox_loss: 0.1084 - mrcnn_mask_loss: 0.3002 - val_loss: 1.7135 - val_rpn_class_loss: 0.2050 - val_rpn_bbox_loss: 0.9443 - val_mrcnn_class_loss: 0.1363 - val_mrcnn_bbox_loss: 0.1149 - val_mrcnn_mask_loss: 0.3129\n",
      "Epoch 56/100\n",
      "100/100 [==============================] - 113s 1s/step - loss: 1.6442 - rpn_class_loss: 0.1711 - rpn_bbox_loss: 0.9324 - mrcnn_class_loss: 0.1317 - mrcnn_bbox_loss: 0.1086 - mrcnn_mask_loss: 0.3003 - val_loss: 1.7563 - val_rpn_class_loss: 0.2014 - val_rpn_bbox_loss: 0.9490 - val_mrcnn_class_loss: 0.1390 - val_mrcnn_bbox_loss: 0.1446 - val_mrcnn_mask_loss: 0.3223\n",
      "Epoch 57/100\n",
      "100/100 [==============================] - 114s 1s/step - loss: 1.6677 - rpn_class_loss: 0.1784 - rpn_bbox_loss: 0.9376 - mrcnn_class_loss: 0.1360 - mrcnn_bbox_loss: 0.1140 - mrcnn_mask_loss: 0.3017 - val_loss: 1.7215 - val_rpn_class_loss: 0.1845 - val_rpn_bbox_loss: 0.9414 - val_mrcnn_class_loss: 0.1494 - val_mrcnn_bbox_loss: 0.1355 - val_mrcnn_mask_loss: 0.3107\n",
      "Epoch 58/100\n",
      "100/100 [==============================] - 116s 1s/step - loss: 1.6598 - rpn_class_loss: 0.1747 - rpn_bbox_loss: 0.9329 - mrcnn_class_loss: 0.1371 - mrcnn_bbox_loss: 0.1146 - mrcnn_mask_loss: 0.3004 - val_loss: 1.7354 - val_rpn_class_loss: 0.1840 - val_rpn_bbox_loss: 0.9387 - val_mrcnn_class_loss: 0.1569 - val_mrcnn_bbox_loss: 0.1354 - val_mrcnn_mask_loss: 0.3203\n",
      "Epoch 59/100\n",
      "100/100 [==============================] - 118s 1s/step - loss: 1.6359 - rpn_class_loss: 0.1735 - rpn_bbox_loss: 0.9247 - mrcnn_class_loss: 0.1328 - mrcnn_bbox_loss: 0.1072 - mrcnn_mask_loss: 0.2978 - val_loss: 1.8062 - val_rpn_class_loss: 0.2093 - val_rpn_bbox_loss: 0.9563 - val_mrcnn_class_loss: 0.1718 - val_mrcnn_bbox_loss: 0.1378 - val_mrcnn_mask_loss: 0.3309\n",
      "Epoch 60/100\n",
      "100/100 [==============================] - 113s 1s/step - loss: 1.6465 - rpn_class_loss: 0.1767 - rpn_bbox_loss: 0.9233 - mrcnn_class_loss: 0.1353 - mrcnn_bbox_loss: 0.1128 - mrcnn_mask_loss: 0.2983 - val_loss: 1.7175 - val_rpn_class_loss: 0.1967 - val_rpn_bbox_loss: 0.9660 - val_mrcnn_class_loss: 0.1351 - val_mrcnn_bbox_loss: 0.1150 - val_mrcnn_mask_loss: 0.3047\n",
      "Epoch 61/100\n",
      "100/100 [==============================] - 114s 1s/step - loss: 1.6343 - rpn_class_loss: 0.1742 - rpn_bbox_loss: 0.9127 - mrcnn_class_loss: 0.1352 - mrcnn_bbox_loss: 0.1110 - mrcnn_mask_loss: 0.3012 - val_loss: 1.6499 - val_rpn_class_loss: 0.1980 - val_rpn_bbox_loss: 0.9261 - val_mrcnn_class_loss: 0.1097 - val_mrcnn_bbox_loss: 0.1057 - val_mrcnn_mask_loss: 0.3103\n",
      "Epoch 62/100\n",
      "100/100 [==============================] - 113s 1s/step - loss: 1.6406 - rpn_class_loss: 0.1748 - rpn_bbox_loss: 0.9161 - mrcnn_class_loss: 0.1396 - mrcnn_bbox_loss: 0.1125 - mrcnn_mask_loss: 0.2976 - val_loss: 1.7084 - val_rpn_class_loss: 0.1917 - val_rpn_bbox_loss: 0.9579 - val_mrcnn_class_loss: 0.1462 - val_mrcnn_bbox_loss: 0.1122 - val_mrcnn_mask_loss: 0.3004\n",
      "Epoch 63/100\n",
      "100/100 [==============================] - 116s 1s/step - loss: 1.6341 - rpn_class_loss: 0.1722 - rpn_bbox_loss: 0.9174 - mrcnn_class_loss: 0.1337 - mrcnn_bbox_loss: 0.1117 - mrcnn_mask_loss: 0.2991 - val_loss: 1.8236 - val_rpn_class_loss: 0.2380 - val_rpn_bbox_loss: 0.9781 - val_mrcnn_class_loss: 0.1583 - val_mrcnn_bbox_loss: 0.1342 - val_mrcnn_mask_loss: 0.3151\n",
      "Epoch 64/100\n",
      "100/100 [==============================] - 117s 1s/step - loss: 1.6358 - rpn_class_loss: 0.1753 - rpn_bbox_loss: 0.9115 - mrcnn_class_loss: 0.1330 - mrcnn_bbox_loss: 0.1162 - mrcnn_mask_loss: 0.2998 - val_loss: 1.7493 - val_rpn_class_loss: 0.2163 - val_rpn_bbox_loss: 0.9253 - val_mrcnn_class_loss: 0.1649 - val_mrcnn_bbox_loss: 0.1250 - val_mrcnn_mask_loss: 0.3178\n",
      "Epoch 65/100\n",
      "100/100 [==============================] - 115s 1s/step - loss: 1.6099 - rpn_class_loss: 0.1728 - rpn_bbox_loss: 0.9003 - mrcnn_class_loss: 0.1282 - mrcnn_bbox_loss: 0.1127 - mrcnn_mask_loss: 0.2958 - val_loss: 1.5850 - val_rpn_class_loss: 0.1588 - val_rpn_bbox_loss: 0.9090 - val_mrcnn_class_loss: 0.1092 - val_mrcnn_bbox_loss: 0.1155 - val_mrcnn_mask_loss: 0.2925\n",
      "Epoch 66/100\n",
      "100/100 [==============================] - 108s 1s/step - loss: 1.6204 - rpn_class_loss: 0.1716 - rpn_bbox_loss: 0.8978 - mrcnn_class_loss: 0.1390 - mrcnn_bbox_loss: 0.1146 - mrcnn_mask_loss: 0.2973 - val_loss: 1.7492 - val_rpn_class_loss: 0.2092 - val_rpn_bbox_loss: 0.9462 - val_mrcnn_class_loss: 0.1418 - val_mrcnn_bbox_loss: 0.1257 - val_mrcnn_mask_loss: 0.3265\n",
      "Epoch 67/100\n",
      "100/100 [==============================] - 108s 1s/step - loss: 1.5984 - rpn_class_loss: 0.1688 - rpn_bbox_loss: 0.8986 - mrcnn_class_loss: 0.1279 - mrcnn_bbox_loss: 0.1092 - mrcnn_mask_loss: 0.2940 - val_loss: 1.7453 - val_rpn_class_loss: 0.2235 - val_rpn_bbox_loss: 0.9291 - val_mrcnn_class_loss: 0.1572 - val_mrcnn_bbox_loss: 0.1257 - val_mrcnn_mask_loss: 0.3098\n",
      "Epoch 68/100\n",
      "100/100 [==============================] - 108s 1s/step - loss: 1.6284 - rpn_class_loss: 0.1739 - rpn_bbox_loss: 0.9020 - mrcnn_class_loss: 0.1374 - mrcnn_bbox_loss: 0.1174 - mrcnn_mask_loss: 0.2977 - val_loss: 1.6519 - val_rpn_class_loss: 0.1905 - val_rpn_bbox_loss: 0.9187 - val_mrcnn_class_loss: 0.1280 - val_mrcnn_bbox_loss: 0.1096 - val_mrcnn_mask_loss: 0.3051\n",
      "Epoch 69/100\n",
      "100/100 [==============================] - 108s 1s/step - loss: 1.5801 - rpn_class_loss: 0.1651 - rpn_bbox_loss: 0.8913 - mrcnn_class_loss: 0.1248 - mrcnn_bbox_loss: 0.1075 - mrcnn_mask_loss: 0.2914 - val_loss: 1.7083 - val_rpn_class_loss: 0.1847 - val_rpn_bbox_loss: 0.9461 - val_mrcnn_class_loss: 0.1454 - val_mrcnn_bbox_loss: 0.1181 - val_mrcnn_mask_loss: 0.3140\n",
      "Epoch 70/100\n",
      "100/100 [==============================] - 106s 1s/step - loss: 1.6056 - rpn_class_loss: 0.1729 - rpn_bbox_loss: 0.8830 - mrcnn_class_loss: 0.1391 - mrcnn_bbox_loss: 0.1137 - mrcnn_mask_loss: 0.2968 - val_loss: 1.7726 - val_rpn_class_loss: 0.2108 - val_rpn_bbox_loss: 0.8985 - val_mrcnn_class_loss: 0.1876 - val_mrcnn_bbox_loss: 0.1472 - val_mrcnn_mask_loss: 0.3285\n",
      "Epoch 71/100\n",
      "100/100 [==============================] - 110s 1s/step - loss: 1.6215 - rpn_class_loss: 0.1794 - rpn_bbox_loss: 0.8863 - mrcnn_class_loss: 0.1387 - mrcnn_bbox_loss: 0.1186 - mrcnn_mask_loss: 0.2985 - val_loss: 1.6668 - val_rpn_class_loss: 0.1861 - val_rpn_bbox_loss: 0.9147 - val_mrcnn_class_loss: 0.1345 - val_mrcnn_bbox_loss: 0.1222 - val_mrcnn_mask_loss: 0.3093\n",
      "Epoch 72/100\n",
      "100/100 [==============================] - 108s 1s/step - loss: 1.5986 - rpn_class_loss: 0.1741 - rpn_bbox_loss: 0.8775 - mrcnn_class_loss: 0.1326 - mrcnn_bbox_loss: 0.1166 - mrcnn_mask_loss: 0.2977 - val_loss: 1.6876 - val_rpn_class_loss: 0.1889 - val_rpn_bbox_loss: 0.9090 - val_mrcnn_class_loss: 0.1396 - val_mrcnn_bbox_loss: 0.1290 - val_mrcnn_mask_loss: 0.3210\n"
     ]
    },
    {
     "name": "stdout",
     "output_type": "stream",
     "text": [
      "Epoch 73/100\n",
      "100/100 [==============================] - 108s 1s/step - loss: 1.5799 - rpn_class_loss: 0.1655 - rpn_bbox_loss: 0.8759 - mrcnn_class_loss: 0.1283 - mrcnn_bbox_loss: 0.1139 - mrcnn_mask_loss: 0.2963 - val_loss: 1.6719 - val_rpn_class_loss: 0.1867 - val_rpn_bbox_loss: 0.8838 - val_mrcnn_class_loss: 0.1665 - val_mrcnn_bbox_loss: 0.1269 - val_mrcnn_mask_loss: 0.3080\n",
      "Epoch 74/100\n",
      "100/100 [==============================] - 113s 1s/step - loss: 1.5959 - rpn_class_loss: 0.1713 - rpn_bbox_loss: 0.8760 - mrcnn_class_loss: 0.1365 - mrcnn_bbox_loss: 0.1170 - mrcnn_mask_loss: 0.2951 - val_loss: 1.5736 - val_rpn_class_loss: 0.1664 - val_rpn_bbox_loss: 0.8759 - val_mrcnn_class_loss: 0.1287 - val_mrcnn_bbox_loss: 0.1072 - val_mrcnn_mask_loss: 0.2955\n",
      "Epoch 75/100\n",
      "100/100 [==============================] - 116s 1s/step - loss: 1.5866 - rpn_class_loss: 0.1709 - rpn_bbox_loss: 0.8696 - mrcnn_class_loss: 0.1336 - mrcnn_bbox_loss: 0.1164 - mrcnn_mask_loss: 0.2961 - val_loss: 1.7336 - val_rpn_class_loss: 0.2253 - val_rpn_bbox_loss: 0.8848 - val_mrcnn_class_loss: 0.1717 - val_mrcnn_bbox_loss: 0.1362 - val_mrcnn_mask_loss: 0.3156\n",
      "Epoch 76/100\n",
      "100/100 [==============================] - 112s 1s/step - loss: 1.5726 - rpn_class_loss: 0.1725 - rpn_bbox_loss: 0.8626 - mrcnn_class_loss: 0.1287 - mrcnn_bbox_loss: 0.1152 - mrcnn_mask_loss: 0.2936 - val_loss: 1.7323 - val_rpn_class_loss: 0.2026 - val_rpn_bbox_loss: 0.9353 - val_mrcnn_class_loss: 0.1325 - val_mrcnn_bbox_loss: 0.1425 - val_mrcnn_mask_loss: 0.3193\n",
      "Epoch 77/100\n",
      "100/100 [==============================] - 114s 1s/step - loss: 1.5809 - rpn_class_loss: 0.1701 - rpn_bbox_loss: 0.8667 - mrcnn_class_loss: 0.1324 - mrcnn_bbox_loss: 0.1172 - mrcnn_mask_loss: 0.2944 - val_loss: 1.6122 - val_rpn_class_loss: 0.1744 - val_rpn_bbox_loss: 0.8696 - val_mrcnn_class_loss: 0.1464 - val_mrcnn_bbox_loss: 0.1234 - val_mrcnn_mask_loss: 0.2982\n",
      "Epoch 78/100\n",
      "100/100 [==============================] - 116s 1s/step - loss: 1.5723 - rpn_class_loss: 0.1704 - rpn_bbox_loss: 0.8597 - mrcnn_class_loss: 0.1333 - mrcnn_bbox_loss: 0.1150 - mrcnn_mask_loss: 0.2939 - val_loss: 1.6469 - val_rpn_class_loss: 0.1850 - val_rpn_bbox_loss: 0.8780 - val_mrcnn_class_loss: 0.1481 - val_mrcnn_bbox_loss: 0.1347 - val_mrcnn_mask_loss: 0.3011\n",
      "Epoch 79/100\n",
      "100/100 [==============================] - 113s 1s/step - loss: 1.5609 - rpn_class_loss: 0.1674 - rpn_bbox_loss: 0.8546 - mrcnn_class_loss: 0.1343 - mrcnn_bbox_loss: 0.1142 - mrcnn_mask_loss: 0.2904 - val_loss: 1.5392 - val_rpn_class_loss: 0.1608 - val_rpn_bbox_loss: 0.8492 - val_mrcnn_class_loss: 0.1200 - val_mrcnn_bbox_loss: 0.1196 - val_mrcnn_mask_loss: 0.2896\n",
      "Epoch 80/100\n",
      "100/100 [==============================] - 113s 1s/step - loss: 1.5650 - rpn_class_loss: 0.1688 - rpn_bbox_loss: 0.8571 - mrcnn_class_loss: 0.1287 - mrcnn_bbox_loss: 0.1171 - mrcnn_mask_loss: 0.2932 - val_loss: 1.6762 - val_rpn_class_loss: 0.1968 - val_rpn_bbox_loss: 0.8769 - val_mrcnn_class_loss: 0.1471 - val_mrcnn_bbox_loss: 0.1354 - val_mrcnn_mask_loss: 0.3201\n",
      "Epoch 81/100\n",
      "100/100 [==============================] - 113s 1s/step - loss: 1.5741 - rpn_class_loss: 0.1688 - rpn_bbox_loss: 0.8532 - mrcnn_class_loss: 0.1358 - mrcnn_bbox_loss: 0.1191 - mrcnn_mask_loss: 0.2972 - val_loss: 1.6450 - val_rpn_class_loss: 0.1799 - val_rpn_bbox_loss: 0.8722 - val_mrcnn_class_loss: 0.1455 - val_mrcnn_bbox_loss: 0.1352 - val_mrcnn_mask_loss: 0.3123\n",
      "Epoch 82/100\n",
      "100/100 [==============================] - 116s 1s/step - loss: 1.5613 - rpn_class_loss: 0.1685 - rpn_bbox_loss: 0.8510 - mrcnn_class_loss: 0.1329 - mrcnn_bbox_loss: 0.1163 - mrcnn_mask_loss: 0.2926 - val_loss: 1.6561 - val_rpn_class_loss: 0.1818 - val_rpn_bbox_loss: 0.8605 - val_mrcnn_class_loss: 0.1559 - val_mrcnn_bbox_loss: 0.1467 - val_mrcnn_mask_loss: 0.3112\n",
      "Epoch 83/100\n",
      "100/100 [==============================] - 116s 1s/step - loss: 1.5614 - rpn_class_loss: 0.1725 - rpn_bbox_loss: 0.8431 - mrcnn_class_loss: 0.1355 - mrcnn_bbox_loss: 0.1176 - mrcnn_mask_loss: 0.2926 - val_loss: 1.6891 - val_rpn_class_loss: 0.1999 - val_rpn_bbox_loss: 0.8741 - val_mrcnn_class_loss: 0.1512 - val_mrcnn_bbox_loss: 0.1483 - val_mrcnn_mask_loss: 0.3155\n",
      "Epoch 84/100\n",
      "100/100 [==============================] - 113s 1s/step - loss: 1.5560 - rpn_class_loss: 0.1692 - rpn_bbox_loss: 0.8413 - mrcnn_class_loss: 0.1294 - mrcnn_bbox_loss: 0.1204 - mrcnn_mask_loss: 0.2958 - val_loss: 1.6825 - val_rpn_class_loss: 0.2003 - val_rpn_bbox_loss: 0.8932 - val_mrcnn_class_loss: 0.1432 - val_mrcnn_bbox_loss: 0.1355 - val_mrcnn_mask_loss: 0.3103\n",
      "Epoch 85/100\n",
      "100/100 [==============================] - 114s 1s/step - loss: 1.5404 - rpn_class_loss: 0.1668 - rpn_bbox_loss: 0.8362 - mrcnn_class_loss: 0.1286 - mrcnn_bbox_loss: 0.1169 - mrcnn_mask_loss: 0.2919 - val_loss: 1.7106 - val_rpn_class_loss: 0.2017 - val_rpn_bbox_loss: 0.8801 - val_mrcnn_class_loss: 0.1569 - val_mrcnn_bbox_loss: 0.1500 - val_mrcnn_mask_loss: 0.3219\n",
      "Epoch 86/100\n",
      "100/100 [==============================] - 115s 1s/step - loss: 1.5464 - rpn_class_loss: 0.1688 - rpn_bbox_loss: 0.8307 - mrcnn_class_loss: 0.1365 - mrcnn_bbox_loss: 0.1183 - mrcnn_mask_loss: 0.2921 - val_loss: 1.6486 - val_rpn_class_loss: 0.1784 - val_rpn_bbox_loss: 0.8662 - val_mrcnn_class_loss: 0.1651 - val_mrcnn_bbox_loss: 0.1327 - val_mrcnn_mask_loss: 0.3061\n",
      "Epoch 87/100\n",
      "100/100 [==============================] - 114s 1s/step - loss: 1.5440 - rpn_class_loss: 0.1691 - rpn_bbox_loss: 0.8310 - mrcnn_class_loss: 0.1324 - mrcnn_bbox_loss: 0.1188 - mrcnn_mask_loss: 0.2926 - val_loss: 1.6431 - val_rpn_class_loss: 0.1943 - val_rpn_bbox_loss: 0.8442 - val_mrcnn_class_loss: 0.1531 - val_mrcnn_bbox_loss: 0.1434 - val_mrcnn_mask_loss: 0.3080\n",
      "Epoch 88/100\n",
      "100/100 [==============================] - 115s 1s/step - loss: 1.5448 - rpn_class_loss: 0.1689 - rpn_bbox_loss: 0.8270 - mrcnn_class_loss: 0.1360 - mrcnn_bbox_loss: 0.1192 - mrcnn_mask_loss: 0.2936 - val_loss: 1.6954 - val_rpn_class_loss: 0.1956 - val_rpn_bbox_loss: 0.8579 - val_mrcnn_class_loss: 0.1632 - val_mrcnn_bbox_loss: 0.1610 - val_mrcnn_mask_loss: 0.3176\n",
      "Epoch 89/100\n",
      "100/100 [==============================] - 112s 1s/step - loss: 1.5413 - rpn_class_loss: 0.1646 - rpn_bbox_loss: 0.8283 - mrcnn_class_loss: 0.1341 - mrcnn_bbox_loss: 0.1189 - mrcnn_mask_loss: 0.2952 - val_loss: 1.5509 - val_rpn_class_loss: 0.1571 - val_rpn_bbox_loss: 0.8129 - val_mrcnn_class_loss: 0.1514 - val_mrcnn_bbox_loss: 0.1327 - val_mrcnn_mask_loss: 0.2967\n",
      "Epoch 90/100\n",
      "100/100 [==============================] - 115s 1s/step - loss: 1.5423 - rpn_class_loss: 0.1687 - rpn_bbox_loss: 0.8234 - mrcnn_class_loss: 0.1346 - mrcnn_bbox_loss: 0.1218 - mrcnn_mask_loss: 0.2939 - val_loss: 1.6790 - val_rpn_class_loss: 0.2155 - val_rpn_bbox_loss: 0.8413 - val_mrcnn_class_loss: 0.1559 - val_mrcnn_bbox_loss: 0.1416 - val_mrcnn_mask_loss: 0.3247\n",
      "Epoch 91/100\n",
      "100/100 [==============================] - 114s 1s/step - loss: 1.5396 - rpn_class_loss: 0.1667 - rpn_bbox_loss: 0.8165 - mrcnn_class_loss: 0.1360 - mrcnn_bbox_loss: 0.1246 - mrcnn_mask_loss: 0.2957 - val_loss: 1.5927 - val_rpn_class_loss: 0.1695 - val_rpn_bbox_loss: 0.8621 - val_mrcnn_class_loss: 0.1307 - val_mrcnn_bbox_loss: 0.1358 - val_mrcnn_mask_loss: 0.2946\n",
      "Epoch 92/100\n",
      "100/100 [==============================] - 117s 1s/step - loss: 1.5343 - rpn_class_loss: 0.1679 - rpn_bbox_loss: 0.8131 - mrcnn_class_loss: 0.1345 - mrcnn_bbox_loss: 0.1237 - mrcnn_mask_loss: 0.2951 - val_loss: 1.5842 - val_rpn_class_loss: 0.1733 - val_rpn_bbox_loss: 0.8279 - val_mrcnn_class_loss: 0.1437 - val_mrcnn_bbox_loss: 0.1323 - val_mrcnn_mask_loss: 0.3070\n",
      "Epoch 93/100\n",
      "100/100 [==============================] - 117s 1s/step - loss: 1.5292 - rpn_class_loss: 0.1669 - rpn_bbox_loss: 0.8128 - mrcnn_class_loss: 0.1355 - mrcnn_bbox_loss: 0.1210 - mrcnn_mask_loss: 0.2930 - val_loss: 1.6176 - val_rpn_class_loss: 0.1907 - val_rpn_bbox_loss: 0.8230 - val_mrcnn_class_loss: 0.1564 - val_mrcnn_bbox_loss: 0.1357 - val_mrcnn_mask_loss: 0.3118\n",
      "Epoch 94/100\n",
      "100/100 [==============================] - 112s 1s/step - loss: 1.5292 - rpn_class_loss: 0.1681 - rpn_bbox_loss: 0.8101 - mrcnn_class_loss: 0.1324 - mrcnn_bbox_loss: 0.1240 - mrcnn_mask_loss: 0.2946 - val_loss: 1.6416 - val_rpn_class_loss: 0.1918 - val_rpn_bbox_loss: 0.8533 - val_mrcnn_class_loss: 0.1407 - val_mrcnn_bbox_loss: 0.1406 - val_mrcnn_mask_loss: 0.3151\n"
     ]
    },
    {
     "name": "stdout",
     "output_type": "stream",
     "text": [
      "Epoch 95/100\n",
      "100/100 [==============================] - 114s 1s/step - loss: 1.5225 - rpn_class_loss: 0.1663 - rpn_bbox_loss: 0.8050 - mrcnn_class_loss: 0.1355 - mrcnn_bbox_loss: 0.1231 - mrcnn_mask_loss: 0.2926 - val_loss: 1.5903 - val_rpn_class_loss: 0.1859 - val_rpn_bbox_loss: 0.8238 - val_mrcnn_class_loss: 0.1398 - val_mrcnn_bbox_loss: 0.1393 - val_mrcnn_mask_loss: 0.3016\n",
      "Epoch 96/100\n",
      "100/100 [==============================] - 114s 1s/step - loss: 1.5216 - rpn_class_loss: 0.1664 - rpn_bbox_loss: 0.8041 - mrcnn_class_loss: 0.1364 - mrcnn_bbox_loss: 0.1221 - mrcnn_mask_loss: 0.2926 - val_loss: 1.6461 - val_rpn_class_loss: 0.1802 - val_rpn_bbox_loss: 0.8350 - val_mrcnn_class_loss: 0.1728 - val_mrcnn_bbox_loss: 0.1437 - val_mrcnn_mask_loss: 0.3144\n",
      "Epoch 97/100\n",
      "100/100 [==============================] - 113s 1s/step - loss: 1.5204 - rpn_class_loss: 0.1659 - rpn_bbox_loss: 0.7941 - mrcnn_class_loss: 0.1386 - mrcnn_bbox_loss: 0.1263 - mrcnn_mask_loss: 0.2955 - val_loss: 1.6713 - val_rpn_class_loss: 0.2170 - val_rpn_bbox_loss: 0.8270 - val_mrcnn_class_loss: 0.1539 - val_mrcnn_bbox_loss: 0.1568 - val_mrcnn_mask_loss: 0.3165\n",
      "Epoch 98/100\n",
      "100/100 [==============================] - 114s 1s/step - loss: 1.5135 - rpn_class_loss: 0.1646 - rpn_bbox_loss: 0.7986 - mrcnn_class_loss: 0.1363 - mrcnn_bbox_loss: 0.1220 - mrcnn_mask_loss: 0.2920 - val_loss: 1.5666 - val_rpn_class_loss: 0.1763 - val_rpn_bbox_loss: 0.8015 - val_mrcnn_class_loss: 0.1523 - val_mrcnn_bbox_loss: 0.1379 - val_mrcnn_mask_loss: 0.2985\n",
      "Epoch 99/100\n",
      "100/100 [==============================] - 114s 1s/step - loss: 1.5061 - rpn_class_loss: 0.1667 - rpn_bbox_loss: 0.7917 - mrcnn_class_loss: 0.1325 - mrcnn_bbox_loss: 0.1232 - mrcnn_mask_loss: 0.2920 - val_loss: 1.6320 - val_rpn_class_loss: 0.2019 - val_rpn_bbox_loss: 0.8521 - val_mrcnn_class_loss: 0.1545 - val_mrcnn_bbox_loss: 0.1293 - val_mrcnn_mask_loss: 0.2942\n",
      "Epoch 100/100\n",
      "100/100 [==============================] - 115s 1s/step - loss: 1.5047 - rpn_class_loss: 0.1640 - rpn_bbox_loss: 0.7878 - mrcnn_class_loss: 0.1367 - mrcnn_bbox_loss: 0.1230 - mrcnn_mask_loss: 0.2932 - val_loss: 1.5557 - val_rpn_class_loss: 0.1792 - val_rpn_bbox_loss: 0.7872 - val_mrcnn_class_loss: 0.1370 - val_mrcnn_bbox_loss: 0.1375 - val_mrcnn_mask_loss: 0.3147\n"
     ]
    }
   ],
   "source": [
    "# Train the head branches\n",
    "# Passing layers=\"heads\" freezes all layers except the head\n",
    "# layers. You can also pass a regular expression to select\n",
    "# which layers to train by name pattern.\n",
    "model.train(eddy_train, eddy_val, \n",
    "            learning_rate=e_config.LEARNING_RATE, \n",
    "            epochs=50, \n",
    "            layers='heads')\n",
    "model.train(eddy_train, eddy_val, \n",
    "            learning_rate=e_config.LEARNING_RATE / 10,\n",
    "            epochs=100, \n",
    "            layers=\"all\")"
   ]
  },
  {
   "cell_type": "code",
   "execution_count": 23,
   "metadata": {
    "scrolled": true
   },
   "outputs": [
    {
     "name": "stdout",
     "output_type": "stream",
     "text": [
      "\n",
      "Starting at epoch 0. LR=0.0001\n",
      "\n",
      "Checkpoint Path: /home/ouc/whx/eddy_detection/mrcnn/Mask_RCNN/logs/eddies20190327T0126/mask_rcnn_eddies_{epoch:04d}.h5\n",
      "Selecting layers to train\n",
      "mmf1                   (Conv2D)\n",
      "bn_mmf1                (BatchNorm)\n",
      "mmf2                   (Conv2D)\n",
      "bn_mmf2                (BatchNorm)\n",
      "mmf3                   (Conv2D)\n",
      "bn_mmf3                (BatchNorm)\n",
      "conv1                  (Conv2D)\n",
      "bn_conv1               (BatchNorm)\n",
      "res2a_branch2a         (Conv2D)\n",
      "bn2a_branch2a          (BatchNorm)\n",
      "res2a_branch2b         (Conv2D)\n",
      "bn2a_branch2b          (BatchNorm)\n",
      "res2a_branch2c         (Conv2D)\n",
      "res2a_branch1          (Conv2D)\n",
      "bn2a_branch2c          (BatchNorm)\n",
      "bn2a_branch1           (BatchNorm)\n",
      "res2b_branch2a         (Conv2D)\n",
      "bn2b_branch2a          (BatchNorm)\n",
      "res2b_branch2b         (Conv2D)\n",
      "bn2b_branch2b          (BatchNorm)\n",
      "res2b_branch2c         (Conv2D)\n",
      "bn2b_branch2c          (BatchNorm)\n",
      "res2c_branch2a         (Conv2D)\n",
      "bn2c_branch2a          (BatchNorm)\n",
      "res2c_branch2b         (Conv2D)\n",
      "bn2c_branch2b          (BatchNorm)\n",
      "res2c_branch2c         (Conv2D)\n",
      "bn2c_branch2c          (BatchNorm)\n",
      "res3a_branch2a         (Conv2D)\n",
      "bn3a_branch2a          (BatchNorm)\n",
      "res3a_branch2b         (Conv2D)\n",
      "bn3a_branch2b          (BatchNorm)\n",
      "res3a_branch2c         (Conv2D)\n",
      "res3a_branch1          (Conv2D)\n",
      "bn3a_branch2c          (BatchNorm)\n",
      "bn3a_branch1           (BatchNorm)\n",
      "res3b_branch2a         (Conv2D)\n",
      "bn3b_branch2a          (BatchNorm)\n",
      "res3b_branch2b         (Conv2D)\n",
      "bn3b_branch2b          (BatchNorm)\n",
      "res3b_branch2c         (Conv2D)\n",
      "bn3b_branch2c          (BatchNorm)\n",
      "res3c_branch2a         (Conv2D)\n",
      "bn3c_branch2a          (BatchNorm)\n",
      "res3c_branch2b         (Conv2D)\n",
      "bn3c_branch2b          (BatchNorm)\n",
      "res3c_branch2c         (Conv2D)\n",
      "bn3c_branch2c          (BatchNorm)\n",
      "res3d_branch2a         (Conv2D)\n",
      "bn3d_branch2a          (BatchNorm)\n",
      "res3d_branch2b         (Conv2D)\n",
      "bn3d_branch2b          (BatchNorm)\n",
      "res3d_branch2c         (Conv2D)\n",
      "bn3d_branch2c          (BatchNorm)\n",
      "res4a_branch2a         (Conv2D)\n",
      "bn4a_branch2a          (BatchNorm)\n",
      "res4a_branch2b         (Conv2D)\n",
      "bn4a_branch2b          (BatchNorm)\n",
      "res4a_branch2c         (Conv2D)\n",
      "res4a_branch1          (Conv2D)\n",
      "bn4a_branch2c          (BatchNorm)\n",
      "bn4a_branch1           (BatchNorm)\n",
      "res4b_branch2a         (Conv2D)\n",
      "bn4b_branch2a          (BatchNorm)\n",
      "res4b_branch2b         (Conv2D)\n",
      "bn4b_branch2b          (BatchNorm)\n",
      "res4b_branch2c         (Conv2D)\n",
      "bn4b_branch2c          (BatchNorm)\n",
      "res4c_branch2a         (Conv2D)\n",
      "bn4c_branch2a          (BatchNorm)\n",
      "res4c_branch2b         (Conv2D)\n",
      "bn4c_branch2b          (BatchNorm)\n",
      "res4c_branch2c         (Conv2D)\n",
      "bn4c_branch2c          (BatchNorm)\n",
      "res4d_branch2a         (Conv2D)\n",
      "bn4d_branch2a          (BatchNorm)\n",
      "res4d_branch2b         (Conv2D)\n",
      "bn4d_branch2b          (BatchNorm)\n",
      "res4d_branch2c         (Conv2D)\n",
      "bn4d_branch2c          (BatchNorm)\n",
      "res4e_branch2a         (Conv2D)\n",
      "bn4e_branch2a          (BatchNorm)\n",
      "res4e_branch2b         (Conv2D)\n",
      "bn4e_branch2b          (BatchNorm)\n",
      "res4e_branch2c         (Conv2D)\n",
      "bn4e_branch2c          (BatchNorm)\n",
      "res4f_branch2a         (Conv2D)\n",
      "bn4f_branch2a          (BatchNorm)\n",
      "res4f_branch2b         (Conv2D)\n",
      "bn4f_branch2b          (BatchNorm)\n",
      "res4f_branch2c         (Conv2D)\n",
      "bn4f_branch2c          (BatchNorm)\n",
      "res4g_branch2a         (Conv2D)\n",
      "bn4g_branch2a          (BatchNorm)\n",
      "res4g_branch2b         (Conv2D)\n",
      "bn4g_branch2b          (BatchNorm)\n",
      "res4g_branch2c         (Conv2D)\n",
      "bn4g_branch2c          (BatchNorm)\n",
      "res4h_branch2a         (Conv2D)\n",
      "bn4h_branch2a          (BatchNorm)\n",
      "res4h_branch2b         (Conv2D)\n",
      "bn4h_branch2b          (BatchNorm)\n",
      "res4h_branch2c         (Conv2D)\n",
      "bn4h_branch2c          (BatchNorm)\n",
      "res4i_branch2a         (Conv2D)\n",
      "bn4i_branch2a          (BatchNorm)\n",
      "res4i_branch2b         (Conv2D)\n",
      "bn4i_branch2b          (BatchNorm)\n",
      "res4i_branch2c         (Conv2D)\n",
      "bn4i_branch2c          (BatchNorm)\n",
      "res4j_branch2a         (Conv2D)\n",
      "bn4j_branch2a          (BatchNorm)\n",
      "res4j_branch2b         (Conv2D)\n",
      "bn4j_branch2b          (BatchNorm)\n",
      "res4j_branch2c         (Conv2D)\n",
      "bn4j_branch2c          (BatchNorm)\n",
      "res4k_branch2a         (Conv2D)\n",
      "bn4k_branch2a          (BatchNorm)\n",
      "res4k_branch2b         (Conv2D)\n",
      "bn4k_branch2b          (BatchNorm)\n",
      "res4k_branch2c         (Conv2D)\n",
      "bn4k_branch2c          (BatchNorm)\n",
      "res4l_branch2a         (Conv2D)\n",
      "bn4l_branch2a          (BatchNorm)\n",
      "res4l_branch2b         (Conv2D)\n",
      "bn4l_branch2b          (BatchNorm)\n",
      "res4l_branch2c         (Conv2D)\n",
      "bn4l_branch2c          (BatchNorm)\n",
      "res4m_branch2a         (Conv2D)\n",
      "bn4m_branch2a          (BatchNorm)\n",
      "res4m_branch2b         (Conv2D)\n",
      "bn4m_branch2b          (BatchNorm)\n",
      "res4m_branch2c         (Conv2D)\n",
      "bn4m_branch2c          (BatchNorm)\n",
      "res4n_branch2a         (Conv2D)\n",
      "bn4n_branch2a          (BatchNorm)\n",
      "res4n_branch2b         (Conv2D)\n",
      "bn4n_branch2b          (BatchNorm)\n",
      "res4n_branch2c         (Conv2D)\n",
      "bn4n_branch2c          (BatchNorm)\n",
      "res4o_branch2a         (Conv2D)\n",
      "bn4o_branch2a          (BatchNorm)\n",
      "res4o_branch2b         (Conv2D)\n",
      "bn4o_branch2b          (BatchNorm)\n",
      "res4o_branch2c         (Conv2D)\n",
      "bn4o_branch2c          (BatchNorm)\n",
      "res4p_branch2a         (Conv2D)\n",
      "bn4p_branch2a          (BatchNorm)\n",
      "res4p_branch2b         (Conv2D)\n",
      "bn4p_branch2b          (BatchNorm)\n",
      "res4p_branch2c         (Conv2D)\n",
      "bn4p_branch2c          (BatchNorm)\n",
      "res4q_branch2a         (Conv2D)\n",
      "bn4q_branch2a          (BatchNorm)\n",
      "res4q_branch2b         (Conv2D)\n",
      "bn4q_branch2b          (BatchNorm)\n",
      "res4q_branch2c         (Conv2D)\n",
      "bn4q_branch2c          (BatchNorm)\n",
      "res4r_branch2a         (Conv2D)\n",
      "bn4r_branch2a          (BatchNorm)\n",
      "res4r_branch2b         (Conv2D)\n",
      "bn4r_branch2b          (BatchNorm)\n",
      "res4r_branch2c         (Conv2D)\n",
      "bn4r_branch2c          (BatchNorm)\n",
      "res4s_branch2a         (Conv2D)\n",
      "bn4s_branch2a          (BatchNorm)\n",
      "res4s_branch2b         (Conv2D)\n",
      "bn4s_branch2b          (BatchNorm)\n",
      "res4s_branch2c         (Conv2D)\n",
      "bn4s_branch2c          (BatchNorm)\n",
      "res4t_branch2a         (Conv2D)\n",
      "bn4t_branch2a          (BatchNorm)\n",
      "res4t_branch2b         (Conv2D)\n",
      "bn4t_branch2b          (BatchNorm)\n",
      "res4t_branch2c         (Conv2D)\n",
      "bn4t_branch2c          (BatchNorm)\n",
      "res4u_branch2a         (Conv2D)\n",
      "bn4u_branch2a          (BatchNorm)\n",
      "res4u_branch2b         (Conv2D)\n",
      "bn4u_branch2b          (BatchNorm)\n",
      "res4u_branch2c         (Conv2D)\n",
      "bn4u_branch2c          (BatchNorm)\n",
      "res4v_branch2a         (Conv2D)\n",
      "bn4v_branch2a          (BatchNorm)\n",
      "res4v_branch2b         (Conv2D)\n",
      "bn4v_branch2b          (BatchNorm)\n",
      "res4v_branch2c         (Conv2D)\n",
      "bn4v_branch2c          (BatchNorm)\n",
      "res4w_branch2a         (Conv2D)\n",
      "bn4w_branch2a          (BatchNorm)\n",
      "res4w_branch2b         (Conv2D)\n",
      "bn4w_branch2b          (BatchNorm)\n",
      "res4w_branch2c         (Conv2D)\n",
      "bn4w_branch2c          (BatchNorm)\n",
      "res5a_branch2a         (Conv2D)\n",
      "bn5a_branch2a          (BatchNorm)\n",
      "res5a_branch2b         (Conv2D)\n",
      "bn5a_branch2b          (BatchNorm)\n",
      "res5a_branch2c         (Conv2D)\n",
      "res5a_branch1          (Conv2D)\n",
      "bn5a_branch2c          (BatchNorm)\n",
      "bn5a_branch1           (BatchNorm)\n",
      "res5b_branch2a         (Conv2D)\n",
      "bn5b_branch2a          (BatchNorm)\n",
      "res5b_branch2b         (Conv2D)\n",
      "bn5b_branch2b          (BatchNorm)\n",
      "res5b_branch2c         (Conv2D)\n",
      "bn5b_branch2c          (BatchNorm)\n",
      "res5c_branch2a         (Conv2D)\n",
      "bn5c_branch2a          (BatchNorm)\n",
      "res5c_branch2b         (Conv2D)\n",
      "bn5c_branch2b          (BatchNorm)\n",
      "res5c_branch2c         (Conv2D)\n",
      "bn5c_branch2c          (BatchNorm)\n",
      "fpn_c5p5               (Conv2D)\n",
      "fpn_c4p4               (Conv2D)\n",
      "fpn_c3p3               (Conv2D)\n",
      "fpn_c2p2               (Conv2D)\n",
      "fpn_p5                 (Conv2D)\n",
      "fpn_p2                 (Conv2D)\n",
      "fpn_p3                 (Conv2D)\n",
      "fpn_p4                 (Conv2D)\n",
      "In model:  rpn_model\n",
      "    rpn_conv_shared        (Conv2D)\n",
      "    rpn_class_raw          (Conv2D)\n",
      "    rpn_bbox_pred          (Conv2D)\n",
      "mrcnn_mask_conv1       (TimeDistributed)\n",
      "mrcnn_mask_bn1         (TimeDistributed)\n",
      "mrcnn_mask_conv2       (TimeDistributed)\n",
      "mrcnn_mask_bn2         (TimeDistributed)\n",
      "mrcnn_class_conv1      (TimeDistributed)\n",
      "mrcnn_class_bn1        (TimeDistributed)\n",
      "mrcnn_mask_conv3       (TimeDistributed)\n",
      "mrcnn_mask_bn3         (TimeDistributed)\n",
      "mrcnn_class_conv2      (TimeDistributed)\n",
      "mrcnn_class_bn2        (TimeDistributed)\n",
      "mrcnn_mask_conv4       (TimeDistributed)\n",
      "mrcnn_mask_bn4         (TimeDistributed)\n",
      "mrcnn_bbox_fc          (TimeDistributed)\n",
      "mrcnn_mask_deconv      (TimeDistributed)\n",
      "mrcnn_class_logits     (TimeDistributed)\n",
      "mrcnn_mask             (TimeDistributed)\n"
     ]
    },
    {
     "name": "stderr",
     "output_type": "stream",
     "text": [
      "/home/ouc/anaconda3/lib/python3.6/site-packages/tensorflow/python/ops/gradients_impl.py:96: UserWarning: Converting sparse IndexedSlices to a dense Tensor of unknown shape. This may consume a large amount of memory.\n",
      "  \"Converting sparse IndexedSlices to a dense Tensor of unknown shape. \"\n",
      "/home/ouc/anaconda3/lib/python3.6/site-packages/keras/engine/training.py:2033: UserWarning: Using a generator with `use_multiprocessing=True` and multiple workers may duplicate your data. Please consider using the`keras.utils.Sequence class.\n",
      "  UserWarning('Using a generator with `use_multiprocessing=True`'\n"
     ]
    },
    {
     "name": "stdout",
     "output_type": "stream",
     "text": [
      "Epoch 1/2\n",
      "100/100 [==============================] - 439s 4s/step - loss: 6.5991 - rpn_class_loss: 1.2992 - rpn_bbox_loss: 2.8258 - mrcnn_class_loss: 0.6945 - mrcnn_bbox_loss: 1.0238 - mrcnn_mask_loss: 0.7558 - val_loss: 3.8265 - val_rpn_class_loss: 0.3803 - val_rpn_bbox_loss: 1.5127 - val_mrcnn_class_loss: 0.5435 - val_mrcnn_bbox_loss: 0.6939 - val_mrcnn_mask_loss: 0.6960\n",
      "Epoch 2/2\n",
      "100/100 [==============================] - 101s 1s/step - loss: 3.5606 - rpn_class_loss: 0.3353 - rpn_bbox_loss: 1.3697 - mrcnn_class_loss: 0.5069 - mrcnn_bbox_loss: 0.6611 - mrcnn_mask_loss: 0.6874 - val_loss: 3.6203 - val_rpn_class_loss: 0.3465 - val_rpn_bbox_loss: 1.3660 - val_mrcnn_class_loss: 0.5500 - val_mrcnn_bbox_loss: 0.6739 - val_mrcnn_mask_loss: 0.6838\n"
     ]
    }
   ],
   "source": [
    "# Fine tune all layers\n",
    "# Passing layers=\"all\" trains all layers. You can also \n",
    "# pass a regular expression to select which layers to\n",
    "# train by name pattern.\n",
    "model.train(eddy_train, eddy_val, \n",
    "            learning_rate=e_config.LEARNING_RATE / 10,\n",
    "            epochs=100, \n",
    "            layers=\"all\")"
   ]
  },
  {
   "cell_type": "code",
   "execution_count": 24,
   "metadata": {
    "collapsed": true
   },
   "outputs": [],
   "source": [
    "# Save weights\n",
    "# Typically not needed because callbacks save after every epoch\n",
    "# Uncomment to save manually\n",
    "# model_path = os.path.join(MODEL_DIR, \"mask_rcnn_eddy.h5\")\n",
    "# model.keras_model.save_weights(model_path)"
   ]
  },
  {
   "cell_type": "markdown",
   "metadata": {},
   "source": [
    "## Detection"
   ]
  },
  {
   "cell_type": "code",
   "execution_count": 24,
   "metadata": {},
   "outputs": [
    {
     "name": "stdout",
     "output_type": "stream",
     "text": [
      "build-model\n",
      "Loading weights from  /home/ouc/whx/eddy_detection/mrcnn/Mask_RCNN/logs/eddies20190327T0145/mask_rcnn_eddies_0100.h5\n",
      "Re-starting from epoch 100\n"
     ]
    }
   ],
   "source": [
    "class InferenceConfig(EddyConfig):\n",
    "    GPU_COUNT = 1\n",
    "    IMAGES_PER_GPU = 1\n",
    "\n",
    "inference_config = InferenceConfig()\n",
    "\n",
    "# Recreate the model in inference mode\n",
    "model = modellib.MaskRCNN(mode=\"inference\", \n",
    "                          config=inference_config,\n",
    "                          model_dir=MODEL_DIR)\n",
    "\n",
    "# Get path to saved weights\n",
    "# Either set a specific path or find last trained weights\n",
    "# model_path = os.path.join(ROOT_DIR, \".h5 file name here\")\n",
    "model_path = model.find_last()\n",
    "\n",
    "# Load trained weights\n",
    "print(\"Loading weights from \", model_path)\n",
    "model.load_weights(model_path, by_name=True)"
   ]
  },
  {
   "cell_type": "code",
   "execution_count": null,
   "metadata": {
    "collapsed": true
   },
   "outputs": [],
   "source": []
  },
  {
   "cell_type": "code",
   "execution_count": 34,
   "metadata": {},
   "outputs": [
    {
     "name": "stdout",
     "output_type": "stream",
     "text": [
      "original_image           shape: (128, 128, 3)         min:    0.00000  max:  255.00000  int64\n",
      "image_meta               shape: (15,)                 min:    0.00000  max:  128.00000  int64\n",
      "gt_class_id              shape: (19,)                 min:    1.00000  max:    2.00000  int32\n",
      "gt_bbox                  shape: (19, 4)               min:    0.00000  max:  124.00000  int32\n",
      "gt_mask                  shape: (128, 128, 19)        min:    0.00000  max:    1.00000  bool\n",
      "(128, 128, 3)\n",
      "(19, 4)\n",
      "(128, 128, 19)\n",
      "(19,)\n",
      "(128, 128, 3)\n"
     ]
    },
    {
     "data": {
      "image/png": "[encoded data removed]",
      "text/plain": [
       "<matplotlib.figure.Figure at 0x7f4f113c8828>"
      ]
     },
     "metadata": {},
     "output_type": "display_data"
    },
    {
     "data": {
      "image/png": "[encoded data removed]",
      "text/plain": [
       "<matplotlib.figure.Figure at 0x7f4f0810df28>"
      ]
     },
     "metadata": {},
     "output_type": "display_data"
    }
   ],
   "source": [
    "# Test on a random image\n",
    "# image_id = random.choice(eddy_val.image_ids)\n",
    "image_id = 60\n",
    "original_image, image_meta, gt_class_id, gt_bbox, gt_mask =\\\n",
    "    modellib.load_image_gt(eddy_val, inference_config, \n",
    "                           image_id, use_mini_mask=False)\n",
    "\n",
    "log(\"original_image\", original_image)\n",
    "log(\"image_meta\", image_meta)\n",
    "log(\"gt_class_id\", gt_class_id)\n",
    "log(\"gt_bbox\", gt_bbox)\n",
    "log(\"gt_mask\", gt_mask)\n",
    "print(original_image.shape)\n",
    "print(gt_bbox.shape)\n",
    "print(gt_mask.shape)\n",
    "print(gt_class_id.shape)\n",
    "\n",
    "original_image = eddy_val.load_orig_image(image_id)\n",
    "original_image1 = ssh_convert_to_image(original_image)\n",
    "\n",
    "visualize.display_instances(original_image1, gt_bbox, gt_mask, gt_class_id, \n",
    "                            eddy_train.class_names, figsize=(8, 8))"
   ]
  },
  {
   "cell_type": "code",
   "execution_count": 36,
   "metadata": {
    "scrolled": false
   },
   "outputs": [
    {
     "name": "stdout",
     "output_type": "stream",
     "text": [
      "Processing 1 images\n",
      "image                    shape: (128, 128, 3)         min:    0.00000  max:  255.00000  int64\n",
      "molded_images            shape: (1, 128, 128, 3)      min: -123.70000  max:  151.10000  float64\n",
      "image_metas              shape: (1, 15)               min:    0.00000  max:  128.00000  int64\n",
      "anchors                  shape: (1, 4092, 4)          min:   -0.35634  max:    0.99077  float32\n"
     ]
    },
    {
     "data": {
      "image/png": "[encoded data removed]",
      "text/plain": [
       "<matplotlib.figure.Figure at 0x7f4f03ed1d30>"
      ]
     },
     "metadata": {},
     "output_type": "display_data"
    }
   ],
   "source": [
    "train_ssh = eddy_train.load_image(image_id)\n",
    "results = model.detect([train_ssh], verbose=1)\n",
    "\n",
    "r = results[0]\n",
    "#print(r)\n",
    "confidence = 0.75\n",
    "scores = r['scores']\n",
    "del_index = []\n",
    "\n",
    "for i in range(len(scores)):\n",
    "    if scores[i] < confidence:\n",
    "        del_index.append(i)\n",
    "#print(del_index)\n",
    "\n",
    "r['rois'] = np.delete(r['rois'],del_index,axis = 0)\n",
    "r['masks'] = np.delete(r['masks'],del_index,axis = -1)\n",
    "r['class_ids'] = np.delete(r['class_ids'],del_index,axis = 0)\n",
    "r['scores'] = np.delete(r['scores'],del_index,axis = 0)\n",
    "\n",
    "\n",
    "visualize.display_instances(original_image1, r['rois'], r['masks'], r['class_ids'], \n",
    "                            eddy_val.class_names, r['scores'], ax=get_ax())"
   ]
  },
  {
   "cell_type": "code",
   "execution_count": 37,
   "metadata": {},
   "outputs": [
    {
     "name": "stdout",
     "output_type": "stream",
     "text": [
      "Processing 1 images\n",
      "image                    shape: (128, 128, 3)         min:    0.00000  max:  255.00000  int64\n",
      "molded_images            shape: (1, 128, 128, 3)      min: -123.70000  max:  151.10000  float64\n",
      "image_metas              shape: (1, 15)               min:    0.00000  max:  128.00000  int64\n",
      "anchors                  shape: (1, 4092, 4)          min:   -0.35634  max:    0.99077  float32\n"
     ]
    },
    {
     "data": {
      "image/png": "[encoded data removed]",
      "text/plain": [
       "<matplotlib.figure.Figure at 0x7f4f03ca00f0>"
      ]
     },
     "metadata": {},
     "output_type": "display_data"
    }
   ],
   "source": [
    "# fake EddyNet\n",
    "\n",
    "train_ssh = eddy_train.load_image(image_id)\n",
    "results = model.detect([train_ssh], verbose=1)\n",
    "\n",
    "r = results[0]\n",
    "# print(r)\n",
    "confidence = 0.80\n",
    "scores = r['scores']\n",
    "del_index = []\n",
    "\n",
    "for i in range(len(scores)):\n",
    "    if scores[i] < confidence:\n",
    "        del_index.append(i)\n",
    "#print(del_index)\n",
    "\n",
    "r['rois'] = np.delete(r['rois'],del_index,axis = 0)\n",
    "r['masks'] = np.delete(r['masks'],del_index,axis = -1)\n",
    "r['class_ids'] = np.delete(r['class_ids'],del_index,axis = 0)\n",
    "r['scores'] = np.delete(r['scores'],del_index,axis = 0)\n",
    "\n",
    "\n",
    "visualize.display_instances(original_image1, r['rois'], r['masks'], r['class_ids'], \n",
    "                            eddy_val.class_names, r['scores'], ax=get_ax())"
   ]
  },
  {
   "cell_type": "markdown",
   "metadata": {},
   "source": [
    "## Evaluation"
   ]
  },
  {
   "cell_type": "code",
   "execution_count": 39,
   "metadata": {},
   "outputs": [
    {
     "name": "stdout",
     "output_type": "stream",
     "text": [
      "mAP:  0.4954739644829675\n"
     ]
    }
   ],
   "source": [
    "# Compute VOC-Style mAP @ IoU=0.5\n",
    "# Running on 10 images. Increase for better accuracy.\n",
    "image_ids = np.random.choice(eddy_val.image_ids, 150)\n",
    "APs = []\n",
    "for image_id in image_ids:\n",
    "    # Load image and ground truth data\n",
    "    image, image_meta, gt_class_id, gt_bbox, gt_mask =\\\n",
    "        modellib.load_image_gt(eddy_val, inference_config,\n",
    "                               image_id, use_mini_mask=False)\n",
    "    molded_images = np.expand_dims(modellib.mold_image(image, inference_config), 0)\n",
    "    # Run object detection\n",
    "    results = model.detect([image], verbose=0)\n",
    "    r = results[0]\n",
    "    # Compute AP\n",
    "    AP, precisions, recalls, overlaps =\\\n",
    "        utils.compute_ap(gt_bbox, gt_class_id, gt_mask,\n",
    "                         r[\"rois\"], r[\"class_ids\"], r[\"scores\"], r['masks'])\n",
    "    APs.append(AP)\n",
    "    \n",
    "print(\"mAP: \", np.mean(APs))"
   ]
  },
  {
   "cell_type": "code",
   "execution_count": null,
   "metadata": {
    "collapsed": true
   },
   "outputs": [],
   "source": []
  },
  {
   "cell_type": "markdown",
   "metadata": {
    "collapsed": true
   },
   "source": [
    "# anchor scale 没改之前\n",
    "mAP:  0.0811868091779902\n",
    "\n",
    "epoch：\n",
    "# anchor scale 更改之后\n",
    "mAP:  0.2939656484731303\n",
    "\n",
    "epoch： 10+20"
   ]
  },
  {
   "cell_type": "code",
   "execution_count": 38,
   "metadata": {},
   "outputs": [
    {
     "data": {
      "text/plain": [
       "135"
      ]
     },
     "execution_count": 38,
     "metadata": {},
     "output_type": "execute_result"
    }
   ],
   "source": [
    "70----52\n",
    "80----55"
   ]
  },
  {
   "cell_type": "markdown",
   "metadata": {
    "collapsed": true
   },
   "source": [
    "image_id = 45 confidence = 0.80 涡旋预测完全正确"
   ]
  },
  {
   "cell_type": "code",
   "execution_count": null,
   "metadata": {
    "collapsed": true
   },
   "outputs": [],
   "source": []
  }
 ],
 "metadata": {
  "kernelspec": {
   "display_name": "Python 3",
   "language": "python",
   "name": "python3"
  },
  "language_info": {
   "codemirror_mode": {
    "name": "ipython",
    "version": 3
   },
   "file_extension": ".py",
   "mimetype": "text/x-python",
   "name": "python",
   "nbconvert_exporter": "python",
   "pygments_lexer": "ipython3",
   "version": "3.6.8"
  }
 },
 "nbformat": 4,
 "nbformat_minor": 2
}
