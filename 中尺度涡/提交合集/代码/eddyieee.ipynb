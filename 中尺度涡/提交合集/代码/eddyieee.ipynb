{
 "cells": [
  {
   "cell_type": "markdown",
   "metadata": {},
   "source": [
    "# Multi-modal mesoscale eddy segmentation NN - Train on Eddy Dataset\n",
    "\n",
    "The code of the *Eddy* dataset is included below. "
   ]
  },
  {
   "cell_type": "code",
   "execution_count": 1,
   "metadata": {},
   "outputs": [
    {
     "name": "stderr",
     "output_type": "stream",
     "text": [
      "/home/ouc/anaconda3/lib/python3.6/importlib/_bootstrap.py:219: RuntimeWarning: compiletime version 3.5 of module 'tensorflow.python.framework.fast_tensor_util' does not match runtime version 3.6\n",
      "  return f(*args, **kwds)\n",
      "/home/ouc/anaconda3/lib/python3.6/site-packages/h5py/__init__.py:34: FutureWarning: Conversion of the second argument of issubdtype from `float` to `np.floating` is deprecated. In future, it will be treated as `np.float64 == np.dtype(float).type`.\n",
      "  from ._conv import register_converters as _register_converters\n",
      "Using TensorFlow backend.\n"
     ]
    }
   ],
   "source": [
    "import os\n",
    "import sys\n",
    "import random\n",
    "import math\n",
    "import re\n",
    "import time\n",
    "import numpy as np\n",
    "import cv2\n",
    "import matplotlib\n",
    "import matplotlib.pyplot as plt\n",
    "from PIL import Image\n",
    "\n",
    "# Root directory of the project\n",
    "ROOT_DIR = os.path.abspath(\"../../\")\n",
    "\n",
    "# Import Mask RCNN\n",
    "sys.path.append(ROOT_DIR)  # To find local version of the library\n",
    "from mrcnn.config import Config\n",
    "from mrcnn import utils\n",
    "import mrcnn.model as modellib\n",
    "from mrcnn import visualize\n",
    "from mrcnn.model import log\n",
    "\n",
    "%matplotlib inline \n",
    "\n",
    "# Directory to save logs and trained model\n",
    "MODEL_DIR = os.path.join(ROOT_DIR, \"logs\")\n",
    "\n",
    "# Local path to trained weights file\n",
    "COCO_MODEL_PATH = os.path.join(ROOT_DIR, \"mask_rcnn_coco.h5\")\n",
    "# Download COCO trained weights from Releases if needed\n",
    "if not os.path.exists(COCO_MODEL_PATH):\n",
    "    utils.download_trained_weights(COCO_MODEL_PATH)"
   ]
  },
  {
   "cell_type": "markdown",
   "metadata": {},
   "source": [
    "## Configurations"
   ]
  },
  {
   "cell_type": "code",
   "execution_count": 2,
   "metadata": {},
   "outputs": [
    {
     "name": "stdout",
     "output_type": "stream",
     "text": [
      "\n",
      "Configurations:\n",
      "BACKBONE                       resnet101\n",
      "BACKBONE_STRIDES               [4, 8, 16, 32, 64]\n",
      "BATCH_SIZE                     16\n",
      "BBOX_STD_DEV                   [0.1 0.1 0.2 0.2]\n",
      "COMPUTE_BACKBONE_SHAPE         None\n",
      "DETECTION_MAX_INSTANCES        100\n",
      "DETECTION_MIN_CONFIDENCE       0.7\n",
      "DETECTION_NMS_THRESHOLD        0.3\n",
      "FPN_CLASSIF_FC_LAYERS_SIZE     1024\n",
      "GPU_COUNT                      2\n",
      "GRADIENT_CLIP_NORM             5.0\n",
      "IMAGES_PER_GPU                 8\n",
      "IMAGE_CHANNEL_COUNT            3\n",
      "IMAGE_MAX_DIM                  128\n",
      "IMAGE_META_SIZE                15\n",
      "IMAGE_MIN_DIM                  128\n",
      "IMAGE_MIN_SCALE                0\n",
      "IMAGE_RESIZE_MODE              square\n",
      "IMAGE_SHAPE                    [128 128   3]\n",
      "LEARNING_MOMENTUM              0.9\n",
      "LEARNING_RATE                  0.001\n",
      "LOSS_WEIGHTS                   {'rpn_class_loss': 1.0, 'rpn_bbox_loss': 1.0, 'mrcnn_class_loss': 1.0, 'mrcnn_bbox_loss': 1.0, 'mrcnn_mask_loss': 1.0}\n",
      "MASK_POOL_SIZE                 14\n",
      "MASK_SHAPE                     [28, 28]\n",
      "MAX_GT_INSTANCES               100\n",
      "MEAN_PIXEL                     [123.7 116.8 103.9]\n",
      "MINI_MASK_SHAPE                (56, 56)\n",
      "NAME                           eddies\n",
      "NUM_CLASSES                    3\n",
      "POOL_SIZE                      7\n",
      "POST_NMS_ROIS_INFERENCE        1000\n",
      "POST_NMS_ROIS_TRAINING         2000\n",
      "PRE_NMS_LIMIT                  6000\n",
      "ROI_POSITIVE_RATIO             0.33\n",
      "RPN_ANCHOR_RATIOS              [0.5, 1, 2]\n",
      "RPN_ANCHOR_SCALES              (4, 8, 16, 32, 64)\n",
      "RPN_ANCHOR_STRIDE              1\n",
      "RPN_BBOX_STD_DEV               [0.1 0.1 0.2 0.2]\n",
      "RPN_NMS_THRESHOLD              0.8\n",
      "RPN_TRAIN_ANCHORS_PER_IMAGE    256\n",
      "STEPS_PER_EPOCH                100\n",
      "TOP_DOWN_PYRAMID_SIZE          256\n",
      "TRAIN_BN                       False\n",
      "TRAIN_ROIS_PER_IMAGE           32\n",
      "USE_MINI_MASK                  True\n",
      "USE_RPN_ROIS                   True\n",
      "VALIDATION_STEPS               5\n",
      "WEIGHT_DECAY                   0.0001\n",
      "\n",
      "\n"
     ]
    }
   ],
   "source": [
    "class EddyConfig(Config):\n",
    "    \"\"\"Configuration for training on the eddy detection dataset.\n",
    "    Derives from the base Config class and overrides values specific\n",
    "    to the eddy detection dataset.\n",
    "    \"\"\"\n",
    "    # Give the configuration a recognizable name\n",
    "    NAME = \"eddies\"\n",
    "    \n",
    "    # Eddy data only one channel\n",
    "    IMAGE_CHANNEL_COUNT = 3\n",
    "\n",
    "    # Train on 1 GPU and 8 images per GPU. We can put multiple images on each\n",
    "    # GPU because the images are small. Batch size is 8 (GPUs * images/GPU).\n",
    "    GPU_COUNT =2\n",
    "    IMAGES_PER_GPU = 8\n",
    "\n",
    "    # Number of classes (including background)\n",
    "    NUM_CLASSES = 1 + 2  \n",
    "    # 1(Non eddy/land/no data) + 2 eddy(anticyclonic eddy, cyclonic eddy)\n",
    "\n",
    "    # Use small images for faster training. Set the limits of the small side\n",
    "    # the large side, and that determines the image shape.\n",
    "    IMAGE_MIN_DIM = 128\n",
    "    IMAGE_MAX_DIM = 128\n",
    "\n",
    "    # Use smaller anchors because our image and objects are small\n",
    "    # RPN_ANCHOR_SCALES = (8, 16, 32, 64, 128)  # anchor side in pixels\n",
    "    RPN_ANCHOR_SCALES = (4, 8, 16, 32, 64)  # anchor side in pixels\n",
    "\n",
    "    # Reduce training ROIs per image because the images are small and have\n",
    "    # few objects. Aim to allow ROI sampling to pick 33% positive ROIs.\n",
    "    TRAIN_ROIS_PER_IMAGE = 32\n",
    "\n",
    "    # Use a small epoch since the data is simple\n",
    "    STEPS_PER_EPOCH = 100\n",
    "\n",
    "    # use small validation steps since the epoch is small\n",
    "    VALIDATION_STEPS = 5\n",
    "    \n",
    "    RPN_NMS_THRESHOLD = 0.8\n",
    "    \n",
    "e_config = EddyConfig()\n",
    "e_config.display()"
   ]
  },
  {
   "cell_type": "markdown",
   "metadata": {},
   "source": [
    "## Notebook Preferences"
   ]
  },
  {
   "cell_type": "code",
   "execution_count": 3,
   "metadata": {
    "collapsed": true
   },
   "outputs": [],
   "source": [
    "def get_ax(rows=1, cols=1, size=8):\n",
    "    \"\"\"Return a Matplotlib Axes array to be used in\n",
    "    all visualizations in the notebook. Provide a\n",
    "    central point to control graph sizes.\n",
    "    \n",
    "    Change the default size attribute to control the size\n",
    "    of rendered images\n",
    "    \"\"\"\n",
    "    _, ax = plt.subplots(rows, cols, figsize=(size*cols, size*rows))\n",
    "    return ax"
   ]
  },
  {
   "cell_type": "markdown",
   "metadata": {},
   "source": [
    "## Multi_modal dataset\n",
    "\n",
    "Create a synthetic dataset\n",
    "\n",
    "Extend the Dataset class and add a method to load the shapes dataset, `load_shapes()`, and override the following methods:\n",
    "\n",
    "* load_image()\n",
    "* load_mask()\n",
    "* image_reference()"
   ]
  },
  {
   "cell_type": "code",
   "execution_count": 4,
   "metadata": {},
   "outputs": [
    {
     "name": "stdout",
     "output_type": "stream",
     "text": [
      "__header__\n",
      "__version__\n",
      "__globals__\n",
      "anset\n",
      "daset\n",
      "-2.4524318354870456\n",
      "275.55768599601305\n",
      "-0.008021494457786105\n",
      "0.008288780842891086\n"
     ]
    }
   ],
   "source": [
    "from scipy import io\n",
    "\n",
    "matv2 = io.loadmat(\"multi_modal_eddy512.mat\")\n",
    "for i in matv2:\n",
    "    print(i)\n",
    "\n",
    "label = matv2['anset']\n",
    "data = matv2['daset']\n",
    "\n",
    "#### 利用原始数据进行可视化 #####\n",
    "orig_label = matv2['anset']       \n",
    "orig_ssh = data[:, :, 0, :]       \n",
    "\n",
    "ssh = data[:, :, 0, :]\n",
    "sst = data[:, :, 1, :]\n",
    "ssu = data[:, :, 2, :]\n",
    "ssv = data[:, :, 3, :]\n",
    "\n",
    "print(ssh[:,:,:].mean())\n",
    "print(sst[:,:,:].mean())\n",
    "print(ssu[:,:,:].mean())\n",
    "print(ssv[:,:,:].mean())"
   ]
  },
  {
   "cell_type": "code",
   "execution_count": 5,
   "metadata": {
    "collapsed": true
   },
   "outputs": [],
   "source": [
    "import copy\n",
    "\n",
    "def find_all(label_copy, i, j, num, location, mask):\n",
    "    location.append([i, j])\n",
    "    label_copy[i, j] = 0\n",
    "    mask[i, j] = 1\n",
    "    \n",
    "    if 0<i<127 and 0<j<127 and label_copy[i+1, j] == num:\n",
    "        find_all(label_copy, i+1, j, num, location, mask)\n",
    "    if 0<i<127 and 0<j<127 and label_copy[i-1, j] == num:\n",
    "        find_all(label_copy, i-1, j, num, location, mask)\n",
    "    if 0<i<127 and 0<j<127 and label_copy[i, j+1] == num:\n",
    "        find_all(label_copy, i, j+1, num, location, mask)\n",
    "    if 0<i<127 and 0<j<127 and label_copy[i, j-1] == num:\n",
    "        find_all(label_copy, i, j-1, num, location, mask)\n",
    "    if 0<i<127 and 0<j<127 and label_copy[i+1, j+1] == num:\n",
    "        find_all(label_copy, i+1, j+1, num, location, mask)\n",
    "    if 0<i<127 and 0<j<127 and label_copy[i+1, j-1] == num:\n",
    "        find_all(label_copy, i+1, j-1, num, location, mask)\n",
    "    if 0<i<127 and 0<j<127 and label_copy[i-1, j+1] == num:\n",
    "        find_all(label_copy, i-1, j+1, num, location, mask)\n",
    "    if 0<i<127 and 0<j<127 and label_copy[i-1, j-1] == num:\n",
    "        find_all(label_copy, i-1, j-1, num, location, mask)\n",
    "\n",
    "def eddy_mask(label, num=1):\n",
    "    width, height = label.shape\n",
    "#     print(width, height)\n",
    "    label_copy = copy.deepcopy(label)\n",
    "    eddy_num = 0\n",
    "    \n",
    "    # 声明所有的位置集合，最终找到左上和右下角\n",
    "    all_location = []\n",
    "    \n",
    "    # 声明蒙版列表\n",
    "    mask_list = []\n",
    "    \n",
    "    for i in range(1, width-1):\n",
    "        for j in range(1, height-1):\n",
    "            if label_copy[i, j] == num:\n",
    "                location = []\n",
    "                mask = np.zeros([height, width])\n",
    "                eddy_num += 1              \n",
    "                find_all(label_copy, i, j, num, location, mask)\n",
    "                all_location.append(location)\n",
    "                mask_list.append(mask)\n",
    "#    print(\"------------------eddy_mask-----------------------\")\n",
    "#    print(\"number of eddy is %d\"%len(all_location))\n",
    "#    print(\"------------------eddy_mask-----------------------\")\n",
    "    \n",
    "    \"\"\"将所有位置的【左上，右下】返回\"\"\"\n",
    "    eddy_location = []\n",
    "    hhh = []\n",
    "    vvv = []\n",
    "    for loca in all_location:\n",
    "        hhh = [la[0] for la in loca]\n",
    "        vvv = [la[1] for la in loca]\n",
    "    eddy_location.append([[min(hhh), min(vvv)], [max(hhh), max(vvv)]])\n",
    "    all_mask = np.stack((i for i in mask_list), axis = 2)\n",
    "    # print(all_mask.shape)\n",
    "    return eddy_location, all_mask\n",
    "\n",
    "def mask_check(label, num=1):\n",
    "    width, height = label.shape\n",
    "#     print(width, height)\n",
    "    label_copy = copy.deepcopy(label)\n",
    "    eddy_num = 0\n",
    "    \n",
    "    # 声明所有的位置集合，最终找到左上和右下角\n",
    "    all_location = []\n",
    "    \n",
    "    # 声明蒙版列表\n",
    "    mask_list = []\n",
    "    \n",
    "    for i in range(1, width-1):\n",
    "        for j in range(1, height-1):\n",
    "            if label_copy[i, j] == num:\n",
    "                \n",
    "                location = []\n",
    "                mask = np.zeros([height, width])\n",
    "                eddy_num += 1\n",
    "                \n",
    "                find_all(label_copy, i, j, num, location, mask)\n",
    "#                 print(location)\n",
    "                all_location.append(location)\n",
    "                mask_list.append(mask)\n",
    "#    print(\"------------------mask_check-----------------------\")\n",
    "#    print(\"number of eddy is %d\"%len(all_location))\n",
    "#    print(label_copy.max())\n",
    "#    print(\"------------------mask_check-----------------------\")\n",
    "\n",
    "    if len(all_location) == 0:\n",
    "        return 0\n",
    "    else:\n",
    "        return 1"
   ]
  },
  {
   "cell_type": "code",
   "execution_count": 6,
   "metadata": {},
   "outputs": [
    {
     "data": {
      "text/plain": [
       "array([1, 1, 1, 2, 2, 2, 2])"
      ]
     },
     "execution_count": 6,
     "metadata": {},
     "output_type": "execute_result"
    }
   ],
   "source": [
    "# numpy 三维形状测试\n",
    "\n",
    "np.arange(20).reshape(2,2,5)\n",
    "np.arange(20).reshape(1, 4, 5)\n",
    "\n",
    "arr = np.arange(20).reshape(2,2,5)\n",
    "np.delete(arr, [1,2], axis = 2)\n",
    "\n",
    "np.array([1 for i in range(3)]+[2 for i in range(4)])"
   ]
  },
  {
   "cell_type": "code",
   "execution_count": 7,
   "metadata": {
    "scrolled": false
   },
   "outputs": [
    {
     "name": "stdout",
     "output_type": "stream",
     "text": [
      "[]\n"
     ]
    }
   ],
   "source": [
    "\"\"\"mask 8 边缘有1或-1：不扫描边缘； \n",
    "    mask 36 没有涡旋：将没有涡旋的mask和ssh删掉\"\"\"\n",
    "\n",
    "# 清除没有涡的 ssh 以及 mask\n",
    "empty = []\n",
    "for i in range(512):\n",
    "    if mask_check(label[:, :, i], -1) == 0 and mask_check(label[:, :, i], 1) == 0:\n",
    "        empty.append(i)\n",
    "print(empty)\n",
    "label = np.delete(label, empty, axis=2)\n",
    "ssh = np.delete(ssh, empty, axis=2)\n",
    "sst = np.delete(sst, empty, axis=2)\n",
    "ssu = np.delete(ssu, empty, axis=2)\n",
    "ssv = np.delete(ssv, empty, axis=2)\n",
    "\n",
    "# 将整体的数值范围缩放至 [0-255]\n",
    "from sklearn.preprocessing import scale\n",
    "#ssh = scale(ssh)\n",
    "#sst = scale(sst)\n",
    "#ssu = scale(ssu)\n",
    "#ssv = scale(ssv)\n",
    "\n",
    "\n",
    "#ssh=ssh.astype(int)"
   ]
  },
  {
   "cell_type": "code",
   "execution_count": 10,
   "metadata": {},
   "outputs": [
    {
     "name": "stdout",
     "output_type": "stream",
     "text": [
      "(128, 128, 512)\n",
      "(128, 128, 512)\n",
      "(128, 128, 512)\n",
      "(128, 128, 512)\n",
      "(128, 128, 512)\n"
     ]
    },
    {
     "data": {
      "text/plain": [
       "32.0"
      ]
     },
     "execution_count": 10,
     "metadata": {},
     "output_type": "execute_result"
    }
   ],
   "source": [
    "# 测试是否计算完成，如果上一行没有报错，且下面输出维度一致表示计算完成\n",
    "print(label.shape)\n",
    "print(label.shape)\n",
    "print(label.shape)\n",
    "print(label.shape)\n",
    "print(label.shape)\n",
    "\n",
    "location, mask_list = eddy_mask(label[:,:, 59], -1)\n",
    "# ssh[:, :, 1].reshape(128, 128, 1)\n",
    "len(mask_list)/4"
   ]
  },
  {
   "cell_type": "code",
   "execution_count": 11,
   "metadata": {
    "collapsed": true
   },
   "outputs": [],
   "source": [
    "class EddyDataset(utils.Dataset):\n",
    "    \"\"\"Generates the eddy synthetic dataset. The dataset consists of \n",
    "    anticyclonic eddy and cyclonic eddy placed randomly on a blank surface.\n",
    "    The images are generated on the fly. No file access required.\n",
    "    \n",
    "    by WHX\n",
    "    \"\"\"\n",
    "    # TODO (whx): get data from eddy data set\n",
    "    \n",
    "    def load_eddy(self, start, end, height, width):\n",
    "        \"\"\"Generate the requested number of synthetic images.\n",
    "        count: number of images to generate.\n",
    "        height, width: the size of the generated images.\n",
    "        \"\"\"\n",
    "        # Add classes ---- [add_class(self, source, class_id, class_name)]\n",
    "        self.add_class(\"eddy\", 1, \"anticyclonic\")\n",
    "        self.add_class(\"eddy\", 2, \"cyclonic\")\n",
    "        \n",
    "        for i in range(start, end):\n",
    "#             bg_color, shapes = self.random_image(height, width)\n",
    "            self.add_image(\"eddy\", image_id=i, path=None,\n",
    "                           width=width, height=height)\n",
    "# --------------------------------------------------------------------------\n",
    "#         for i in range(count):\n",
    "# #             bg_color, shapes = self.random_image(height, width)\n",
    "#             self.add_image(\"eddy\", image_id=i, path=None,\n",
    "#                            width=width, height=height,\n",
    "#                            bg_color=bg_color, shapes=shapes)\n",
    "# --------------------------------------------------------------------------\n",
    "\n",
    "#     def load_image(self, image_id):\n",
    "#         \"\"\"Generate an image from the specs of the given image ID.\n",
    "#         Typically this function loads the image from a file, but\n",
    "#         in this case it generates the image on the fly from the\n",
    "#         specs in image_info.\n",
    "#         \"\"\"\n",
    "#         info = self.image_info[image_id]\n",
    "#         bg_color = np.array(info['bg_color']).reshape([1, 1, 3])\n",
    "#         image = np.ones([info['height'], info['width'], 3], dtype=np.uint8)\n",
    "#         image = image * bg_color.astype(np.uint8)\n",
    "#         for shape, color, dims in info['shapes']:\n",
    "#             image = self.draw_shape(image, shape, dims, color)\n",
    "# #             print(\"load_image form EddyDataset class\")\n",
    "# #         print(image.shape )\n",
    "#         return image\n",
    "    \n",
    "    def load_image(self, image_id):\n",
    "        \"\"\"直接返回 image_id 这个通道的ssh的值，reshape成为1个通道\n",
    "        \"\"\"\n",
    "        info = self.image_info[image_id]\n",
    "        \n",
    "        # ssh_img = ssh[image_id, :, :].reshape(1,info['height'], info['width']).transpose(1, 2, 0)\n",
    "        \n",
    "        ssh_img = ssh[:, :, image_id] #(128,128)\n",
    "        # ssh_img.reshape(128,128,1)\n",
    "        return np.stack((ssh_img, ssh_img, ssh_img), axis=2)\n",
    "    \n",
    "    def load_orig_image(self, image_id):\n",
    "        \"\"\"直接返回 image_id 这个通道的ssh的值，reshape成为1个通道\n",
    "        \"\"\"\n",
    "        info = self.image_info[image_id]\n",
    "        \n",
    "        # ssh_img = ssh[image_id, :, :].reshape(1,info['height'], info['width']).transpose(1, 2, 0)\n",
    "        \n",
    "        ssh_img = orig_ssh[:, :, image_id] #(128,128)\n",
    "        # ssh_img.reshape(128,128,1)\n",
    "        return np.stack((ssh_img, ssh_img, ssh_img), axis=2)\n",
    "\n",
    "    def image_reference(self, image_id):\n",
    "        \"\"\"Return the shapes data of the image.\"\"\"\n",
    "        info = self.image_info[image_id]\n",
    "        if info[\"source\"] == \"shapes\":\n",
    "            return info[\"shapes\"]\n",
    "        else:\n",
    "            super(self.__class__).image_reference(self, image_id)\n",
    "            \n",
    "            \n",
    "    def load_mask(self, image_id):\n",
    "        \"\"\"Generate instance masks for eddies of the given image ID.\n",
    "        \"\"\"\n",
    "        info = self.image_info[image_id]\n",
    "        \n",
    "        # image_id 这个样本上的 eddy 总数\n",
    "        anticy_loc, anticy_mask = eddy_mask(label[ :, :, image_id], 1)\n",
    "        cy_loc, cy_mask = eddy_mask(label[ :, :, image_id], -1)\n",
    "        \n",
    "        mask = np.concatenate((anticy_mask, cy_mask), axis = 2)\n",
    "        # mask = np.stack((anticy_mask, cy_mask), axis = 0)\n",
    "\n",
    "        class_ids = np.array([1 for i in range(anticy_mask.shape[2])]\n",
    "                             +[2 for i in range(cy_mask.shape[2])])\n",
    "        \n",
    "        return mask.astype(np.bool), class_ids.astype(np.int32)\n",
    "        "
   ]
  },
  {
   "cell_type": "code",
   "execution_count": 12,
   "metadata": {
    "collapsed": true
   },
   "outputs": [],
   "source": [
    "# whx\n",
    "# Training dataset\n",
    "eddy_train = EddyDataset()\n",
    "eddy_train.load_eddy(0, 400, e_config.IMAGE_SHAPE[0], e_config.IMAGE_SHAPE[1])\n",
    "eddy_train.prepare()\n",
    "\n",
    "# Validation dataset\n",
    "eddy_val = EddyDataset()\n",
    "eddy_val.load_eddy(400, 500, e_config.IMAGE_SHAPE[0], e_config.IMAGE_SHAPE[1])\n",
    "eddy_val.prepare()"
   ]
  },
  {
   "cell_type": "code",
   "execution_count": 13,
   "metadata": {},
   "outputs": [
    {
     "data": {
      "text/plain": [
       "array([[ 0,  1,  2,  3],\n",
       "       [ 4,  5,  6,  7],\n",
       "       [ 8,  9, 10, 11]])"
      ]
     },
     "execution_count": 13,
     "metadata": {},
     "output_type": "execute_result"
    }
   ],
   "source": [
    "eddy_train.image_info[1]\n",
    "a = np.arange(12).reshape(3,4)\n",
    "a"
   ]
  },
  {
   "cell_type": "code",
   "execution_count": 14,
   "metadata": {},
   "outputs": [
    {
     "data": {
      "text/plain": [
       "array([[ 0,  4,  8],\n",
       "       [ 1,  5,  9],\n",
       "       [ 2,  6, 10],\n",
       "       [ 3,  7, 11]])"
      ]
     },
     "execution_count": 14,
     "metadata": {},
     "output_type": "execute_result"
    }
   ],
   "source": [
    "a = a.transpose(1,0)\n",
    "a"
   ]
  },
  {
   "cell_type": "code",
   "execution_count": 15,
   "metadata": {},
   "outputs": [
    {
     "data": {
      "text/plain": [
       "array([[0, 1],\n",
       "       [2, 3]])"
      ]
     },
     "execution_count": 15,
     "metadata": {},
     "output_type": "execute_result"
    }
   ],
   "source": [
    "b = np.arange(4).reshape(2, 2).reshape(2,2,1).reshape(2,2).reshape(2,2)\n",
    "b"
   ]
  },
  {
   "cell_type": "code",
   "execution_count": null,
   "metadata": {
    "collapsed": true
   },
   "outputs": [],
   "source": []
  },
  {
   "cell_type": "code",
   "execution_count": 16,
   "metadata": {
    "collapsed": true
   },
   "outputs": [],
   "source": [
    "def display_eddy(images, titles=None, cols=4, cmap=None, norm=None,\n",
    "                   interpolation=None):\n",
    "    \"\"\"Display the given set of images, optionally with titles.\n",
    "    images: list or array of image tensors in HWC format.\n",
    "    titles: optional. A list of titles to display with each image.\n",
    "    cols: number of images per row\n",
    "    cmap: Optional. Color map to use. For example, \"Blues\".\n",
    "    norm: Optional. A Normalize instance to map values to colors.\n",
    "    interpolation: Optional. Image interpolation to use for display.\n",
    "    \"\"\"\n",
    "    titles = titles if titles is not None else [\"\"] * len(images)\n",
    "    rows = len(images) // cols + 1\n",
    "    plt.figure(figsize=(14, 14 * rows // cols))\n",
    "    i = 1\n",
    "    for image, title in zip(images, titles):\n",
    "        # print(image.shape)\n",
    "        # X, Y = np.meshgrid(np.arange(128), np.arange(128))\n",
    "        plt.subplot(rows, cols, i)\n",
    "        plt.title(title, fontsize=9)\n",
    "        plt.axis('off')\n",
    "        plt.contourf(image, 8, alpha=.50, cmap=plt.cm.winter)\n",
    "        # plt.imshow(image.astype(np.uint8), cmap=cmap,plt.cm.hot\n",
    "                   #norm=norm, interpolation=interpolation)\n",
    "        i += 1\n",
    "    plt.show()\n",
    "\n",
    "def display_top_masks(image, mask, class_ids, class_names, limit=4):\n",
    "    \"\"\"Display the given image and the top few class masks.\"\"\"\n",
    "    to_display = []\n",
    "    titles = []\n",
    "    to_display.append(image)\n",
    "    titles.append(\"H x W={}x{}\".format(image.shape[0], image.shape[1]))\n",
    "    # Pick top prominent classes in this image\n",
    "    unique_class_ids = np.unique(class_ids)\n",
    "    mask_area = [np.sum(mask[:, :, np.where(class_ids == i)[0]])\n",
    "                 for i in unique_class_ids]\n",
    "    top_ids = [v[0] for v in sorted(zip(unique_class_ids, mask_area),\n",
    "                                    key=lambda r: r[1], reverse=True) if v[1] > 0]\n",
    "    # Generate images and titles\n",
    "    for i in range(limit):\n",
    "        class_id = top_ids[i] if i < len(top_ids) else -1\n",
    "        # Pull masks of instances belonging to the same class.\n",
    "        m = mask[:, :, np.where(class_ids == class_id)[0]]\n",
    "        m = np.sum(m * np.arange(1, m.shape[-1] + 1), -1)\n",
    "        to_display.append(m)\n",
    "        titles.append(class_names[class_id] if class_id != -1 else \"-\")\n",
    "    display_eddy(to_display, titles=titles, cols=limit + 1, cmap=\"PuBu\")\n",
    "\n"
   ]
  },
  {
   "cell_type": "code",
   "execution_count": 17,
   "metadata": {},
   "outputs": [
    {
     "data": {
      "text/plain": [
       "(2, 2)"
      ]
     },
     "execution_count": 17,
     "metadata": {},
     "output_type": "execute_result"
    }
   ],
   "source": [
    "np.arange(20).reshape(2,2,5)[:,:,1].shape"
   ]
  },
  {
   "cell_type": "code",
   "execution_count": 18,
   "metadata": {
    "collapsed": true
   },
   "outputs": [],
   "source": [
    "def image_save(image):\n",
    "    plt.contourf(image, 8, alpha=.50, cmap=plt.cm.winter)\n",
    "    fig = plt.gcf()\n",
    "    fig.set_size_inches(1.28/3,1.28/3) #dpi = 300, output = 128*128 pixels\n",
    "    \n",
    "    plt.gca().xaxis.set_major_locator(plt.NullLocator())\n",
    "    plt.gca().yaxis.set_major_locator(plt.NullLocator())\n",
    "    \n",
    "    plt.subplots_adjust(top = 1, bottom = 0, right = 1, left = 0, hspace = 0, wspace = 0)\n",
    "    plt.margins(0,0)\n",
    "\n",
    "    fig.savefig('./eddy.jpg', format='jpg', transparent=False, dpi=300, bbox_inches=None, pad_inches=0)"
   ]
  },
  {
   "cell_type": "code",
   "execution_count": 20,
   "metadata": {
    "scrolled": false
   },
   "outputs": [
    {
     "name": "stdout",
     "output_type": "stream",
     "text": [
      "[254  16 357]\n",
      "<class 'numpy.ndarray'>\n",
      "(128, 128, 3)\n",
      "<class 'numpy.ndarray'>\n",
      "(128, 128, 45)\n"
     ]
    },
    {
     "data": {
      "image/png": "[encoded data removed]",
      "text/plain": [
       "<matplotlib.figure.Figure at 0x7fed99541b38>"
      ]
     },
     "metadata": {},
     "output_type": "display_data"
    },
    {
     "name": "stdout",
     "output_type": "stream",
     "text": [
      "<class 'numpy.ndarray'>\n",
      "(128, 128, 3)\n",
      "<class 'numpy.ndarray'>\n",
      "(128, 128, 17)\n"
     ]
    },
    {
     "data": {
      "image/png": "[encoded data removed]",
      "text/plain": [
       "<matplotlib.figure.Figure at 0x7fed99609ac8>"
      ]
     },
     "metadata": {},
     "output_type": "display_data"
    },
    {
     "name": "stdout",
     "output_type": "stream",
     "text": [
      "<class 'numpy.ndarray'>\n",
      "(128, 128, 3)\n",
      "<class 'numpy.ndarray'>\n",
      "(128, 128, 57)\n"
     ]
    },
    {
     "data": {
      "image/png": "[encoded data removed]",
      "text/plain": [
       "<matplotlib.figure.Figure at 0x7fed99440ba8>"
      ]
     },
     "metadata": {},
     "output_type": "display_data"
    },
    {
     "name": "stdout",
     "output_type": "stream",
     "text": [
      "---------------\n"
     ]
    },
    {
     "data": {
      "image/png": "[encoded data removed]",
      "text/plain": [
       "<matplotlib.figure.Figure at 0x7fed99541be0>"
      ]
     },
     "metadata": {},
     "output_type": "display_data"
    }
   ],
   "source": [
    "# 利用原始数据进行可视化\n",
    "orig_label = np.delete(orig_label, empty, axis=2)\n",
    "orig_ssh = np.delete(orig_ssh, empty, axis=2)\n",
    "\n",
    "# Load and display random samples\n",
    "eddy_image_ids = np.random.choice(eddy_train.image_ids, 3)\n",
    "# eddy_image_ids = np.hstack((eddy_image_ids, np.arange(2)))\n",
    "print(eddy_image_ids)\n",
    "for eddy_image_id in eddy_image_ids:\n",
    "    image = eddy_train.load_orig_image(eddy_image_id)\n",
    "    print(type(image))\n",
    "    print(image.shape)\n",
    "    mask, class_ids = eddy_train.load_mask(eddy_image_id)\n",
    "    print(type(mask))\n",
    "    print(mask.shape)\n",
    "    display_top_masks(image[:,:,1], mask, class_ids, eddy_train.class_names)\n",
    "image = eddy_train.load_orig_image(eddy_image_ids[-1])\n",
    "print(\"---------------\")\n",
    "image_save(image[:,:,1])\n",
    "\n"
   ]
  },
  {
   "cell_type": "code",
   "execution_count": 21,
   "metadata": {
    "collapsed": true
   },
   "outputs": [],
   "source": [
    "# 本方法通过使用单通道的数据将\n",
    "\n",
    "\n",
    "def ssh_convert_to_image(ssh_data):\n",
    "    plt.axis('off')\n",
    "    fig = plt.gcf()\n",
    "    fig.set_size_inches(1.28/3, 1.28/3) #dpi = 300, output = 700*700 pixels\n",
    "    plt.gca().xaxis.set_major_locator(plt.NullLocator())\n",
    "    plt.gca().yaxis.set_major_locator(plt.NullLocator()) \n",
    "    plt.subplots_adjust(top = 1, bottom = 0, right = 1, left = 0, hspace = 0, wspace = 0)\n",
    "    plt.margins(0,0)\n",
    "    plt.contourf(ssh_data[:,:,0], 9, alpha=.50, cmap=plt.cm.winter)\n",
    "    plt.savefig('temp_ssh.png', transparent=False, dpi=300, pad_inches=0)\n",
    "\n",
    "    ssh_img = Image.open('temp_ssh.png').convert(\"RGB\")\n",
    "    \n",
    "    ssh_img = ssh_img.resize((128, 128))\n",
    "    ssh_img = ssh_img.transpose(Image.FLIP_TOP_BOTTOM)\n",
    "    ssh_img_array = np.array(ssh_img)\n",
    "    print(ssh_img_array.shape)\n",
    "    return ssh_img_array"
   ]
  },
  {
   "cell_type": "code",
   "execution_count": 22,
   "metadata": {},
   "outputs": [
    {
     "name": "stdout",
     "output_type": "stream",
     "text": [
      "(128, 128, 3)\n",
      "(128, 128, 3)\n"
     ]
    },
    {
     "data": {
      "image/png": "[encoded data removed]",
      "text/plain": [
       "<matplotlib.figure.Figure at 0x7fed99549198>"
      ]
     },
     "metadata": {},
     "output_type": "display_data"
    }
   ],
   "source": [
    "ssh_data = eddy_train.load_orig_image(30)\n",
    "img_data = ssh_convert_to_image(ssh_data)\n",
    "\n",
    "print(img_data.shape)"
   ]
  },
  {
   "cell_type": "code",
   "execution_count": 23,
   "metadata": {
    "scrolled": false
   },
   "outputs": [
    {
     "name": "stdout",
     "output_type": "stream",
     "text": [
      "[254  16 357]\n",
      "<class 'numpy.ndarray'>\n",
      "(128, 128, 3)\n",
      "<class 'numpy.ndarray'>\n",
      "(128, 128, 45)\n"
     ]
    },
    {
     "data": {
      "image/png": "[encoded data removed]",
      "text/plain": [
       "<matplotlib.figure.Figure at 0x7fed9955fcf8>"
      ]
     },
     "metadata": {},
     "output_type": "display_data"
    },
    {
     "name": "stdout",
     "output_type": "stream",
     "text": [
      "<class 'numpy.ndarray'>\n",
      "(128, 128, 3)\n",
      "<class 'numpy.ndarray'>\n",
      "(128, 128, 17)\n"
     ]
    },
    {
     "data": {
      "image/png": "[encoded data removed]",
      "text/plain": [
       "<matplotlib.figure.Figure at 0x7fed6b669518>"
      ]
     },
     "metadata": {},
     "output_type": "display_data"
    },
    {
     "name": "stdout",
     "output_type": "stream",
     "text": [
      "<class 'numpy.ndarray'>\n",
      "(128, 128, 3)\n",
      "<class 'numpy.ndarray'>\n",
      "(128, 128, 57)\n"
     ]
    },
    {
     "data": {
      "image/png": "[encoded data removed]",
      "text/plain": [
       "<matplotlib.figure.Figure at 0x7fed6b5700b8>"
      ]
     },
     "metadata": {},
     "output_type": "display_data"
    }
   ],
   "source": [
    "# whx\n",
    "# Load and display random samples\n",
    "# eddy_image_ids = np.random.choice(eddy_train.image_ids, 4)\n",
    "# eddy_image_ids = np.hstack((eddy_image_ids, np.arange(2)))\n",
    "print(eddy_image_ids)\n",
    "for eddy_image_id in eddy_image_ids:\n",
    "    image = eddy_train.load_image(eddy_image_id)\n",
    "    print(type(image))\n",
    "    print(image.shape)\n",
    "    mask, class_ids = eddy_train.load_mask(eddy_image_id)\n",
    "    print(type(mask))\n",
    "    print(mask.shape)\n",
    "    display_top_masks(image[:,:,1], mask, class_ids, eddy_train.class_names)"
   ]
  },
  {
   "cell_type": "markdown",
   "metadata": {},
   "source": [
    "## Create Model\n",
    "\n",
    "mesNN = Multi_modal fusion network + Mask R-CNN"
   ]
  },
  {
   "cell_type": "code",
   "execution_count": null,
   "metadata": {
    "collapsed": true
   },
   "outputs": [],
   "source": [
    "# Create model in training mode\n",
    "model = modellib.MaskRCNN(mode=\"training\", config=e_config,\n",
    "                          model_dir=MODEL_DIR)"
   ]
  },
  {
   "cell_type": "code",
   "execution_count": 12,
   "metadata": {
    "collapsed": true,
    "scrolled": false
   },
   "outputs": [],
   "source": [
    "# Which weights to start with?\n",
    "init_with = \"coco\"  # imagenet, coco, or last\n",
    "\n",
    "if init_with == \"imagenet\":\n",
    "    model.load_weights(model.get_imagenet_weights(), by_name=True)\n",
    "elif init_with == \"coco\":\n",
    "    # Load weights trained on MS COCO, but skip layers that\n",
    "    # are different due to the different number of classes\n",
    "    # See README for instructions to download the COCO weights\n",
    "    model.load_weights(COCO_MODEL_PATH, by_name=True,\n",
    "                       exclude=[\"mrcnn_class_logits\", \"mrcnn_bbox_fc\", \n",
    "                                \"mrcnn_bbox\", \"mrcnn_mask\"])\n",
    "elif init_with == \"last\":\n",
    "    # Load the last model you trained and continue training\n",
    "    model.load_weights(model.find_last(), by_name=True)"
   ]
  },
  {
   "cell_type": "markdown",
   "metadata": {},
   "source": [
    "## Training\n",
    "\n",
    "Train in two stages:\n",
    "1. Only the heads. Here we're freezing all the backbone layers and training only the randomly initialized layers (i.e. the ones that we didn't use pre-trained weights from MS COCO). To train only the head layers, pass `layers='heads'` to the `train()` function.\n",
    "\n",
    "2. Fine-tune all layers. For this simple example it's not necessary, but we're including it to show the process. Simply pass `layers=\"all` to train all layers."
   ]
  },
  {
   "cell_type": "code",
   "execution_count": 13,
   "metadata": {},
   "outputs": [
    {
     "name": "stdout",
     "output_type": "stream",
     "text": [
      "\n",
      "Starting at epoch 0. LR=0.001\n",
      "\n",
      "Checkpoint Path: /home/ouc/whx/eddy_detection/mrcnn/Mask_RCNN/logs/eddies20181209T2129/mask_rcnn_eddies_{epoch:04d}.h5\n",
      "Selecting layers to train\n",
      "fpn_c5p5               (Conv2D)\n",
      "fpn_c4p4               (Conv2D)\n",
      "fpn_c3p3               (Conv2D)\n",
      "fpn_c2p2               (Conv2D)\n",
      "fpn_p5                 (Conv2D)\n",
      "fpn_p2                 (Conv2D)\n",
      "fpn_p3                 (Conv2D)\n",
      "fpn_p4                 (Conv2D)\n",
      "In model:  rpn_model\n",
      "    rpn_conv_shared        (Conv2D)\n",
      "    rpn_class_raw          (Conv2D)\n",
      "    rpn_bbox_pred          (Conv2D)\n",
      "mrcnn_mask_conv1       (TimeDistributed)\n",
      "mrcnn_mask_bn1         (TimeDistributed)\n",
      "mrcnn_mask_conv2       (TimeDistributed)\n",
      "mrcnn_mask_bn2         (TimeDistributed)\n",
      "mrcnn_class_conv1      (TimeDistributed)\n",
      "mrcnn_class_bn1        (TimeDistributed)\n",
      "mrcnn_mask_conv3       (TimeDistributed)\n",
      "mrcnn_mask_bn3         (TimeDistributed)\n",
      "mrcnn_class_conv2      (TimeDistributed)\n",
      "mrcnn_class_bn2        (TimeDistributed)\n",
      "mrcnn_mask_conv4       (TimeDistributed)\n",
      "mrcnn_mask_bn4         (TimeDistributed)\n",
      "mrcnn_bbox_fc          (TimeDistributed)\n",
      "mrcnn_mask_deconv      (TimeDistributed)\n",
      "mrcnn_class_logits     (TimeDistributed)\n",
      "mrcnn_mask             (TimeDistributed)\n"
     ]
    },
    {
     "name": "stderr",
     "output_type": "stream",
     "text": [
      "/home/ouc/anaconda3/lib/python3.6/site-packages/tensorflow/python/ops/gradients_impl.py:96: UserWarning: Converting sparse IndexedSlices to a dense Tensor of unknown shape. This may consume a large amount of memory.\n",
      "  \"Converting sparse IndexedSlices to a dense Tensor of unknown shape. \"\n",
      "/home/ouc/anaconda3/lib/python3.6/site-packages/keras/engine/training.py:2033: UserWarning: Using a generator with `use_multiprocessing=True` and multiple workers may duplicate your data. Please consider using the`keras.utils.Sequence class.\n",
      "  UserWarning('Using a generator with `use_multiprocessing=True`'\n"
     ]
    },
    {
     "name": "stdout",
     "output_type": "stream",
     "text": [
      "Epoch 1/50\n",
      "100/100 [==============================] - 127s 1s/step - loss: 3.6609 - rpn_class_loss: 0.3259 - rpn_bbox_loss: 1.3694 - mrcnn_class_loss: 0.5817 - mrcnn_bbox_loss: 0.7348 - mrcnn_mask_loss: 0.6491 - val_loss: 3.1851 - val_rpn_class_loss: 0.2094 - val_rpn_bbox_loss: 1.2796 - val_mrcnn_class_loss: 0.4919 - val_mrcnn_bbox_loss: 0.6163 - val_mrcnn_mask_loss: 0.5880\n",
      "Epoch 2/50\n",
      "100/100 [==============================] - 48s 476ms/step - loss: 3.1873 - rpn_class_loss: 0.2322 - rpn_bbox_loss: 1.2561 - mrcnn_class_loss: 0.5169 - mrcnn_bbox_loss: 0.6124 - mrcnn_mask_loss: 0.5697 - val_loss: 3.1857 - val_rpn_class_loss: 0.2533 - val_rpn_bbox_loss: 1.2900 - val_mrcnn_class_loss: 0.4803 - val_mrcnn_bbox_loss: 0.5857 - val_mrcnn_mask_loss: 0.5764\n",
      "Epoch 3/50\n",
      "100/100 [==============================] - 51s 507ms/step - loss: 3.0452 - rpn_class_loss: 0.2184 - rpn_bbox_loss: 1.2562 - mrcnn_class_loss: 0.4588 - mrcnn_bbox_loss: 0.5578 - mrcnn_mask_loss: 0.5540 - val_loss: 3.0826 - val_rpn_class_loss: 0.2616 - val_rpn_bbox_loss: 1.2739 - val_mrcnn_class_loss: 0.4677 - val_mrcnn_bbox_loss: 0.5133 - val_mrcnn_mask_loss: 0.5661\n",
      "Epoch 4/50\n",
      "100/100 [==============================] - 49s 487ms/step - loss: 2.9163 - rpn_class_loss: 0.2149 - rpn_bbox_loss: 1.2256 - mrcnn_class_loss: 0.4172 - mrcnn_bbox_loss: 0.5131 - mrcnn_mask_loss: 0.5455 - val_loss: 2.8529 - val_rpn_class_loss: 0.2199 - val_rpn_bbox_loss: 1.2208 - val_mrcnn_class_loss: 0.4238 - val_mrcnn_bbox_loss: 0.4639 - val_mrcnn_mask_loss: 0.5246\n",
      "Epoch 5/50\n",
      "100/100 [==============================] - 48s 481ms/step - loss: 2.8299 - rpn_class_loss: 0.2132 - rpn_bbox_loss: 1.2125 - mrcnn_class_loss: 0.3890 - mrcnn_bbox_loss: 0.4869 - mrcnn_mask_loss: 0.5282 - val_loss: 2.9221 - val_rpn_class_loss: 0.2594 - val_rpn_bbox_loss: 1.2485 - val_mrcnn_class_loss: 0.4028 - val_mrcnn_bbox_loss: 0.4886 - val_mrcnn_mask_loss: 0.5228\n",
      "Epoch 6/50\n",
      "100/100 [==============================] - 46s 461ms/step - loss: 2.7429 - rpn_class_loss: 0.2052 - rpn_bbox_loss: 1.2073 - mrcnn_class_loss: 0.3460 - mrcnn_bbox_loss: 0.4681 - mrcnn_mask_loss: 0.5164 - val_loss: 2.8528 - val_rpn_class_loss: 0.2630 - val_rpn_bbox_loss: 1.2288 - val_mrcnn_class_loss: 0.3893 - val_mrcnn_bbox_loss: 0.4502 - val_mrcnn_mask_loss: 0.5215\n",
      "Epoch 7/50\n",
      "100/100 [==============================] - 48s 477ms/step - loss: 2.6437 - rpn_class_loss: 0.2031 - rpn_bbox_loss: 1.1986 - mrcnn_class_loss: 0.3226 - mrcnn_bbox_loss: 0.4216 - mrcnn_mask_loss: 0.4978 - val_loss: 2.6298 - val_rpn_class_loss: 0.2072 - val_rpn_bbox_loss: 1.2389 - val_mrcnn_class_loss: 0.2977 - val_mrcnn_bbox_loss: 0.3942 - val_mrcnn_mask_loss: 0.4918\n",
      "Epoch 8/50\n",
      "100/100 [==============================] - 47s 475ms/step - loss: 2.5794 - rpn_class_loss: 0.2015 - rpn_bbox_loss: 1.1870 - mrcnn_class_loss: 0.3021 - mrcnn_bbox_loss: 0.4038 - mrcnn_mask_loss: 0.4850 - val_loss: 2.7399 - val_rpn_class_loss: 0.2580 - val_rpn_bbox_loss: 1.2207 - val_mrcnn_class_loss: 0.3638 - val_mrcnn_bbox_loss: 0.4132 - val_mrcnn_mask_loss: 0.4842\n",
      "Epoch 9/50\n",
      "100/100 [==============================] - 47s 470ms/step - loss: 2.5072 - rpn_class_loss: 0.2005 - rpn_bbox_loss: 1.1780 - mrcnn_class_loss: 0.2836 - mrcnn_bbox_loss: 0.3755 - mrcnn_mask_loss: 0.4696 - val_loss: 2.5608 - val_rpn_class_loss: 0.2155 - val_rpn_bbox_loss: 1.1930 - val_mrcnn_class_loss: 0.3271 - val_mrcnn_bbox_loss: 0.3617 - val_mrcnn_mask_loss: 0.4635\n",
      "Epoch 10/50\n",
      "100/100 [==============================] - 47s 470ms/step - loss: 2.4594 - rpn_class_loss: 0.1978 - rpn_bbox_loss: 1.1706 - mrcnn_class_loss: 0.2746 - mrcnn_bbox_loss: 0.3597 - mrcnn_mask_loss: 0.4566 - val_loss: 2.5340 - val_rpn_class_loss: 0.2328 - val_rpn_bbox_loss: 1.1758 - val_mrcnn_class_loss: 0.3011 - val_mrcnn_bbox_loss: 0.3662 - val_mrcnn_mask_loss: 0.4581\n",
      "Epoch 11/50\n",
      "100/100 [==============================] - 47s 474ms/step - loss: 2.3910 - rpn_class_loss: 0.1894 - rpn_bbox_loss: 1.1637 - mrcnn_class_loss: 0.2528 - mrcnn_bbox_loss: 0.3392 - mrcnn_mask_loss: 0.4459 - val_loss: 2.4837 - val_rpn_class_loss: 0.2220 - val_rpn_bbox_loss: 1.1838 - val_mrcnn_class_loss: 0.2733 - val_mrcnn_bbox_loss: 0.3611 - val_mrcnn_mask_loss: 0.4435\n",
      "Epoch 12/50\n",
      "100/100 [==============================] - 47s 474ms/step - loss: 2.3773 - rpn_class_loss: 0.1976 - rpn_bbox_loss: 1.1571 - mrcnn_class_loss: 0.2542 - mrcnn_bbox_loss: 0.3300 - mrcnn_mask_loss: 0.4384 - val_loss: 2.3834 - val_rpn_class_loss: 0.2209 - val_rpn_bbox_loss: 1.1556 - val_mrcnn_class_loss: 0.2767 - val_mrcnn_bbox_loss: 0.2928 - val_mrcnn_mask_loss: 0.4375\n",
      "Epoch 13/50\n",
      "100/100 [==============================] - 47s 470ms/step - loss: 2.3108 - rpn_class_loss: 0.1895 - rpn_bbox_loss: 1.1435 - mrcnn_class_loss: 0.2355 - mrcnn_bbox_loss: 0.3140 - mrcnn_mask_loss: 0.4283 - val_loss: 2.4366 - val_rpn_class_loss: 0.2355 - val_rpn_bbox_loss: 1.1924 - val_mrcnn_class_loss: 0.2675 - val_mrcnn_bbox_loss: 0.3137 - val_mrcnn_mask_loss: 0.4274\n",
      "Epoch 14/50\n",
      "100/100 [==============================] - 47s 472ms/step - loss: 2.2835 - rpn_class_loss: 0.1944 - rpn_bbox_loss: 1.1408 - mrcnn_class_loss: 0.2362 - mrcnn_bbox_loss: 0.2966 - mrcnn_mask_loss: 0.4154 - val_loss: 2.3515 - val_rpn_class_loss: 0.2074 - val_rpn_bbox_loss: 1.1689 - val_mrcnn_class_loss: 0.2429 - val_mrcnn_bbox_loss: 0.3006 - val_mrcnn_mask_loss: 0.4318\n",
      "Epoch 15/50\n",
      "100/100 [==============================] - 46s 465ms/step - loss: 2.2403 - rpn_class_loss: 0.1882 - rpn_bbox_loss: 1.1341 - mrcnn_class_loss: 0.2299 - mrcnn_bbox_loss: 0.2799 - mrcnn_mask_loss: 0.4082 - val_loss: 2.2427 - val_rpn_class_loss: 0.1942 - val_rpn_bbox_loss: 1.1297 - val_mrcnn_class_loss: 0.2320 - val_mrcnn_bbox_loss: 0.2589 - val_mrcnn_mask_loss: 0.4278\n",
      "Epoch 16/50\n",
      "100/100 [==============================] - 47s 470ms/step - loss: 2.2016 - rpn_class_loss: 0.1867 - rpn_bbox_loss: 1.1216 - mrcnn_class_loss: 0.2183 - mrcnn_bbox_loss: 0.2717 - mrcnn_mask_loss: 0.4032 - val_loss: 2.2398 - val_rpn_class_loss: 0.2080 - val_rpn_bbox_loss: 1.1515 - val_mrcnn_class_loss: 0.2272 - val_mrcnn_bbox_loss: 0.2456 - val_mrcnn_mask_loss: 0.4075\n",
      "Epoch 17/50\n",
      "100/100 [==============================] - 47s 469ms/step - loss: 2.1860 - rpn_class_loss: 0.1917 - rpn_bbox_loss: 1.1180 - mrcnn_class_loss: 0.2147 - mrcnn_bbox_loss: 0.2627 - mrcnn_mask_loss: 0.3988 - val_loss: 2.2573 - val_rpn_class_loss: 0.2126 - val_rpn_bbox_loss: 1.1224 - val_mrcnn_class_loss: 0.2356 - val_mrcnn_bbox_loss: 0.2584 - val_mrcnn_mask_loss: 0.4284\n",
      "Epoch 18/50\n",
      "100/100 [==============================] - 49s 488ms/step - loss: 2.1355 - rpn_class_loss: 0.1861 - rpn_bbox_loss: 1.1053 - mrcnn_class_loss: 0.2047 - mrcnn_bbox_loss: 0.2510 - mrcnn_mask_loss: 0.3883 - val_loss: 2.1473 - val_rpn_class_loss: 0.1785 - val_rpn_bbox_loss: 1.1347 - val_mrcnn_class_loss: 0.1863 - val_mrcnn_bbox_loss: 0.2483 - val_mrcnn_mask_loss: 0.3996\n",
      "Epoch 19/50\n",
      "100/100 [==============================] - 47s 473ms/step - loss: 2.0991 - rpn_class_loss: 0.1821 - rpn_bbox_loss: 1.0963 - mrcnn_class_loss: 0.2018 - mrcnn_bbox_loss: 0.2349 - mrcnn_mask_loss: 0.3840 - val_loss: 2.2354 - val_rpn_class_loss: 0.2141 - val_rpn_bbox_loss: 1.1421 - val_mrcnn_class_loss: 0.2204 - val_mrcnn_bbox_loss: 0.2649 - val_mrcnn_mask_loss: 0.3938\n",
      "Epoch 20/50\n",
      "100/100 [==============================] - 49s 493ms/step - loss: 2.0924 - rpn_class_loss: 0.1826 - rpn_bbox_loss: 1.0936 - mrcnn_class_loss: 0.2012 - mrcnn_bbox_loss: 0.2342 - mrcnn_mask_loss: 0.3808 - val_loss: 2.1369 - val_rpn_class_loss: 0.2120 - val_rpn_bbox_loss: 1.1151 - val_mrcnn_class_loss: 0.1961 - val_mrcnn_bbox_loss: 0.2350 - val_mrcnn_mask_loss: 0.3786\n",
      "Epoch 21/50\n",
      "100/100 [==============================] - 49s 489ms/step - loss: 2.0805 - rpn_class_loss: 0.1859 - rpn_bbox_loss: 1.0970 - mrcnn_class_loss: 0.1965 - mrcnn_bbox_loss: 0.2270 - mrcnn_mask_loss: 0.3742 - val_loss: 2.1106 - val_rpn_class_loss: 0.1835 - val_rpn_bbox_loss: 1.1408 - val_mrcnn_class_loss: 0.1794 - val_mrcnn_bbox_loss: 0.2227 - val_mrcnn_mask_loss: 0.3841\n",
      "Epoch 22/50\n",
      "100/100 [==============================] - 50s 501ms/step - loss: 2.0311 - rpn_class_loss: 0.1849 - rpn_bbox_loss: 1.0799 - mrcnn_class_loss: 0.1874 - mrcnn_bbox_loss: 0.2098 - mrcnn_mask_loss: 0.3692 - val_loss: 2.0799 - val_rpn_class_loss: 0.1838 - val_rpn_bbox_loss: 1.0949 - val_mrcnn_class_loss: 0.2026 - val_mrcnn_bbox_loss: 0.2297 - val_mrcnn_mask_loss: 0.3689\n",
      "Epoch 23/50\n",
      "100/100 [==============================] - 49s 486ms/step - loss: 2.0051 - rpn_class_loss: 0.1816 - rpn_bbox_loss: 1.0716 - mrcnn_class_loss: 0.1842 - mrcnn_bbox_loss: 0.2050 - mrcnn_mask_loss: 0.3627 - val_loss: 2.0518 - val_rpn_class_loss: 0.1996 - val_rpn_bbox_loss: 1.1089 - val_mrcnn_class_loss: 0.1876 - val_mrcnn_bbox_loss: 0.2013 - val_mrcnn_mask_loss: 0.3544\n",
      "Epoch 24/50\n",
      "100/100 [==============================] - 48s 480ms/step - loss: 1.9795 - rpn_class_loss: 0.1789 - rpn_bbox_loss: 1.0606 - mrcnn_class_loss: 0.1832 - mrcnn_bbox_loss: 0.1993 - mrcnn_mask_loss: 0.3574 - val_loss: 2.1119 - val_rpn_class_loss: 0.2252 - val_rpn_bbox_loss: 1.0951 - val_mrcnn_class_loss: 0.1841 - val_mrcnn_bbox_loss: 0.2245 - val_mrcnn_mask_loss: 0.3829\n",
      "Epoch 25/50\n",
      "100/100 [==============================] - 46s 461ms/step - loss: 1.9626 - rpn_class_loss: 0.1737 - rpn_bbox_loss: 1.0528 - mrcnn_class_loss: 0.1841 - mrcnn_bbox_loss: 0.1968 - mrcnn_mask_loss: 0.3551 - val_loss: 1.9837 - val_rpn_class_loss: 0.1805 - val_rpn_bbox_loss: 1.0660 - val_mrcnn_class_loss: 0.1673 - val_mrcnn_bbox_loss: 0.2037 - val_mrcnn_mask_loss: 0.3662\n",
      "Epoch 26/50\n",
      "100/100 [==============================] - 48s 479ms/step - loss: 1.9506 - rpn_class_loss: 0.1785 - rpn_bbox_loss: 1.0545 - mrcnn_class_loss: 0.1755 - mrcnn_bbox_loss: 0.1920 - mrcnn_mask_loss: 0.3502 - val_loss: 2.1015 - val_rpn_class_loss: 0.2306 - val_rpn_bbox_loss: 1.0612 - val_mrcnn_class_loss: 0.2040 - val_mrcnn_bbox_loss: 0.2216 - val_mrcnn_mask_loss: 0.3841\n",
      "Epoch 27/50\n",
      "100/100 [==============================] - 46s 460ms/step - loss: 1.9240 - rpn_class_loss: 0.1771 - rpn_bbox_loss: 1.0419 - mrcnn_class_loss: 0.1715 - mrcnn_bbox_loss: 0.1895 - mrcnn_mask_loss: 0.3440 - val_loss: 2.0073 - val_rpn_class_loss: 0.2079 - val_rpn_bbox_loss: 1.0604 - val_mrcnn_class_loss: 0.1898 - val_mrcnn_bbox_loss: 0.2099 - val_mrcnn_mask_loss: 0.3393\n",
      "Epoch 28/50\n",
      "100/100 [==============================] - 47s 471ms/step - loss: 1.9230 - rpn_class_loss: 0.1802 - rpn_bbox_loss: 1.0353 - mrcnn_class_loss: 0.1755 - mrcnn_bbox_loss: 0.1891 - mrcnn_mask_loss: 0.3428 - val_loss: 2.0234 - val_rpn_class_loss: 0.1998 - val_rpn_bbox_loss: 1.0933 - val_mrcnn_class_loss: 0.1881 - val_mrcnn_bbox_loss: 0.1925 - val_mrcnn_mask_loss: 0.3498\n",
      "Epoch 29/50\n",
      "100/100 [==============================] - 46s 459ms/step - loss: 1.8834 - rpn_class_loss: 0.1744 - rpn_bbox_loss: 1.0264 - mrcnn_class_loss: 0.1722 - mrcnn_bbox_loss: 0.1713 - mrcnn_mask_loss: 0.3390 - val_loss: 1.9527 - val_rpn_class_loss: 0.2037 - val_rpn_bbox_loss: 1.0328 - val_mrcnn_class_loss: 0.1843 - val_mrcnn_bbox_loss: 0.1817 - val_mrcnn_mask_loss: 0.3503\n",
      "Epoch 30/50\n",
      "100/100 [==============================] - 47s 466ms/step - loss: 1.8904 - rpn_class_loss: 0.1757 - rpn_bbox_loss: 1.0253 - mrcnn_class_loss: 0.1737 - mrcnn_bbox_loss: 0.1768 - mrcnn_mask_loss: 0.3390 - val_loss: 2.0507 - val_rpn_class_loss: 0.2209 - val_rpn_bbox_loss: 1.0435 - val_mrcnn_class_loss: 0.1987 - val_mrcnn_bbox_loss: 0.2214 - val_mrcnn_mask_loss: 0.3663\n",
      "Epoch 31/50\n",
      "100/100 [==============================] - 47s 471ms/step - loss: 1.8627 - rpn_class_loss: 0.1726 - rpn_bbox_loss: 1.0151 - mrcnn_class_loss: 0.1705 - mrcnn_bbox_loss: 0.1722 - mrcnn_mask_loss: 0.3324 - val_loss: 1.9560 - val_rpn_class_loss: 0.2076 - val_rpn_bbox_loss: 1.0308 - val_mrcnn_class_loss: 0.1833 - val_mrcnn_bbox_loss: 0.1914 - val_mrcnn_mask_loss: 0.3429\n",
      "Epoch 32/50\n",
      "100/100 [==============================] - 46s 462ms/step - loss: 1.8502 - rpn_class_loss: 0.1737 - rpn_bbox_loss: 1.0140 - mrcnn_class_loss: 0.1686 - mrcnn_bbox_loss: 0.1656 - mrcnn_mask_loss: 0.3284 - val_loss: 1.8962 - val_rpn_class_loss: 0.1903 - val_rpn_bbox_loss: 1.0208 - val_mrcnn_class_loss: 0.1679 - val_mrcnn_bbox_loss: 0.1778 - val_mrcnn_mask_loss: 0.3394\n",
      "Epoch 33/50\n",
      "100/100 [==============================] - 46s 464ms/step - loss: 1.8294 - rpn_class_loss: 0.1743 - rpn_bbox_loss: 0.9981 - mrcnn_class_loss: 0.1679 - mrcnn_bbox_loss: 0.1633 - mrcnn_mask_loss: 0.3258 - val_loss: 1.8641 - val_rpn_class_loss: 0.1799 - val_rpn_bbox_loss: 1.0258 - val_mrcnn_class_loss: 0.1746 - val_mrcnn_bbox_loss: 0.1682 - val_mrcnn_mask_loss: 0.3157\n",
      "Epoch 34/50\n",
      "100/100 [==============================] - 46s 464ms/step - loss: 1.8059 - rpn_class_loss: 0.1693 - rpn_bbox_loss: 0.9919 - mrcnn_class_loss: 0.1603 - mrcnn_bbox_loss: 0.1612 - mrcnn_mask_loss: 0.3234 - val_loss: 1.8477 - val_rpn_class_loss: 0.1936 - val_rpn_bbox_loss: 1.0188 - val_mrcnn_class_loss: 0.1465 - val_mrcnn_bbox_loss: 0.1568 - val_mrcnn_mask_loss: 0.3321\n",
      "Epoch 35/50\n",
      "100/100 [==============================] - 47s 466ms/step - loss: 1.8017 - rpn_class_loss: 0.1727 - rpn_bbox_loss: 0.9888 - mrcnn_class_loss: 0.1645 - mrcnn_bbox_loss: 0.1565 - mrcnn_mask_loss: 0.3192 - val_loss: 1.8375 - val_rpn_class_loss: 0.1852 - val_rpn_bbox_loss: 0.9716 - val_mrcnn_class_loss: 0.1803 - val_mrcnn_bbox_loss: 0.1630 - val_mrcnn_mask_loss: 0.3373\n",
      "Epoch 36/50\n",
      "100/100 [==============================] - 45s 449ms/step - loss: 1.7501 - rpn_class_loss: 0.1656 - rpn_bbox_loss: 0.9705 - mrcnn_class_loss: 0.1583 - mrcnn_bbox_loss: 0.1467 - mrcnn_mask_loss: 0.3090 - val_loss: 1.8459 - val_rpn_class_loss: 0.1939 - val_rpn_bbox_loss: 1.0090 - val_mrcnn_class_loss: 0.1645 - val_mrcnn_bbox_loss: 0.1562 - val_mrcnn_mask_loss: 0.3223\n",
      "Epoch 37/50\n",
      "100/100 [==============================] - 48s 475ms/step - loss: 1.7705 - rpn_class_loss: 0.1721 - rpn_bbox_loss: 0.9683 - mrcnn_class_loss: 0.1608 - mrcnn_bbox_loss: 0.1545 - mrcnn_mask_loss: 0.3148 - val_loss: 1.8970 - val_rpn_class_loss: 0.1998 - val_rpn_bbox_loss: 1.0243 - val_mrcnn_class_loss: 0.1679 - val_mrcnn_bbox_loss: 0.1704 - val_mrcnn_mask_loss: 0.3346\n",
      "Epoch 38/50\n",
      "100/100 [==============================] - 46s 457ms/step - loss: 1.7513 - rpn_class_loss: 0.1671 - rpn_bbox_loss: 0.9619 - mrcnn_class_loss: 0.1591 - mrcnn_bbox_loss: 0.1532 - mrcnn_mask_loss: 0.3101 - val_loss: 1.7987 - val_rpn_class_loss: 0.1826 - val_rpn_bbox_loss: 0.9720 - val_mrcnn_class_loss: 0.1519 - val_mrcnn_bbox_loss: 0.1711 - val_mrcnn_mask_loss: 0.3212\n",
      "Epoch 39/50\n",
      "100/100 [==============================] - 47s 470ms/step - loss: 1.7340 - rpn_class_loss: 0.1674 - rpn_bbox_loss: 0.9500 - mrcnn_class_loss: 0.1545 - mrcnn_bbox_loss: 0.1510 - mrcnn_mask_loss: 0.3110 - val_loss: 1.8856 - val_rpn_class_loss: 0.2039 - val_rpn_bbox_loss: 0.9621 - val_mrcnn_class_loss: 0.1908 - val_mrcnn_bbox_loss: 0.1851 - val_mrcnn_mask_loss: 0.3437\n",
      "Epoch 40/50\n",
      "100/100 [==============================] - 46s 459ms/step - loss: 1.7178 - rpn_class_loss: 0.1688 - rpn_bbox_loss: 0.9424 - mrcnn_class_loss: 0.1542 - mrcnn_bbox_loss: 0.1453 - mrcnn_mask_loss: 0.3071 - val_loss: 1.6680 - val_rpn_class_loss: 0.1618 - val_rpn_bbox_loss: 0.9382 - val_mrcnn_class_loss: 0.1407 - val_mrcnn_bbox_loss: 0.1279 - val_mrcnn_mask_loss: 0.2994\n",
      "Epoch 41/50\n",
      "100/100 [==============================] - 46s 458ms/step - loss: 1.7073 - rpn_class_loss: 0.1652 - rpn_bbox_loss: 0.9381 - mrcnn_class_loss: 0.1527 - mrcnn_bbox_loss: 0.1466 - mrcnn_mask_loss: 0.3048 - val_loss: 1.8691 - val_rpn_class_loss: 0.2146 - val_rpn_bbox_loss: 0.9540 - val_mrcnn_class_loss: 0.1871 - val_mrcnn_bbox_loss: 0.1863 - val_mrcnn_mask_loss: 0.3271\n",
      "Epoch 42/50\n",
      "100/100 [==============================] - 47s 466ms/step - loss: 1.7052 - rpn_class_loss: 0.1677 - rpn_bbox_loss: 0.9327 - mrcnn_class_loss: 0.1532 - mrcnn_bbox_loss: 0.1462 - mrcnn_mask_loss: 0.3055 - val_loss: 1.7326 - val_rpn_class_loss: 0.1673 - val_rpn_bbox_loss: 0.9572 - val_mrcnn_class_loss: 0.1512 - val_mrcnn_bbox_loss: 0.1445 - val_mrcnn_mask_loss: 0.3124\n",
      "Epoch 43/50\n",
      "100/100 [==============================] - 47s 466ms/step - loss: 1.6804 - rpn_class_loss: 0.1656 - rpn_bbox_loss: 0.9182 - mrcnn_class_loss: 0.1571 - mrcnn_bbox_loss: 0.1414 - mrcnn_mask_loss: 0.2981 - val_loss: 1.7907 - val_rpn_class_loss: 0.1932 - val_rpn_bbox_loss: 0.9413 - val_mrcnn_class_loss: 0.1966 - val_mrcnn_bbox_loss: 0.1489 - val_mrcnn_mask_loss: 0.3106\n",
      "Epoch 44/50\n",
      "100/100 [==============================] - 46s 458ms/step - loss: 1.6856 - rpn_class_loss: 0.1628 - rpn_bbox_loss: 0.9163 - mrcnn_class_loss: 0.1547 - mrcnn_bbox_loss: 0.1484 - mrcnn_mask_loss: 0.3034 - val_loss: 1.7629 - val_rpn_class_loss: 0.1841 - val_rpn_bbox_loss: 0.9292 - val_mrcnn_class_loss: 0.1628 - val_mrcnn_bbox_loss: 0.1678 - val_mrcnn_mask_loss: 0.3189\n",
      "Epoch 45/50\n",
      "100/100 [==============================] - 47s 465ms/step - loss: 1.6742 - rpn_class_loss: 0.1645 - rpn_bbox_loss: 0.9068 - mrcnn_class_loss: 0.1509 - mrcnn_bbox_loss: 0.1504 - mrcnn_mask_loss: 0.3016 - val_loss: 1.7382 - val_rpn_class_loss: 0.1736 - val_rpn_bbox_loss: 0.9350 - val_mrcnn_class_loss: 0.1563 - val_mrcnn_bbox_loss: 0.1621 - val_mrcnn_mask_loss: 0.3111\n",
      "Epoch 46/50\n",
      "100/100 [==============================] - 45s 454ms/step - loss: 1.6686 - rpn_class_loss: 0.1644 - rpn_bbox_loss: 0.8989 - mrcnn_class_loss: 0.1592 - mrcnn_bbox_loss: 0.1458 - mrcnn_mask_loss: 0.3004 - val_loss: 1.7553 - val_rpn_class_loss: 0.1943 - val_rpn_bbox_loss: 0.9308 - val_mrcnn_class_loss: 0.1578 - val_mrcnn_bbox_loss: 0.1570 - val_mrcnn_mask_loss: 0.3155\n",
      "Epoch 47/50\n",
      "100/100 [==============================] - 47s 465ms/step - loss: 1.6186 - rpn_class_loss: 0.1581 - rpn_bbox_loss: 0.8815 - mrcnn_class_loss: 0.1496 - mrcnn_bbox_loss: 0.1386 - mrcnn_mask_loss: 0.2908 - val_loss: 1.7449 - val_rpn_class_loss: 0.1947 - val_rpn_bbox_loss: 0.9171 - val_mrcnn_class_loss: 0.1616 - val_mrcnn_bbox_loss: 0.1555 - val_mrcnn_mask_loss: 0.3161\n",
      "Epoch 48/50\n",
      "100/100 [==============================] - 45s 455ms/step - loss: 1.6290 - rpn_class_loss: 0.1639 - rpn_bbox_loss: 0.8845 - mrcnn_class_loss: 0.1504 - mrcnn_bbox_loss: 0.1375 - mrcnn_mask_loss: 0.2928 - val_loss: 1.6490 - val_rpn_class_loss: 0.1786 - val_rpn_bbox_loss: 0.8891 - val_mrcnn_class_loss: 0.1594 - val_mrcnn_bbox_loss: 0.1375 - val_mrcnn_mask_loss: 0.2844\n",
      "Epoch 49/50\n",
      "100/100 [==============================] - 47s 470ms/step - loss: 1.6233 - rpn_class_loss: 0.1616 - rpn_bbox_loss: 0.8734 - mrcnn_class_loss: 0.1527 - mrcnn_bbox_loss: 0.1406 - mrcnn_mask_loss: 0.2950 - val_loss: 1.6595 - val_rpn_class_loss: 0.1645 - val_rpn_bbox_loss: 0.8904 - val_mrcnn_class_loss: 0.1531 - val_mrcnn_bbox_loss: 0.1527 - val_mrcnn_mask_loss: 0.2988\n",
      "Epoch 50/50\n",
      "100/100 [==============================] - 44s 444ms/step - loss: 1.6125 - rpn_class_loss: 0.1642 - rpn_bbox_loss: 0.8644 - mrcnn_class_loss: 0.1484 - mrcnn_bbox_loss: 0.1379 - mrcnn_mask_loss: 0.2977 - val_loss: 1.7407 - val_rpn_class_loss: 0.1888 - val_rpn_bbox_loss: 0.8944 - val_mrcnn_class_loss: 0.1825 - val_mrcnn_bbox_loss: 0.1624 - val_mrcnn_mask_loss: 0.3126\n"
     ]
    }
   ],
   "source": [
    "# Train the head branches\n",
    "# Passing layers=\"heads\" freezes all layers except the head\n",
    "# layers. You can also pass a regular expression to select\n",
    "# which layers to train by name pattern.\n",
    "model.train(eddy_train, eddy_val, \n",
    "            learning_rate=e_config.LEARNING_RATE, \n",
    "            epochs=50, \n",
    "            layers='heads')"
   ]
  },
  {
   "cell_type": "code",
   "execution_count": 14,
   "metadata": {
    "scrolled": true
   },
   "outputs": [
    {
     "name": "stdout",
     "output_type": "stream",
     "text": [
      "\n",
      "Starting at epoch 50. LR=0.0001\n",
      "\n",
      "Checkpoint Path: /home/ouc/whx/eddy_detection/mrcnn/Mask_RCNN/logs/eddies20181209T2129/mask_rcnn_eddies_{epoch:04d}.h5\n",
      "Selecting layers to train\n",
      "conv1                  (Conv2D)\n",
      "bn_conv1               (BatchNorm)\n",
      "res2a_branch2a         (Conv2D)\n",
      "bn2a_branch2a          (BatchNorm)\n",
      "res2a_branch2b         (Conv2D)\n",
      "bn2a_branch2b          (BatchNorm)\n",
      "res2a_branch2c         (Conv2D)\n",
      "res2a_branch1          (Conv2D)\n",
      "bn2a_branch2c          (BatchNorm)\n",
      "bn2a_branch1           (BatchNorm)\n",
      "res2b_branch2a         (Conv2D)\n",
      "bn2b_branch2a          (BatchNorm)\n",
      "res2b_branch2b         (Conv2D)\n",
      "bn2b_branch2b          (BatchNorm)\n",
      "res2b_branch2c         (Conv2D)\n",
      "bn2b_branch2c          (BatchNorm)\n",
      "res2c_branch2a         (Conv2D)\n",
      "bn2c_branch2a          (BatchNorm)\n",
      "res2c_branch2b         (Conv2D)\n",
      "bn2c_branch2b          (BatchNorm)\n",
      "res2c_branch2c         (Conv2D)\n",
      "bn2c_branch2c          (BatchNorm)\n",
      "res3a_branch2a         (Conv2D)\n",
      "bn3a_branch2a          (BatchNorm)\n",
      "res3a_branch2b         (Conv2D)\n",
      "bn3a_branch2b          (BatchNorm)\n",
      "res3a_branch2c         (Conv2D)\n",
      "res3a_branch1          (Conv2D)\n",
      "bn3a_branch2c          (BatchNorm)\n",
      "bn3a_branch1           (BatchNorm)\n",
      "res3b_branch2a         (Conv2D)\n",
      "bn3b_branch2a          (BatchNorm)\n",
      "res3b_branch2b         (Conv2D)\n",
      "bn3b_branch2b          (BatchNorm)\n",
      "res3b_branch2c         (Conv2D)\n",
      "bn3b_branch2c          (BatchNorm)\n",
      "res3c_branch2a         (Conv2D)\n",
      "bn3c_branch2a          (BatchNorm)\n",
      "res3c_branch2b         (Conv2D)\n",
      "bn3c_branch2b          (BatchNorm)\n",
      "res3c_branch2c         (Conv2D)\n",
      "bn3c_branch2c          (BatchNorm)\n",
      "res3d_branch2a         (Conv2D)\n",
      "bn3d_branch2a          (BatchNorm)\n",
      "res3d_branch2b         (Conv2D)\n",
      "bn3d_branch2b          (BatchNorm)\n",
      "res3d_branch2c         (Conv2D)\n",
      "bn3d_branch2c          (BatchNorm)\n",
      "res4a_branch2a         (Conv2D)\n",
      "bn4a_branch2a          (BatchNorm)\n",
      "res4a_branch2b         (Conv2D)\n",
      "bn4a_branch2b          (BatchNorm)\n",
      "res4a_branch2c         (Conv2D)\n",
      "res4a_branch1          (Conv2D)\n",
      "bn4a_branch2c          (BatchNorm)\n",
      "bn4a_branch1           (BatchNorm)\n",
      "res4b_branch2a         (Conv2D)\n",
      "bn4b_branch2a          (BatchNorm)\n",
      "res4b_branch2b         (Conv2D)\n",
      "bn4b_branch2b          (BatchNorm)\n",
      "res4b_branch2c         (Conv2D)\n",
      "bn4b_branch2c          (BatchNorm)\n",
      "res4c_branch2a         (Conv2D)\n",
      "bn4c_branch2a          (BatchNorm)\n",
      "res4c_branch2b         (Conv2D)\n",
      "bn4c_branch2b          (BatchNorm)\n",
      "res4c_branch2c         (Conv2D)\n",
      "bn4c_branch2c          (BatchNorm)\n",
      "res4d_branch2a         (Conv2D)\n",
      "bn4d_branch2a          (BatchNorm)\n",
      "res4d_branch2b         (Conv2D)\n",
      "bn4d_branch2b          (BatchNorm)\n",
      "res4d_branch2c         (Conv2D)\n",
      "bn4d_branch2c          (BatchNorm)\n",
      "res4e_branch2a         (Conv2D)\n",
      "bn4e_branch2a          (BatchNorm)\n",
      "res4e_branch2b         (Conv2D)\n",
      "bn4e_branch2b          (BatchNorm)\n",
      "res4e_branch2c         (Conv2D)\n",
      "bn4e_branch2c          (BatchNorm)\n",
      "res4f_branch2a         (Conv2D)\n",
      "bn4f_branch2a          (BatchNorm)\n",
      "res4f_branch2b         (Conv2D)\n",
      "bn4f_branch2b          (BatchNorm)\n",
      "res4f_branch2c         (Conv2D)\n",
      "bn4f_branch2c          (BatchNorm)\n",
      "res4g_branch2a         (Conv2D)\n",
      "bn4g_branch2a          (BatchNorm)\n",
      "res4g_branch2b         (Conv2D)\n",
      "bn4g_branch2b          (BatchNorm)\n",
      "res4g_branch2c         (Conv2D)\n",
      "bn4g_branch2c          (BatchNorm)\n",
      "res4h_branch2a         (Conv2D)\n",
      "bn4h_branch2a          (BatchNorm)\n",
      "res4h_branch2b         (Conv2D)\n",
      "bn4h_branch2b          (BatchNorm)\n",
      "res4h_branch2c         (Conv2D)\n",
      "bn4h_branch2c          (BatchNorm)\n",
      "res4i_branch2a         (Conv2D)\n",
      "bn4i_branch2a          (BatchNorm)\n",
      "res4i_branch2b         (Conv2D)\n",
      "bn4i_branch2b          (BatchNorm)\n",
      "res4i_branch2c         (Conv2D)\n",
      "bn4i_branch2c          (BatchNorm)\n",
      "res4j_branch2a         (Conv2D)\n",
      "bn4j_branch2a          (BatchNorm)\n",
      "res4j_branch2b         (Conv2D)\n",
      "bn4j_branch2b          (BatchNorm)\n",
      "res4j_branch2c         (Conv2D)\n",
      "bn4j_branch2c          (BatchNorm)\n",
      "res4k_branch2a         (Conv2D)\n",
      "bn4k_branch2a          (BatchNorm)\n",
      "res4k_branch2b         (Conv2D)\n",
      "bn4k_branch2b          (BatchNorm)\n",
      "res4k_branch2c         (Conv2D)\n",
      "bn4k_branch2c          (BatchNorm)\n",
      "res4l_branch2a         (Conv2D)\n",
      "bn4l_branch2a          (BatchNorm)\n",
      "res4l_branch2b         (Conv2D)\n",
      "bn4l_branch2b          (BatchNorm)\n",
      "res4l_branch2c         (Conv2D)\n",
      "bn4l_branch2c          (BatchNorm)\n",
      "res4m_branch2a         (Conv2D)\n",
      "bn4m_branch2a          (BatchNorm)\n",
      "res4m_branch2b         (Conv2D)\n",
      "bn4m_branch2b          (BatchNorm)\n",
      "res4m_branch2c         (Conv2D)\n",
      "bn4m_branch2c          (BatchNorm)\n",
      "res4n_branch2a         (Conv2D)\n",
      "bn4n_branch2a          (BatchNorm)\n",
      "res4n_branch2b         (Conv2D)\n",
      "bn4n_branch2b          (BatchNorm)\n",
      "res4n_branch2c         (Conv2D)\n",
      "bn4n_branch2c          (BatchNorm)\n",
      "res4o_branch2a         (Conv2D)\n",
      "bn4o_branch2a          (BatchNorm)\n",
      "res4o_branch2b         (Conv2D)\n",
      "bn4o_branch2b          (BatchNorm)\n",
      "res4o_branch2c         (Conv2D)\n",
      "bn4o_branch2c          (BatchNorm)\n",
      "res4p_branch2a         (Conv2D)\n",
      "bn4p_branch2a          (BatchNorm)\n",
      "res4p_branch2b         (Conv2D)\n",
      "bn4p_branch2b          (BatchNorm)\n",
      "res4p_branch2c         (Conv2D)\n",
      "bn4p_branch2c          (BatchNorm)\n",
      "res4q_branch2a         (Conv2D)\n",
      "bn4q_branch2a          (BatchNorm)\n",
      "res4q_branch2b         (Conv2D)\n",
      "bn4q_branch2b          (BatchNorm)\n",
      "res4q_branch2c         (Conv2D)\n",
      "bn4q_branch2c          (BatchNorm)\n",
      "res4r_branch2a         (Conv2D)\n",
      "bn4r_branch2a          (BatchNorm)\n",
      "res4r_branch2b         (Conv2D)\n",
      "bn4r_branch2b          (BatchNorm)\n",
      "res4r_branch2c         (Conv2D)\n",
      "bn4r_branch2c          (BatchNorm)\n",
      "res4s_branch2a         (Conv2D)\n",
      "bn4s_branch2a          (BatchNorm)\n",
      "res4s_branch2b         (Conv2D)\n",
      "bn4s_branch2b          (BatchNorm)\n",
      "res4s_branch2c         (Conv2D)\n",
      "bn4s_branch2c          (BatchNorm)\n",
      "res4t_branch2a         (Conv2D)\n",
      "bn4t_branch2a          (BatchNorm)\n",
      "res4t_branch2b         (Conv2D)\n",
      "bn4t_branch2b          (BatchNorm)\n",
      "res4t_branch2c         (Conv2D)\n",
      "bn4t_branch2c          (BatchNorm)\n",
      "res4u_branch2a         (Conv2D)\n",
      "bn4u_branch2a          (BatchNorm)\n",
      "res4u_branch2b         (Conv2D)\n",
      "bn4u_branch2b          (BatchNorm)\n",
      "res4u_branch2c         (Conv2D)\n",
      "bn4u_branch2c          (BatchNorm)\n",
      "res4v_branch2a         (Conv2D)\n",
      "bn4v_branch2a          (BatchNorm)\n",
      "res4v_branch2b         (Conv2D)\n",
      "bn4v_branch2b          (BatchNorm)\n",
      "res4v_branch2c         (Conv2D)\n",
      "bn4v_branch2c          (BatchNorm)\n",
      "res4w_branch2a         (Conv2D)\n",
      "bn4w_branch2a          (BatchNorm)\n",
      "res4w_branch2b         (Conv2D)\n",
      "bn4w_branch2b          (BatchNorm)\n",
      "res4w_branch2c         (Conv2D)\n",
      "bn4w_branch2c          (BatchNorm)\n",
      "res5a_branch2a         (Conv2D)\n",
      "bn5a_branch2a          (BatchNorm)\n",
      "res5a_branch2b         (Conv2D)\n",
      "bn5a_branch2b          (BatchNorm)\n",
      "res5a_branch2c         (Conv2D)\n",
      "res5a_branch1          (Conv2D)\n",
      "bn5a_branch2c          (BatchNorm)\n",
      "bn5a_branch1           (BatchNorm)\n",
      "res5b_branch2a         (Conv2D)\n",
      "bn5b_branch2a          (BatchNorm)\n",
      "res5b_branch2b         (Conv2D)\n",
      "bn5b_branch2b          (BatchNorm)\n",
      "res5b_branch2c         (Conv2D)\n",
      "bn5b_branch2c          (BatchNorm)\n",
      "res5c_branch2a         (Conv2D)\n",
      "bn5c_branch2a          (BatchNorm)\n",
      "res5c_branch2b         (Conv2D)\n",
      "bn5c_branch2b          (BatchNorm)\n",
      "res5c_branch2c         (Conv2D)\n",
      "bn5c_branch2c          (BatchNorm)\n",
      "fpn_c5p5               (Conv2D)\n",
      "fpn_c4p4               (Conv2D)\n",
      "fpn_c3p3               (Conv2D)\n",
      "fpn_c2p2               (Conv2D)\n",
      "fpn_p5                 (Conv2D)\n",
      "fpn_p2                 (Conv2D)\n",
      "fpn_p3                 (Conv2D)\n",
      "fpn_p4                 (Conv2D)\n",
      "In model:  rpn_model\n",
      "    rpn_conv_shared        (Conv2D)\n",
      "    rpn_class_raw          (Conv2D)\n",
      "    rpn_bbox_pred          (Conv2D)\n",
      "mrcnn_mask_conv1       (TimeDistributed)\n",
      "mrcnn_mask_bn1         (TimeDistributed)\n",
      "mrcnn_mask_conv2       (TimeDistributed)\n",
      "mrcnn_mask_bn2         (TimeDistributed)\n",
      "mrcnn_class_conv1      (TimeDistributed)\n",
      "mrcnn_class_bn1        (TimeDistributed)\n",
      "mrcnn_mask_conv3       (TimeDistributed)\n",
      "mrcnn_mask_bn3         (TimeDistributed)\n",
      "mrcnn_class_conv2      (TimeDistributed)\n",
      "mrcnn_class_bn2        (TimeDistributed)\n",
      "mrcnn_mask_conv4       (TimeDistributed)\n",
      "mrcnn_mask_bn4         (TimeDistributed)\n",
      "mrcnn_bbox_fc          (TimeDistributed)\n",
      "mrcnn_mask_deconv      (TimeDistributed)\n",
      "mrcnn_class_logits     (TimeDistributed)\n",
      "mrcnn_mask             (TimeDistributed)\n"
     ]
    },
    {
     "name": "stderr",
     "output_type": "stream",
     "text": [
      "/home/ouc/anaconda3/lib/python3.6/site-packages/tensorflow/python/ops/gradients_impl.py:96: UserWarning: Converting sparse IndexedSlices to a dense Tensor of unknown shape. This may consume a large amount of memory.\n",
      "  \"Converting sparse IndexedSlices to a dense Tensor of unknown shape. \"\n",
      "/home/ouc/anaconda3/lib/python3.6/site-packages/keras/engine/training.py:2033: UserWarning: Using a generator with `use_multiprocessing=True` and multiple workers may duplicate your data. Please consider using the`keras.utils.Sequence class.\n",
      "  UserWarning('Using a generator with `use_multiprocessing=True`'\n"
     ]
    },
    {
     "name": "stdout",
     "output_type": "stream",
     "text": [
      "Epoch 51/100\n",
      "100/100 [==============================] - 102s 1s/step - loss: 1.5524 - rpn_class_loss: 0.1629 - rpn_bbox_loss: 0.8509 - mrcnn_class_loss: 0.1385 - mrcnn_bbox_loss: 0.1185 - mrcnn_mask_loss: 0.2816 - val_loss: 1.6019 - val_rpn_class_loss: 0.1683 - val_rpn_bbox_loss: 0.8540 - val_mrcnn_class_loss: 0.1505 - val_mrcnn_bbox_loss: 0.1303 - val_mrcnn_mask_loss: 0.2989\n",
      "Epoch 52/100\n",
      "100/100 [==============================] - 56s 562ms/step - loss: 1.5119 - rpn_class_loss: 0.1535 - rpn_bbox_loss: 0.8378 - mrcnn_class_loss: 0.1326 - mrcnn_bbox_loss: 0.1144 - mrcnn_mask_loss: 0.2735 - val_loss: 1.5916 - val_rpn_class_loss: 0.1900 - val_rpn_bbox_loss: 0.8619 - val_mrcnn_class_loss: 0.1454 - val_mrcnn_bbox_loss: 0.1118 - val_mrcnn_mask_loss: 0.2825\n",
      "Epoch 53/100\n",
      "100/100 [==============================] - 52s 523ms/step - loss: 1.5242 - rpn_class_loss: 0.1601 - rpn_bbox_loss: 0.8321 - mrcnn_class_loss: 0.1412 - mrcnn_bbox_loss: 0.1137 - mrcnn_mask_loss: 0.2770 - val_loss: 1.6593 - val_rpn_class_loss: 0.1891 - val_rpn_bbox_loss: 0.8761 - val_mrcnn_class_loss: 0.1580 - val_mrcnn_bbox_loss: 0.1351 - val_mrcnn_mask_loss: 0.3011\n",
      "Epoch 54/100\n",
      "100/100 [==============================] - 54s 544ms/step - loss: 1.5088 - rpn_class_loss: 0.1616 - rpn_bbox_loss: 0.8249 - mrcnn_class_loss: 0.1368 - mrcnn_bbox_loss: 0.1107 - mrcnn_mask_loss: 0.2747 - val_loss: 1.5756 - val_rpn_class_loss: 0.1688 - val_rpn_bbox_loss: 0.8647 - val_mrcnn_class_loss: 0.1475 - val_mrcnn_bbox_loss: 0.1194 - val_mrcnn_mask_loss: 0.2753\n",
      "Epoch 55/100\n",
      "100/100 [==============================] - 52s 522ms/step - loss: 1.4624 - rpn_class_loss: 0.1517 - rpn_bbox_loss: 0.8097 - mrcnn_class_loss: 0.1299 - mrcnn_bbox_loss: 0.1038 - mrcnn_mask_loss: 0.2672 - val_loss: 1.5610 - val_rpn_class_loss: 0.1605 - val_rpn_bbox_loss: 0.8843 - val_mrcnn_class_loss: 0.1293 - val_mrcnn_bbox_loss: 0.1149 - val_mrcnn_mask_loss: 0.2720\n",
      "Epoch 56/100\n",
      "100/100 [==============================] - 55s 550ms/step - loss: 1.4961 - rpn_class_loss: 0.1590 - rpn_bbox_loss: 0.8194 - mrcnn_class_loss: 0.1329 - mrcnn_bbox_loss: 0.1115 - mrcnn_mask_loss: 0.2734 - val_loss: 1.6114 - val_rpn_class_loss: 0.1961 - val_rpn_bbox_loss: 0.8150 - val_mrcnn_class_loss: 0.1785 - val_mrcnn_bbox_loss: 0.1254 - val_mrcnn_mask_loss: 0.2964\n",
      "Epoch 57/100\n",
      "100/100 [==============================] - 53s 535ms/step - loss: 1.4719 - rpn_class_loss: 0.1544 - rpn_bbox_loss: 0.8027 - mrcnn_class_loss: 0.1321 - mrcnn_bbox_loss: 0.1106 - mrcnn_mask_loss: 0.2721 - val_loss: 1.6400 - val_rpn_class_loss: 0.2123 - val_rpn_bbox_loss: 0.8368 - val_mrcnn_class_loss: 0.1541 - val_mrcnn_bbox_loss: 0.1398 - val_mrcnn_mask_loss: 0.2970\n",
      "Epoch 58/100\n",
      "100/100 [==============================] - 56s 559ms/step - loss: 1.4583 - rpn_class_loss: 0.1551 - rpn_bbox_loss: 0.7919 - mrcnn_class_loss: 0.1363 - mrcnn_bbox_loss: 0.1063 - mrcnn_mask_loss: 0.2687 - val_loss: 1.5409 - val_rpn_class_loss: 0.1734 - val_rpn_bbox_loss: 0.8539 - val_mrcnn_class_loss: 0.1272 - val_mrcnn_bbox_loss: 0.1033 - val_mrcnn_mask_loss: 0.2830\n",
      "Epoch 59/100\n",
      "100/100 [==============================] - 53s 527ms/step - loss: 1.4772 - rpn_class_loss: 0.1574 - rpn_bbox_loss: 0.7974 - mrcnn_class_loss: 0.1383 - mrcnn_bbox_loss: 0.1101 - mrcnn_mask_loss: 0.2740 - val_loss: 1.5869 - val_rpn_class_loss: 0.1950 - val_rpn_bbox_loss: 0.8207 - val_mrcnn_class_loss: 0.1616 - val_mrcnn_bbox_loss: 0.1247 - val_mrcnn_mask_loss: 0.2850\n",
      "Epoch 60/100\n",
      "100/100 [==============================] - 54s 540ms/step - loss: 1.4603 - rpn_class_loss: 0.1555 - rpn_bbox_loss: 0.7855 - mrcnn_class_loss: 0.1342 - mrcnn_bbox_loss: 0.1124 - mrcnn_mask_loss: 0.2727 - val_loss: 1.5253 - val_rpn_class_loss: 0.1699 - val_rpn_bbox_loss: 0.7991 - val_mrcnn_class_loss: 0.1455 - val_mrcnn_bbox_loss: 0.1337 - val_mrcnn_mask_loss: 0.2771\n",
      "Epoch 61/100\n",
      "100/100 [==============================] - 54s 543ms/step - loss: 1.4464 - rpn_class_loss: 0.1524 - rpn_bbox_loss: 0.7826 - mrcnn_class_loss: 0.1326 - mrcnn_bbox_loss: 0.1105 - mrcnn_mask_loss: 0.2683 - val_loss: 1.4077 - val_rpn_class_loss: 0.1574 - val_rpn_bbox_loss: 0.7798 - val_mrcnn_class_loss: 0.1170 - val_mrcnn_bbox_loss: 0.0985 - val_mrcnn_mask_loss: 0.2550\n",
      "Epoch 62/100\n",
      "100/100 [==============================] - 53s 532ms/step - loss: 1.4446 - rpn_class_loss: 0.1541 - rpn_bbox_loss: 0.7773 - mrcnn_class_loss: 0.1347 - mrcnn_bbox_loss: 0.1096 - mrcnn_mask_loss: 0.2688 - val_loss: 1.5995 - val_rpn_class_loss: 0.1962 - val_rpn_bbox_loss: 0.8099 - val_mrcnn_class_loss: 0.1555 - val_mrcnn_bbox_loss: 0.1481 - val_mrcnn_mask_loss: 0.2897\n",
      "Epoch 63/100\n",
      "100/100 [==============================] - 54s 539ms/step - loss: 1.4483 - rpn_class_loss: 0.1551 - rpn_bbox_loss: 0.7753 - mrcnn_class_loss: 0.1352 - mrcnn_bbox_loss: 0.1115 - mrcnn_mask_loss: 0.2712 - val_loss: 1.4167 - val_rpn_class_loss: 0.1468 - val_rpn_bbox_loss: 0.7456 - val_mrcnn_class_loss: 0.1436 - val_mrcnn_bbox_loss: 0.1110 - val_mrcnn_mask_loss: 0.2697\n",
      "Epoch 64/100\n",
      "100/100 [==============================] - 53s 533ms/step - loss: 1.4430 - rpn_class_loss: 0.1561 - rpn_bbox_loss: 0.7701 - mrcnn_class_loss: 0.1360 - mrcnn_bbox_loss: 0.1108 - mrcnn_mask_loss: 0.2700 - val_loss: 1.5791 - val_rpn_class_loss: 0.1934 - val_rpn_bbox_loss: 0.7856 - val_mrcnn_class_loss: 0.1611 - val_mrcnn_bbox_loss: 0.1440 - val_mrcnn_mask_loss: 0.2951\n",
      "Epoch 65/100\n",
      "100/100 [==============================] - 52s 524ms/step - loss: 1.4161 - rpn_class_loss: 0.1510 - rpn_bbox_loss: 0.7547 - mrcnn_class_loss: 0.1347 - mrcnn_bbox_loss: 0.1086 - mrcnn_mask_loss: 0.2671 - val_loss: 1.4231 - val_rpn_class_loss: 0.1441 - val_rpn_bbox_loss: 0.7747 - val_mrcnn_class_loss: 0.1280 - val_mrcnn_bbox_loss: 0.1132 - val_mrcnn_mask_loss: 0.2631\n",
      "Epoch 66/100\n",
      "100/100 [==============================] - 55s 551ms/step - loss: 1.4351 - rpn_class_loss: 0.1554 - rpn_bbox_loss: 0.7581 - mrcnn_class_loss: 0.1391 - mrcnn_bbox_loss: 0.1121 - mrcnn_mask_loss: 0.2703 - val_loss: 1.4598 - val_rpn_class_loss: 0.1524 - val_rpn_bbox_loss: 0.8060 - val_mrcnn_class_loss: 0.1251 - val_mrcnn_bbox_loss: 0.1105 - val_mrcnn_mask_loss: 0.2658\n",
      "Epoch 67/100\n",
      "100/100 [==============================] - 53s 529ms/step - loss: 1.4255 - rpn_class_loss: 0.1546 - rpn_bbox_loss: 0.7520 - mrcnn_class_loss: 0.1357 - mrcnn_bbox_loss: 0.1113 - mrcnn_mask_loss: 0.2719 - val_loss: 1.4624 - val_rpn_class_loss: 0.1686 - val_rpn_bbox_loss: 0.7842 - val_mrcnn_class_loss: 0.1293 - val_mrcnn_bbox_loss: 0.1091 - val_mrcnn_mask_loss: 0.2712\n",
      "Epoch 68/100\n",
      "100/100 [==============================] - 53s 528ms/step - loss: 1.4280 - rpn_class_loss: 0.1540 - rpn_bbox_loss: 0.7515 - mrcnn_class_loss: 0.1365 - mrcnn_bbox_loss: 0.1152 - mrcnn_mask_loss: 0.2707 - val_loss: 1.5279 - val_rpn_class_loss: 0.1728 - val_rpn_bbox_loss: 0.7883 - val_mrcnn_class_loss: 0.1566 - val_mrcnn_bbox_loss: 0.1210 - val_mrcnn_mask_loss: 0.2892\n",
      "Epoch 69/100\n",
      "100/100 [==============================] - 54s 540ms/step - loss: 1.4062 - rpn_class_loss: 0.1513 - rpn_bbox_loss: 0.7441 - mrcnn_class_loss: 0.1348 - mrcnn_bbox_loss: 0.1090 - mrcnn_mask_loss: 0.2670 - val_loss: 1.3874 - val_rpn_class_loss: 0.1435 - val_rpn_bbox_loss: 0.7415 - val_mrcnn_class_loss: 0.1208 - val_mrcnn_bbox_loss: 0.1182 - val_mrcnn_mask_loss: 0.2634\n",
      "Epoch 70/100\n",
      "100/100 [==============================] - 54s 542ms/step - loss: 1.3872 - rpn_class_loss: 0.1472 - rpn_bbox_loss: 0.7271 - mrcnn_class_loss: 0.1332 - mrcnn_bbox_loss: 0.1115 - mrcnn_mask_loss: 0.2682 - val_loss: 1.3904 - val_rpn_class_loss: 0.1506 - val_rpn_bbox_loss: 0.7268 - val_mrcnn_class_loss: 0.1299 - val_mrcnn_bbox_loss: 0.1073 - val_mrcnn_mask_loss: 0.2757\n",
      "Epoch 71/100\n",
      "100/100 [==============================] - 52s 523ms/step - loss: 1.4160 - rpn_class_loss: 0.1568 - rpn_bbox_loss: 0.7338 - mrcnn_class_loss: 0.1400 - mrcnn_bbox_loss: 0.1140 - mrcnn_mask_loss: 0.2714 - val_loss: 1.5188 - val_rpn_class_loss: 0.1758 - val_rpn_bbox_loss: 0.7808 - val_mrcnn_class_loss: 0.1457 - val_mrcnn_bbox_loss: 0.1335 - val_mrcnn_mask_loss: 0.2830\n",
      "Epoch 72/100\n",
      "100/100 [==============================] - 54s 541ms/step - loss: 1.4055 - rpn_class_loss: 0.1521 - rpn_bbox_loss: 0.7304 - mrcnn_class_loss: 0.1379 - mrcnn_bbox_loss: 0.1132 - mrcnn_mask_loss: 0.2718 - val_loss: 1.4104 - val_rpn_class_loss: 0.1628 - val_rpn_bbox_loss: 0.7424 - val_mrcnn_class_loss: 0.1089 - val_mrcnn_bbox_loss: 0.1242 - val_mrcnn_mask_loss: 0.2721\n",
      "Epoch 73/100\n",
      "100/100 [==============================] - 52s 520ms/step - loss: 1.3920 - rpn_class_loss: 0.1508 - rpn_bbox_loss: 0.7215 - mrcnn_class_loss: 0.1367 - mrcnn_bbox_loss: 0.1138 - mrcnn_mask_loss: 0.2692 - val_loss: 1.5904 - val_rpn_class_loss: 0.2047 - val_rpn_bbox_loss: 0.7776 - val_mrcnn_class_loss: 0.1705 - val_mrcnn_bbox_loss: 0.1411 - val_mrcnn_mask_loss: 0.2965\n",
      "Epoch 74/100\n",
      "100/100 [==============================] - 54s 537ms/step - loss: 1.3817 - rpn_class_loss: 0.1511 - rpn_bbox_loss: 0.7198 - mrcnn_class_loss: 0.1330 - mrcnn_bbox_loss: 0.1107 - mrcnn_mask_loss: 0.2670 - val_loss: 1.3697 - val_rpn_class_loss: 0.1481 - val_rpn_bbox_loss: 0.7335 - val_mrcnn_class_loss: 0.1175 - val_mrcnn_bbox_loss: 0.1127 - val_mrcnn_mask_loss: 0.2580\n",
      "Epoch 75/100\n",
      "100/100 [==============================] - 54s 538ms/step - loss: 1.3730 - rpn_class_loss: 0.1500 - rpn_bbox_loss: 0.7067 - mrcnn_class_loss: 0.1385 - mrcnn_bbox_loss: 0.1108 - mrcnn_mask_loss: 0.2669 - val_loss: 1.4507 - val_rpn_class_loss: 0.1703 - val_rpn_bbox_loss: 0.7509 - val_mrcnn_class_loss: 0.1408 - val_mrcnn_bbox_loss: 0.1141 - val_mrcnn_mask_loss: 0.2747\n",
      "Epoch 76/100\n",
      "100/100 [==============================] - 54s 540ms/step - loss: 1.3683 - rpn_class_loss: 0.1507 - rpn_bbox_loss: 0.7115 - mrcnn_class_loss: 0.1310 - mrcnn_bbox_loss: 0.1097 - mrcnn_mask_loss: 0.2654 - val_loss: 1.4960 - val_rpn_class_loss: 0.1659 - val_rpn_bbox_loss: 0.7597 - val_mrcnn_class_loss: 0.1559 - val_mrcnn_bbox_loss: 0.1320 - val_mrcnn_mask_loss: 0.2824\n",
      "Epoch 77/100\n",
      "100/100 [==============================] - 53s 528ms/step - loss: 1.3760 - rpn_class_loss: 0.1499 - rpn_bbox_loss: 0.7086 - mrcnn_class_loss: 0.1348 - mrcnn_bbox_loss: 0.1142 - mrcnn_mask_loss: 0.2684 - val_loss: 1.5330 - val_rpn_class_loss: 0.1913 - val_rpn_bbox_loss: 0.7537 - val_mrcnn_class_loss: 0.1578 - val_mrcnn_bbox_loss: 0.1380 - val_mrcnn_mask_loss: 0.2921\n",
      "Epoch 78/100\n",
      "100/100 [==============================] - 54s 540ms/step - loss: 1.3797 - rpn_class_loss: 0.1533 - rpn_bbox_loss: 0.7033 - mrcnn_class_loss: 0.1388 - mrcnn_bbox_loss: 0.1136 - mrcnn_mask_loss: 0.2708 - val_loss: 1.3828 - val_rpn_class_loss: 0.1614 - val_rpn_bbox_loss: 0.6689 - val_mrcnn_class_loss: 0.1473 - val_mrcnn_bbox_loss: 0.1268 - val_mrcnn_mask_loss: 0.2784\n",
      "Epoch 79/100\n",
      "100/100 [==============================] - 53s 530ms/step - loss: 1.3470 - rpn_class_loss: 0.1467 - rpn_bbox_loss: 0.6901 - mrcnn_class_loss: 0.1345 - mrcnn_bbox_loss: 0.1111 - mrcnn_mask_loss: 0.2647 - val_loss: 1.5907 - val_rpn_class_loss: 0.2036 - val_rpn_bbox_loss: 0.7540 - val_mrcnn_class_loss: 0.1866 - val_mrcnn_bbox_loss: 0.1454 - val_mrcnn_mask_loss: 0.3011\n",
      "Epoch 80/100\n",
      "100/100 [==============================] - 54s 540ms/step - loss: 1.3546 - rpn_class_loss: 0.1488 - rpn_bbox_loss: 0.6906 - mrcnn_class_loss: 0.1355 - mrcnn_bbox_loss: 0.1114 - mrcnn_mask_loss: 0.2682 - val_loss: 1.3996 - val_rpn_class_loss: 0.1593 - val_rpn_bbox_loss: 0.7156 - val_mrcnn_class_loss: 0.1504 - val_mrcnn_bbox_loss: 0.1144 - val_mrcnn_mask_loss: 0.2599\n",
      "Epoch 81/100\n",
      "100/100 [==============================] - 54s 537ms/step - loss: 1.3545 - rpn_class_loss: 0.1493 - rpn_bbox_loss: 0.6848 - mrcnn_class_loss: 0.1370 - mrcnn_bbox_loss: 0.1149 - mrcnn_mask_loss: 0.2685 - val_loss: 1.4103 - val_rpn_class_loss: 0.1716 - val_rpn_bbox_loss: 0.7059 - val_mrcnn_class_loss: 0.1352 - val_mrcnn_bbox_loss: 0.1277 - val_mrcnn_mask_loss: 0.2698\n",
      "Epoch 82/100\n",
      "100/100 [==============================] - 53s 532ms/step - loss: 1.3249 - rpn_class_loss: 0.1435 - rpn_bbox_loss: 0.6802 - mrcnn_class_loss: 0.1295 - mrcnn_bbox_loss: 0.1081 - mrcnn_mask_loss: 0.2636 - val_loss: 1.3807 - val_rpn_class_loss: 0.1449 - val_rpn_bbox_loss: 0.7103 - val_mrcnn_class_loss: 0.1311 - val_mrcnn_bbox_loss: 0.1271 - val_mrcnn_mask_loss: 0.2673\n",
      "Epoch 83/100\n",
      "100/100 [==============================] - 53s 532ms/step - loss: 1.3550 - rpn_class_loss: 0.1514 - rpn_bbox_loss: 0.6799 - mrcnn_class_loss: 0.1399 - mrcnn_bbox_loss: 0.1157 - mrcnn_mask_loss: 0.2682 - val_loss: 1.4806 - val_rpn_class_loss: 0.1856 - val_rpn_bbox_loss: 0.7273 - val_mrcnn_class_loss: 0.1376 - val_mrcnn_bbox_loss: 0.1381 - val_mrcnn_mask_loss: 0.2919\n",
      "Epoch 84/100\n",
      "100/100 [==============================] - 54s 536ms/step - loss: 1.3429 - rpn_class_loss: 0.1493 - rpn_bbox_loss: 0.6715 - mrcnn_class_loss: 0.1387 - mrcnn_bbox_loss: 0.1157 - mrcnn_mask_loss: 0.2676 - val_loss: 1.3791 - val_rpn_class_loss: 0.1628 - val_rpn_bbox_loss: 0.7013 - val_mrcnn_class_loss: 0.1308 - val_mrcnn_bbox_loss: 0.1054 - val_mrcnn_mask_loss: 0.2789\n",
      "Epoch 85/100\n",
      "100/100 [==============================] - 53s 530ms/step - loss: 1.3391 - rpn_class_loss: 0.1499 - rpn_bbox_loss: 0.6704 - mrcnn_class_loss: 0.1363 - mrcnn_bbox_loss: 0.1149 - mrcnn_mask_loss: 0.2676 - val_loss: 1.3762 - val_rpn_class_loss: 0.1517 - val_rpn_bbox_loss: 0.6873 - val_mrcnn_class_loss: 0.1389 - val_mrcnn_bbox_loss: 0.1227 - val_mrcnn_mask_loss: 0.2757\n",
      "Epoch 86/100\n",
      "100/100 [==============================] - 54s 541ms/step - loss: 1.3366 - rpn_class_loss: 0.1516 - rpn_bbox_loss: 0.6650 - mrcnn_class_loss: 0.1382 - mrcnn_bbox_loss: 0.1146 - mrcnn_mask_loss: 0.2672 - val_loss: 1.3466 - val_rpn_class_loss: 0.1445 - val_rpn_bbox_loss: 0.7153 - val_mrcnn_class_loss: 0.1265 - val_mrcnn_bbox_loss: 0.0985 - val_mrcnn_mask_loss: 0.2618\n",
      "Epoch 87/100\n",
      "100/100 [==============================] - 53s 529ms/step - loss: 1.3371 - rpn_class_loss: 0.1512 - rpn_bbox_loss: 0.6611 - mrcnn_class_loss: 0.1382 - mrcnn_bbox_loss: 0.1166 - mrcnn_mask_loss: 0.2699 - val_loss: 1.4281 - val_rpn_class_loss: 0.1822 - val_rpn_bbox_loss: 0.6768 - val_mrcnn_class_loss: 0.1493 - val_mrcnn_bbox_loss: 0.1319 - val_mrcnn_mask_loss: 0.2879\n",
      "Epoch 88/100\n",
      "100/100 [==============================] - 54s 544ms/step - loss: 1.3155 - rpn_class_loss: 0.1453 - rpn_bbox_loss: 0.6527 - mrcnn_class_loss: 0.1374 - mrcnn_bbox_loss: 0.1140 - mrcnn_mask_loss: 0.2662 - val_loss: 1.4276 - val_rpn_class_loss: 0.1618 - val_rpn_bbox_loss: 0.7202 - val_mrcnn_class_loss: 0.1396 - val_mrcnn_bbox_loss: 0.1258 - val_mrcnn_mask_loss: 0.2802\n",
      "Epoch 89/100\n",
      "100/100 [==============================] - 53s 532ms/step - loss: 1.3105 - rpn_class_loss: 0.1447 - rpn_bbox_loss: 0.6533 - mrcnn_class_loss: 0.1357 - mrcnn_bbox_loss: 0.1115 - mrcnn_mask_loss: 0.2654 - val_loss: 1.4184 - val_rpn_class_loss: 0.1728 - val_rpn_bbox_loss: 0.7048 - val_mrcnn_class_loss: 0.1350 - val_mrcnn_bbox_loss: 0.1216 - val_mrcnn_mask_loss: 0.2842\n",
      "Epoch 90/100\n",
      "100/100 [==============================] - 54s 539ms/step - loss: 1.2957 - rpn_class_loss: 0.1453 - rpn_bbox_loss: 0.6407 - mrcnn_class_loss: 0.1361 - mrcnn_bbox_loss: 0.1104 - mrcnn_mask_loss: 0.2632 - val_loss: 1.3674 - val_rpn_class_loss: 0.1581 - val_rpn_bbox_loss: 0.6858 - val_mrcnn_class_loss: 0.1477 - val_mrcnn_bbox_loss: 0.1081 - val_mrcnn_mask_loss: 0.2678\n",
      "Epoch 91/100\n",
      "100/100 [==============================] - 53s 534ms/step - loss: 1.3294 - rpn_class_loss: 0.1536 - rpn_bbox_loss: 0.6531 - mrcnn_class_loss: 0.1397 - mrcnn_bbox_loss: 0.1147 - mrcnn_mask_loss: 0.2683 - val_loss: 1.4213 - val_rpn_class_loss: 0.1846 - val_rpn_bbox_loss: 0.6568 - val_mrcnn_class_loss: 0.1518 - val_mrcnn_bbox_loss: 0.1345 - val_mrcnn_mask_loss: 0.2936\n",
      "Epoch 92/100\n",
      "100/100 [==============================] - 52s 524ms/step - loss: 1.3115 - rpn_class_loss: 0.1481 - rpn_bbox_loss: 0.6420 - mrcnn_class_loss: 0.1382 - mrcnn_bbox_loss: 0.1149 - mrcnn_mask_loss: 0.2683 - val_loss: 1.3437 - val_rpn_class_loss: 0.1623 - val_rpn_bbox_loss: 0.6350 - val_mrcnn_class_loss: 0.1467 - val_mrcnn_bbox_loss: 0.1155 - val_mrcnn_mask_loss: 0.2843\n",
      "Epoch 93/100\n",
      "100/100 [==============================] - 53s 531ms/step - loss: 1.3009 - rpn_class_loss: 0.1491 - rpn_bbox_loss: 0.6344 - mrcnn_class_loss: 0.1371 - mrcnn_bbox_loss: 0.1134 - mrcnn_mask_loss: 0.2669 - val_loss: 1.4495 - val_rpn_class_loss: 0.1757 - val_rpn_bbox_loss: 0.6890 - val_mrcnn_class_loss: 0.1591 - val_mrcnn_bbox_loss: 0.1467 - val_mrcnn_mask_loss: 0.2790\n",
      "Epoch 94/100\n",
      "100/100 [==============================] - 54s 539ms/step - loss: 1.2837 - rpn_class_loss: 0.1450 - rpn_bbox_loss: 0.6308 - mrcnn_class_loss: 0.1317 - mrcnn_bbox_loss: 0.1107 - mrcnn_mask_loss: 0.2655 - val_loss: 1.3754 - val_rpn_class_loss: 0.1603 - val_rpn_bbox_loss: 0.6676 - val_mrcnn_class_loss: 0.1265 - val_mrcnn_bbox_loss: 0.1335 - val_mrcnn_mask_loss: 0.2876\n",
      "Epoch 95/100\n",
      "100/100 [==============================] - 53s 535ms/step - loss: 1.2963 - rpn_class_loss: 0.1481 - rpn_bbox_loss: 0.6282 - mrcnn_class_loss: 0.1351 - mrcnn_bbox_loss: 0.1154 - mrcnn_mask_loss: 0.2694 - val_loss: 1.3913 - val_rpn_class_loss: 0.1795 - val_rpn_bbox_loss: 0.6473 - val_mrcnn_class_loss: 0.1469 - val_mrcnn_bbox_loss: 0.1290 - val_mrcnn_mask_loss: 0.2885\n",
      "Epoch 96/100\n",
      "100/100 [==============================] - 54s 543ms/step - loss: 1.2532 - rpn_class_loss: 0.1393 - rpn_bbox_loss: 0.6174 - mrcnn_class_loss: 0.1266 - mrcnn_bbox_loss: 0.1070 - mrcnn_mask_loss: 0.2629 - val_loss: 1.3615 - val_rpn_class_loss: 0.1655 - val_rpn_bbox_loss: 0.6418 - val_mrcnn_class_loss: 0.1490 - val_mrcnn_bbox_loss: 0.1321 - val_mrcnn_mask_loss: 0.2731\n",
      "Epoch 97/100\n",
      "100/100 [==============================] - 54s 541ms/step - loss: 1.2705 - rpn_class_loss: 0.1454 - rpn_bbox_loss: 0.6163 - mrcnn_class_loss: 0.1331 - mrcnn_bbox_loss: 0.1122 - mrcnn_mask_loss: 0.2636 - val_loss: 1.4542 - val_rpn_class_loss: 0.1927 - val_rpn_bbox_loss: 0.6666 - val_mrcnn_class_loss: 0.1569 - val_mrcnn_bbox_loss: 0.1398 - val_mrcnn_mask_loss: 0.2982\n",
      "Epoch 98/100\n",
      "100/100 [==============================] - 53s 527ms/step - loss: 1.2888 - rpn_class_loss: 0.1490 - rpn_bbox_loss: 0.6220 - mrcnn_class_loss: 0.1363 - mrcnn_bbox_loss: 0.1138 - mrcnn_mask_loss: 0.2678 - val_loss: 1.3182 - val_rpn_class_loss: 0.1459 - val_rpn_bbox_loss: 0.6382 - val_mrcnn_class_loss: 0.1418 - val_mrcnn_bbox_loss: 0.1193 - val_mrcnn_mask_loss: 0.2730\n",
      "Epoch 99/100\n",
      "100/100 [==============================] - 55s 546ms/step - loss: 1.2799 - rpn_class_loss: 0.1495 - rpn_bbox_loss: 0.6139 - mrcnn_class_loss: 0.1335 - mrcnn_bbox_loss: 0.1132 - mrcnn_mask_loss: 0.2697 - val_loss: 1.4518 - val_rpn_class_loss: 0.1864 - val_rpn_bbox_loss: 0.6497 - val_mrcnn_class_loss: 0.1681 - val_mrcnn_bbox_loss: 0.1469 - val_mrcnn_mask_loss: 0.3007\n",
      "Epoch 100/100\n",
      "100/100 [==============================] - 52s 522ms/step - loss: 1.2724 - rpn_class_loss: 0.1482 - rpn_bbox_loss: 0.6055 - mrcnn_class_loss: 0.1350 - mrcnn_bbox_loss: 0.1152 - mrcnn_mask_loss: 0.2684 - val_loss: 1.3342 - val_rpn_class_loss: 0.1481 - val_rpn_bbox_loss: 0.6412 - val_mrcnn_class_loss: 0.1463 - val_mrcnn_bbox_loss: 0.1197 - val_mrcnn_mask_loss: 0.2788\n"
     ]
    }
   ],
   "source": [
    "# Fine tune all layers\n",
    "# Passing layers=\"all\" trains all layers. You can also \n",
    "# pass a regular expression to select which layers to\n",
    "# train by name pattern.\n",
    "model.train(eddy_train, eddy_val, \n",
    "            learning_rate=e_config.LEARNING_RATE / 10,\n",
    "            epochs=100, \n",
    "            layers=\"all\")"
   ]
  },
  {
   "cell_type": "code",
   "execution_count": 24,
   "metadata": {
    "collapsed": true
   },
   "outputs": [],
   "source": [
    "# Save weights\n",
    "# Typically not needed because callbacks save after every epoch\n",
    "# Uncomment to save manually\n",
    "# model_path = os.path.join(MODEL_DIR, \"mask_rcnn_eddy.h5\")\n",
    "# model.keras_model.save_weights(model_path)"
   ]
  },
  {
   "cell_type": "markdown",
   "metadata": {},
   "source": [
    "## Detection"
   ]
  },
  {
   "cell_type": "code",
   "execution_count": 90,
   "metadata": {},
   "outputs": [
    {
     "name": "stdout",
     "output_type": "stream",
     "text": [
      "Loading weights from  /home/ouc/whx/eddy_detection/mrcnn/Mask_RCNN/logs/eddies20181209T2129/mask_rcnn_eddies_0100.h5\n",
      "Re-starting from epoch 100\n"
     ]
    }
   ],
   "source": [
    "class InferenceConfig(EddyConfig):\n",
    "    GPU_COUNT = 1\n",
    "    IMAGES_PER_GPU = 1\n",
    "\n",
    "inference_config = InferenceConfig()\n",
    "\n",
    "# Recreate the model in inference mode\n",
    "model = modellib.MaskRCNN(mode=\"inference\", \n",
    "                          config=inference_config,\n",
    "                          model_dir=MODEL_DIR)\n",
    "\n",
    "# Get path to saved weights\n",
    "# Either set a specific path or find last trained weights\n",
    "# model_path = os.path.join(ROOT_DIR, \".h5 file name here\")\n",
    "model_path = model.find_last()\n",
    "\n",
    "# Load trained weights\n",
    "print(\"Loading weights from \", model_path)\n",
    "model.load_weights(model_path, by_name=True)"
   ]
  },
  {
   "cell_type": "code",
   "execution_count": null,
   "metadata": {
    "collapsed": true
   },
   "outputs": [],
   "source": []
  },
  {
   "cell_type": "code",
   "execution_count": 91,
   "metadata": {},
   "outputs": [
    {
     "name": "stdout",
     "output_type": "stream",
     "text": [
      "original_image           shape: (128, 128, 3)         min:    0.00000  max:  255.00000  int64\n",
      "image_meta               shape: (15,)                 min:    0.00000  max:  128.00000  int64\n",
      "gt_class_id              shape: (11,)                 min:    1.00000  max:    2.00000  int32\n",
      "gt_bbox                  shape: (11, 4)               min:    1.00000  max:  128.00000  int32\n",
      "gt_mask                  shape: (128, 128, 11)        min:    0.00000  max:    1.00000  bool\n",
      "(128, 128, 3)\n",
      "(11, 4)\n",
      "(128, 128, 11)\n",
      "(11,)\n",
      "(128, 128, 3)\n"
     ]
    },
    {
     "data": {
      "image/png": "[encoded data removed]",
      "text/plain": [
       "<matplotlib.figure.Figure at 0x7faf9082dfd0>"
      ]
     },
     "metadata": {},
     "output_type": "display_data"
    },
    {
     "data": {
      "image/png": "[encoded data removed]",
      "text/plain": [
       "<matplotlib.figure.Figure at 0x7faf0a046ba8>"
      ]
     },
     "metadata": {},
     "output_type": "display_data"
    }
   ],
   "source": [
    "# Test on a random image\n",
    "# image_id = random.choice(eddy_val.image_ids)\n",
    "image_id = 45\n",
    "original_image, image_meta, gt_class_id, gt_bbox, gt_mask =\\\n",
    "    modellib.load_image_gt(eddy_val, inference_config, \n",
    "                           image_id, use_mini_mask=False)\n",
    "\n",
    "log(\"original_image\", original_image)\n",
    "log(\"image_meta\", image_meta)\n",
    "log(\"gt_class_id\", gt_class_id)\n",
    "log(\"gt_bbox\", gt_bbox)\n",
    "log(\"gt_mask\", gt_mask)\n",
    "print(original_image.shape)\n",
    "print(gt_bbox.shape)\n",
    "print(gt_mask.shape)\n",
    "print(gt_class_id.shape)\n",
    "\n",
    "original_image = eddy_val.load_orig_image(image_id)\n",
    "original_image1 = ssh_convert_to_image(original_image)\n",
    "\n",
    "visualize.display_instances(original_image1, gt_bbox, gt_mask, gt_class_id, \n",
    "                            eddy_train.class_names, figsize=(8, 8))"
   ]
  },
  {
   "cell_type": "code",
   "execution_count": 92,
   "metadata": {
    "scrolled": false
   },
   "outputs": [
    {
     "name": "stdout",
     "output_type": "stream",
     "text": [
      "Processing 1 images\n",
      "image                    shape: (128, 128, 3)         min:    0.00000  max:  255.00000  int64\n",
      "molded_images            shape: (1, 128, 128, 3)      min: -123.70000  max:  151.10000  float64\n",
      "image_metas              shape: (1, 15)               min:    0.00000  max:  128.00000  int64\n",
      "anchors                  shape: (1, 4092, 4)          min:   -0.35634  max:    0.99077  float32\n"
     ]
    },
    {
     "data": {
      "image/png": "[encoded data removed]",
      "text/plain": [
       "<matplotlib.figure.Figure at 0x7faf9082df28>"
      ]
     },
     "metadata": {},
     "output_type": "display_data"
    }
   ],
   "source": [
    "train_ssh = eddy_train.load_image(image_id)\n",
    "results = model.detect([train_ssh], verbose=1)\n",
    "\n",
    "r = results[0]\n",
    "#print(r)\n",
    "confidence = 0.96\n",
    "scores = r['scores']\n",
    "del_index = []\n",
    "\n",
    "for i in range(len(scores)):\n",
    "    if scores[i] < confidence:\n",
    "        del_index.append(i)\n",
    "#print(del_index)\n",
    "\n",
    "r['rois'] = np.delete(r['rois'],del_index,axis = 0)\n",
    "r['masks'] = np.delete(r['masks'],del_index,axis = -1)\n",
    "r['class_ids'] = np.delete(r['class_ids'],del_index,axis = 0)\n",
    "r['scores'] = np.delete(r['scores'],del_index,axis = 0)\n",
    "\n",
    "\n",
    "visualize.display_instances(original_image1, r['rois'], r['masks'], r['class_ids'], \n",
    "                            eddy_val.class_names, r['scores'], ax=get_ax())"
   ]
  },
  {
   "cell_type": "code",
   "execution_count": null,
   "metadata": {
    "collapsed": true
   },
   "outputs": [],
   "source": [
    "# fake EddyNet\n",
    "\n",
    "train_ssh = eddy_train.load_image(image_id)\n",
    "results = model.detect([train_ssh], verbose=1)\n",
    "\n",
    "r = results[0]\n",
    "# print(r)\n",
    "confidence = 0.80\n",
    "scores = r['scores']\n",
    "del_index = []\n",
    "\n",
    "for i in range(len(scores)):\n",
    "    if scores[i] < confidence:\n",
    "        del_index.append(i)\n",
    "#print(del_index)\n",
    "\n",
    "r['rois'] = np.delete(r['rois'],del_index,axis = 0)\n",
    "r['masks'] = np.delete(r['masks'],del_index,axis = -1)\n",
    "r['class_ids'] = np.delete(r['class_ids'],del_index,axis = 0)\n",
    "r['scores'] = np.delete(r['scores'],del_index,axis = 0)\n",
    "\n",
    "\n",
    "visualize.display_instances(original_image1, r['rois'], r['masks'], r['class_ids'], \n",
    "                            eddy_val.class_names, r['scores'], ax=get_ax())"
   ]
  },
  {
   "cell_type": "markdown",
   "metadata": {},
   "source": [
    "## Evaluation"
   ]
  },
  {
   "cell_type": "code",
   "execution_count": 24,
   "metadata": {},
   "outputs": [
    {
     "name": "stdout",
     "output_type": "stream",
     "text": [
      "mAP:  0.6487062866167872\n"
     ]
    }
   ],
   "source": [
    "# Compute VOC-Style mAP @ IoU=0.5\n",
    "# Running on 10 images. Increase for better accuracy.\n",
    "image_ids = np.random.choice(eddy_val.image_ids, 80)\n",
    "APs = []\n",
    "for image_id in image_ids:\n",
    "    # Load image and ground truth data\n",
    "    image, image_meta, gt_class_id, gt_bbox, gt_mask =\\\n",
    "        modellib.load_image_gt(eddy_val, inference_config,\n",
    "                               image_id, use_mini_mask=False)\n",
    "    molded_images = np.expand_dims(modellib.mold_image(image, inference_config), 0)\n",
    "    # Run object detection\n",
    "    results = model.detect([image], verbose=0)\n",
    "    r = results[0]\n",
    "    # Compute AP\n",
    "    AP, precisions, recalls, overlaps =\\\n",
    "        utils.compute_ap(gt_bbox, gt_class_id, gt_mask,\n",
    "                         r[\"rois\"], r[\"class_ids\"], r[\"scores\"], r['masks'])\n",
    "    APs.append(AP)\n",
    "    \n",
    "print(\"mAP: \", np.mean(APs))"
   ]
  },
  {
   "cell_type": "code",
   "execution_count": null,
   "metadata": {
    "collapsed": true
   },
   "outputs": [],
   "source": []
  },
  {
   "cell_type": "markdown",
   "metadata": {},
   "source": [
    "# anchor scale 没改之前\n",
    "mAP:  0.0811868091779902\n",
    "\n",
    "epoch：\n",
    "# anchor scale 更改之后\n",
    "mAP:  0.2939656484731303\n",
    "\n",
    "epoch： 10+20"
   ]
  },
  {
   "cell_type": "code",
   "execution_count": 38,
   "metadata": {},
   "outputs": [
    {
     "data": {
      "text/plain": [
       "135"
      ]
     },
     "execution_count": 38,
     "metadata": {},
     "output_type": "execute_result"
    }
   ],
   "source": [
    "70----52\n",
    "80----55"
   ]
  },
  {
   "cell_type": "markdown",
   "metadata": {},
   "source": [
    "image_id = 45 confidence = 0.80 涡旋预测完全正确"
   ]
  },
  {
   "cell_type": "code",
   "execution_count": null,
   "metadata": {
    "collapsed": true
   },
   "outputs": [],
   "source": []
  }
 ],
 "metadata": {
  "kernelspec": {
   "display_name": "Python 3",
   "language": "python",
   "name": "python3"
  },
  "language_info": {
   "codemirror_mode": {
    "name": "ipython",
    "version": 3
   },
   "file_extension": ".py",
   "mimetype": "text/x-python",
   "name": "python",
   "nbconvert_exporter": "python",
   "pygments_lexer": "ipython3",
   "version": "3.6.8"
  }
 },
 "nbformat": 4,
 "nbformat_minor": 2
}
